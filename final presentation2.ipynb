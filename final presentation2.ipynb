{
 "cells": [
  {
   "cell_type": "code",
   "execution_count": 1,
   "metadata": {},
   "outputs": [
    {
     "name": "stdout",
     "output_type": "stream",
     "text": [
      "Enter password: ········\n"
     ]
    }
   ],
   "source": [
    "from arcgis import GIS\n",
    "from arcgis.raster import *\n",
    "from arcgis.geometry import *\n",
    "%matplotlib inline\n",
    "import pandas as pd\n",
    "import numpy as np\n",
    "gis = GIS(username=\"zhl541_dsc170fa20\", verify_cert=False) "
   ]
  },
  {
   "cell_type": "markdown",
   "metadata": {},
   "source": [
    "# Importing Data\n",
    "\n",
    "1. (arcgis layer) First layer comes from testing locations in the United States. since we are only interested in testing sites within SD county, we will use find existing locations to create a layer from the original layer that has county == San Diego.\n",
    "2. (Local shapefile from Sandorg) Census tract enriched with data, ethnicities (white population, black population, hispanic population, asian population, pacific islanders population, other population), total population, median income level, population over 65 years old. \n",
    "3. (arcgis layer) hospital points geometry layer in SD. "
   ]
  },
  {
   "cell_type": "code",
   "execution_count": 2,
   "metadata": {},
   "outputs": [
    {
     "data": {
      "text/html": [
       "<div class=\"item_container\" style=\"height: auto; overflow: hidden; border: 1px solid #cfcfcf; border-radius: 2px; background: #f6fafa; line-height: 1.21429em; padding: 10px;\">\n",
       "                    <div class=\"item_left\" style=\"width: 210px; float: left;\">\n",
       "                       <a href='https://UCSDOnline.maps.arcgis.com/home/item.html?id=11fe8f374c344549815a716c8472832f' target='_blank'>\n",
       "                        <img src='data:image/png;base64,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' width='200' height='133' class=\"itemThumbnail\">\n",
       "                       </a>\n",
       "                    </div>\n",
       "\n",
       "                    <div class=\"item_right\"     style=\"float: none; width: auto; overflow: hidden;\">\n",
       "                        <a href='https://UCSDOnline.maps.arcgis.com/home/item.html?id=11fe8f374c344549815a716c8472832f' target='_blank'><b>GISCorps COVID-19 Testing Locations in the United States Symbolized by Status</b>\n",
       "                        </a>\n",
       "                        <br/>COVID-19 testing locations in U.S. states and territories compiled and updated by GISCorps volunteers. Information is sourced from public information shared by health departments, local governments, and healthcare providers.<img src='https://UCSDOnline.maps.arcgis.com/home/js/jsapi/esri/css/images/item_type_icons/featureshosted16.png' style=\"vertical-align:middle;\">Feature Layer Collection by htorpey_GC\n",
       "                        <br/>Last Modified: December 09, 2020\n",
       "                        <br/>4 comments, 12,437,183 views\n",
       "                    </div>\n",
       "                </div>\n",
       "                "
      ],
      "text/plain": [
       "<Item title:\"GISCorps COVID-19 Testing Locations in the United States Symbolized by Status\" type:Feature Layer Collection owner:htorpey_GC>"
      ]
     },
     "execution_count": 2,
     "metadata": {},
     "output_type": "execute_result"
    }
   ],
   "source": [
    "\n",
    "testing_sites = gis.content.get('11fe8f374c344549815a716c8472832f')\n",
    "testing_sites"
   ]
  },
  {
   "cell_type": "code",
   "execution_count": 3,
   "metadata": {},
   "outputs": [],
   "source": [
    "testing_layer = testing_sites.layers[0]"
   ]
  },
  {
   "cell_type": "code",
   "execution_count": 4,
   "metadata": {},
   "outputs": [],
   "source": [
    "testing_sites_sdf = pd.DataFrame.spatial.from_layer(testing_layer)"
   ]
  },
  {
   "cell_type": "code",
   "execution_count": 5,
   "metadata": {},
   "outputs": [
    {
     "data": {
      "text/html": [
       "<div>\n",
       "<style scoped>\n",
       "    .dataframe tbody tr th:only-of-type {\n",
       "        vertical-align: middle;\n",
       "    }\n",
       "\n",
       "    .dataframe tbody tr th {\n",
       "        vertical-align: top;\n",
       "    }\n",
       "\n",
       "    .dataframe thead th {\n",
       "        text-align: right;\n",
       "    }\n",
       "</style>\n",
       "<table border=\"1\" class=\"dataframe\">\n",
       "  <thead>\n",
       "    <tr style=\"text-align: right;\">\n",
       "      <th></th>\n",
       "      <th>OBJECTID</th>\n",
       "      <th>facilityid</th>\n",
       "      <th>name</th>\n",
       "      <th>fulladdr</th>\n",
       "      <th>municipality</th>\n",
       "      <th>agency</th>\n",
       "      <th>agencytype</th>\n",
       "      <th>phone</th>\n",
       "      <th>agencyurl</th>\n",
       "      <th>operhours</th>\n",
       "      <th>...</th>\n",
       "      <th>vehicle_required</th>\n",
       "      <th>facility_type</th>\n",
       "      <th>Outside_FID</th>\n",
       "      <th>filter</th>\n",
       "      <th>minimum_age</th>\n",
       "      <th>Same_Day_Results</th>\n",
       "      <th>take_home_test</th>\n",
       "      <th>Wheelchair_Accessible</th>\n",
       "      <th>Accessibility_Support</th>\n",
       "      <th>SHAPE</th>\n",
       "    </tr>\n",
       "  </thead>\n",
       "  <tbody>\n",
       "    <tr>\n",
       "      <th>1109</th>\n",
       "      <td>1708</td>\n",
       "      <td>None</td>\n",
       "      <td>San Diego County Public Health Laboratory</td>\n",
       "      <td>3851 Rosecrans Street Suite 716, San Diego, CA...</td>\n",
       "      <td>San Diego</td>\n",
       "      <td>San Diego County Department of Public Health</td>\n",
       "      <td>County</td>\n",
       "      <td>619-692-8500</td>\n",
       "      <td>https://www.sandiegocounty.gov/hhsa/programs/p...</td>\n",
       "      <td>Monday - Friday 8 AM - 4 PM</td>\n",
       "      <td>...</td>\n",
       "      <td>None</td>\n",
       "      <td>Public Health Department</td>\n",
       "      <td>NaN</td>\n",
       "      <td>None</td>\n",
       "      <td>NaN</td>\n",
       "      <td>None</td>\n",
       "      <td>No</td>\n",
       "      <td>None</td>\n",
       "      <td>None</td>\n",
       "      <td>{\"x\": -13046842.1711, \"y\": 3862542.846199997, ...</td>\n",
       "    </tr>\n",
       "    <tr>\n",
       "      <th>1114</th>\n",
       "      <td>1718</td>\n",
       "      <td>None</td>\n",
       "      <td>Drive-Thru Screening Station at SDCCU Stadium</td>\n",
       "      <td>9449 Friars Rd, San Diego, CA 92108</td>\n",
       "      <td>San Diego</td>\n",
       "      <td>San Diego County Department of Public Health</td>\n",
       "      <td>County</td>\n",
       "      <td>(619) 692-8499</td>\n",
       "      <td>https://www.sandiegocounty.gov/content/sdc/hhs...</td>\n",
       "      <td>Monday - Saturday</td>\n",
       "      <td>...</td>\n",
       "      <td>None</td>\n",
       "      <td>Outdoor</td>\n",
       "      <td>NaN</td>\n",
       "      <td>None</td>\n",
       "      <td>NaN</td>\n",
       "      <td>None</td>\n",
       "      <td>No</td>\n",
       "      <td>None</td>\n",
       "      <td>None</td>\n",
       "      <td>{\"x\": -13037768.3779, \"y\": 3866356.7286000033,...</td>\n",
       "    </tr>\n",
       "    <tr>\n",
       "      <th>1298</th>\n",
       "      <td>1996</td>\n",
       "      <td>None</td>\n",
       "      <td>Scripps Clinic Torrey Pines</td>\n",
       "      <td>10710 North Torrey Pines Rd.La Jolla, CA 92037</td>\n",
       "      <td>San Diego</td>\n",
       "      <td>Scripps Health</td>\n",
       "      <td>Non Profit</td>\n",
       "      <td>888-261-8431</td>\n",
       "      <td>https://www.scripps.org/locations/scripps-clin...</td>\n",
       "      <td>Monday -Friday 7am -7pm; Saturday 8am-noon</td>\n",
       "      <td>...</td>\n",
       "      <td>None</td>\n",
       "      <td>Clinic</td>\n",
       "      <td>NaN</td>\n",
       "      <td>None</td>\n",
       "      <td>NaN</td>\n",
       "      <td>None</td>\n",
       "      <td>No</td>\n",
       "      <td>None</td>\n",
       "      <td>None</td>\n",
       "      <td>{\"x\": -13051343.7795, \"y\": 3881834.6008, \"spat...</td>\n",
       "    </tr>\n",
       "    <tr>\n",
       "      <th>1575</th>\n",
       "      <td>2323</td>\n",
       "      <td>None</td>\n",
       "      <td>Perlman Clinic Del Mar</td>\n",
       "      <td>12843 El Camino Real Suite 203, San Diego, CA ...</td>\n",
       "      <td>San Diego</td>\n",
       "      <td>Perlman Clinic</td>\n",
       "      <td>Private</td>\n",
       "      <td>858-558-0399</td>\n",
       "      <td>https://perlmanclinic.com/urgent-care-del-mar/</td>\n",
       "      <td>Monday - Friday: 8AM - 5 PM; Saturday: 8AM - 4...</td>\n",
       "      <td>...</td>\n",
       "      <td>None</td>\n",
       "      <td>Clinic</td>\n",
       "      <td>NaN</td>\n",
       "      <td>None</td>\n",
       "      <td>NaN</td>\n",
       "      <td>None</td>\n",
       "      <td>No</td>\n",
       "      <td>None</td>\n",
       "      <td>None</td>\n",
       "      <td>{\"x\": -13050488.9627, \"y\": 3888795.7251999974,...</td>\n",
       "    </tr>\n",
       "    <tr>\n",
       "      <th>1590</th>\n",
       "      <td>2339</td>\n",
       "      <td>None</td>\n",
       "      <td>Perlman Clinic San Diego</td>\n",
       "      <td>3900 Fifth Ave #110 San Diego, CA 92103</td>\n",
       "      <td>San Diego</td>\n",
       "      <td>Perlman Clinic</td>\n",
       "      <td>Private</td>\n",
       "      <td>858-554-1212</td>\n",
       "      <td>https://perlmanclinic.com/urgent-care-hillcrest/</td>\n",
       "      <td>Monday - Friday: 8 AM - 7 PM; Saturday: 8 AM -...</td>\n",
       "      <td>...</td>\n",
       "      <td>None</td>\n",
       "      <td>Clinic</td>\n",
       "      <td>NaN</td>\n",
       "      <td>None</td>\n",
       "      <td>NaN</td>\n",
       "      <td>None</td>\n",
       "      <td>No</td>\n",
       "      <td>None</td>\n",
       "      <td>None</td>\n",
       "      <td>{\"x\": -13042282.211557131, \"y\": 3862032.989200...</td>\n",
       "    </tr>\n",
       "    <tr>\n",
       "      <th>...</th>\n",
       "      <td>...</td>\n",
       "      <td>...</td>\n",
       "      <td>...</td>\n",
       "      <td>...</td>\n",
       "      <td>...</td>\n",
       "      <td>...</td>\n",
       "      <td>...</td>\n",
       "      <td>...</td>\n",
       "      <td>...</td>\n",
       "      <td>...</td>\n",
       "      <td>...</td>\n",
       "      <td>...</td>\n",
       "      <td>...</td>\n",
       "      <td>...</td>\n",
       "      <td>...</td>\n",
       "      <td>...</td>\n",
       "      <td>...</td>\n",
       "      <td>...</td>\n",
       "      <td>...</td>\n",
       "      <td>...</td>\n",
       "      <td>...</td>\n",
       "    </tr>\n",
       "    <tr>\n",
       "      <th>31640</th>\n",
       "      <td>44015</td>\n",
       "      <td>None</td>\n",
       "      <td>County Fire - Chicano Federation: Central Office</td>\n",
       "      <td>3180 University Ave, San Diego, CA 92104</td>\n",
       "      <td>San Diego</td>\n",
       "      <td>San Diego County &amp; Partners</td>\n",
       "      <td>County</td>\n",
       "      <td>None</td>\n",
       "      <td>https://www.sandiegocounty.gov/content/sdc/hhs...</td>\n",
       "      <td>Dec 5, 9 AM - 3 PM</td>\n",
       "      <td>...</td>\n",
       "      <td>No</td>\n",
       "      <td>Mobile</td>\n",
       "      <td>NaN</td>\n",
       "      <td>None</td>\n",
       "      <td>NaN</td>\n",
       "      <td>No</td>\n",
       "      <td>No</td>\n",
       "      <td>None</td>\n",
       "      <td>None</td>\n",
       "      <td>{\"x\": -13038358.260732371, \"y\": 3862013.770200...</td>\n",
       "    </tr>\n",
       "    <tr>\n",
       "      <th>31641</th>\n",
       "      <td>44016</td>\n",
       "      <td>None</td>\n",
       "      <td>County Fire - Richard Stringham Building</td>\n",
       "      <td>451 Tecate Rd, Tecate, CA 91980</td>\n",
       "      <td>Tecate</td>\n",
       "      <td>None</td>\n",
       "      <td>County</td>\n",
       "      <td>None</td>\n",
       "      <td>https://www.sandiegocounty.gov/content/sdc/hhs...</td>\n",
       "      <td>Dec 5, 9 AM - 3 PM</td>\n",
       "      <td>...</td>\n",
       "      <td>No</td>\n",
       "      <td>Mobile</td>\n",
       "      <td>NaN</td>\n",
       "      <td>None</td>\n",
       "      <td>NaN</td>\n",
       "      <td>No</td>\n",
       "      <td>No</td>\n",
       "      <td>None</td>\n",
       "      <td>None</td>\n",
       "      <td>{\"x\": -12983046.348161316, \"y\": 3839551.265526...</td>\n",
       "    </tr>\n",
       "    <tr>\n",
       "      <th>31642</th>\n",
       "      <td>44017</td>\n",
       "      <td>None</td>\n",
       "      <td>St. Leo Mission Church</td>\n",
       "      <td>936 Genevieve St, Solana Beach, CA 92075</td>\n",
       "      <td>Solana Beach</td>\n",
       "      <td>San Diego County &amp; Partners</td>\n",
       "      <td>County</td>\n",
       "      <td>None</td>\n",
       "      <td>https://www.sandiegocounty.gov/content/sdc/hhs...</td>\n",
       "      <td>Saturdays: 8:30 AM - 3:30 PM</td>\n",
       "      <td>...</td>\n",
       "      <td>Yes</td>\n",
       "      <td>Outdoor</td>\n",
       "      <td>NaN</td>\n",
       "      <td>None</td>\n",
       "      <td>NaN</td>\n",
       "      <td>No</td>\n",
       "      <td>No</td>\n",
       "      <td>None</td>\n",
       "      <td>None</td>\n",
       "      <td>{\"x\": -13052982.786049496, \"y\": 3893931.151359...</td>\n",
       "    </tr>\n",
       "    <tr>\n",
       "      <th>31681</th>\n",
       "      <td>44057</td>\n",
       "      <td>None</td>\n",
       "      <td>One Medical - Carlsbad</td>\n",
       "      <td>7740 El Camino Real Suite F, Carlsbad, CA 92009</td>\n",
       "      <td>Carlsbad</td>\n",
       "      <td>1Life Healthcare, Inc.</td>\n",
       "      <td>Private</td>\n",
       "      <td>None</td>\n",
       "      <td>https://www.onemedical.com/blog/live-well/covi...</td>\n",
       "      <td>By appointment only</td>\n",
       "      <td>...</td>\n",
       "      <td>No</td>\n",
       "      <td>Clinic</td>\n",
       "      <td>NaN</td>\n",
       "      <td>None</td>\n",
       "      <td>NaN</td>\n",
       "      <td>No</td>\n",
       "      <td>No</td>\n",
       "      <td>None</td>\n",
       "      <td>None</td>\n",
       "      <td>{\"x\": -13054094.1219, \"y\": 3906330.2924000025,...</td>\n",
       "    </tr>\n",
       "    <tr>\n",
       "      <th>31682</th>\n",
       "      <td>44058</td>\n",
       "      <td>None</td>\n",
       "      <td>One Medical - Downtown San Diego</td>\n",
       "      <td>1230 Columbia Street Suite 100, San Diego, CA ...</td>\n",
       "      <td>San Diego</td>\n",
       "      <td>1Life Healthcare, Inc.</td>\n",
       "      <td>Private</td>\n",
       "      <td>None</td>\n",
       "      <td>https://www.onemedical.com/blog/live-well/covi...</td>\n",
       "      <td>By appointment only</td>\n",
       "      <td>...</td>\n",
       "      <td>No</td>\n",
       "      <td>Clinic</td>\n",
       "      <td>NaN</td>\n",
       "      <td>None</td>\n",
       "      <td>NaN</td>\n",
       "      <td>No</td>\n",
       "      <td>No</td>\n",
       "      <td>None</td>\n",
       "      <td>None</td>\n",
       "      <td>{\"x\": -13043048.2673, \"y\": 3857952.145199999, ...</td>\n",
       "    </tr>\n",
       "  </tbody>\n",
       "</table>\n",
       "<p>299 rows × 47 columns</p>\n",
       "</div>"
      ],
      "text/plain": [
       "       OBJECTID facilityid                                              name  \\\n",
       "1109       1708       None         San Diego County Public Health Laboratory   \n",
       "1114       1718       None     Drive-Thru Screening Station at SDCCU Stadium   \n",
       "1298       1996       None                       Scripps Clinic Torrey Pines   \n",
       "1575       2323       None                            Perlman Clinic Del Mar   \n",
       "1590       2339       None                          Perlman Clinic San Diego   \n",
       "...         ...        ...                                               ...   \n",
       "31640     44015       None  County Fire - Chicano Federation: Central Office   \n",
       "31641     44016       None          County Fire - Richard Stringham Building   \n",
       "31642     44017       None                            St. Leo Mission Church   \n",
       "31681     44057       None                            One Medical - Carlsbad   \n",
       "31682     44058       None                  One Medical - Downtown San Diego   \n",
       "\n",
       "                                                fulladdr  municipality  \\\n",
       "1109   3851 Rosecrans Street Suite 716, San Diego, CA...     San Diego   \n",
       "1114                 9449 Friars Rd, San Diego, CA 92108     San Diego   \n",
       "1298      10710 North Torrey Pines Rd.La Jolla, CA 92037     San Diego   \n",
       "1575   12843 El Camino Real Suite 203, San Diego, CA ...     San Diego   \n",
       "1590             3900 Fifth Ave #110 San Diego, CA 92103     San Diego   \n",
       "...                                                  ...           ...   \n",
       "31640           3180 University Ave, San Diego, CA 92104     San Diego   \n",
       "31641                    451 Tecate Rd, Tecate, CA 91980        Tecate   \n",
       "31642           936 Genevieve St, Solana Beach, CA 92075  Solana Beach   \n",
       "31681    7740 El Camino Real Suite F, Carlsbad, CA 92009      Carlsbad   \n",
       "31682  1230 Columbia Street Suite 100, San Diego, CA ...     San Diego   \n",
       "\n",
       "                                             agency  agencytype  \\\n",
       "1109   San Diego County Department of Public Health      County   \n",
       "1114   San Diego County Department of Public Health      County   \n",
       "1298                                 Scripps Health  Non Profit   \n",
       "1575                                 Perlman Clinic     Private   \n",
       "1590                                 Perlman Clinic     Private   \n",
       "...                                             ...         ...   \n",
       "31640                   San Diego County & Partners      County   \n",
       "31641                                          None      County   \n",
       "31642                   San Diego County & Partners      County   \n",
       "31681                        1Life Healthcare, Inc.     Private   \n",
       "31682                        1Life Healthcare, Inc.     Private   \n",
       "\n",
       "                phone                                          agencyurl  \\\n",
       "1109     619-692-8500  https://www.sandiegocounty.gov/hhsa/programs/p...   \n",
       "1114   (619) 692-8499  https://www.sandiegocounty.gov/content/sdc/hhs...   \n",
       "1298     888-261-8431  https://www.scripps.org/locations/scripps-clin...   \n",
       "1575     858-558-0399     https://perlmanclinic.com/urgent-care-del-mar/   \n",
       "1590     858-554-1212   https://perlmanclinic.com/urgent-care-hillcrest/   \n",
       "...               ...                                                ...   \n",
       "31640            None  https://www.sandiegocounty.gov/content/sdc/hhs...   \n",
       "31641            None  https://www.sandiegocounty.gov/content/sdc/hhs...   \n",
       "31642            None  https://www.sandiegocounty.gov/content/sdc/hhs...   \n",
       "31681            None  https://www.onemedical.com/blog/live-well/covi...   \n",
       "31682            None  https://www.onemedical.com/blog/live-well/covi...   \n",
       "\n",
       "                                               operhours  ...  \\\n",
       "1109                         Monday - Friday 8 AM - 4 PM  ...   \n",
       "1114                                   Monday - Saturday  ...   \n",
       "1298          Monday -Friday 7am -7pm; Saturday 8am-noon  ...   \n",
       "1575   Monday - Friday: 8AM - 5 PM; Saturday: 8AM - 4...  ...   \n",
       "1590   Monday - Friday: 8 AM - 7 PM; Saturday: 8 AM -...  ...   \n",
       "...                                                  ...  ...   \n",
       "31640                                 Dec 5, 9 AM - 3 PM  ...   \n",
       "31641                                 Dec 5, 9 AM - 3 PM  ...   \n",
       "31642                       Saturdays: 8:30 AM - 3:30 PM  ...   \n",
       "31681                                By appointment only  ...   \n",
       "31682                                By appointment only  ...   \n",
       "\n",
       "      vehicle_required             facility_type  Outside_FID  filter  \\\n",
       "1109              None  Public Health Department          NaN    None   \n",
       "1114              None                   Outdoor          NaN    None   \n",
       "1298              None                    Clinic          NaN    None   \n",
       "1575              None                    Clinic          NaN    None   \n",
       "1590              None                    Clinic          NaN    None   \n",
       "...                ...                       ...          ...     ...   \n",
       "31640               No                    Mobile          NaN    None   \n",
       "31641               No                    Mobile          NaN    None   \n",
       "31642              Yes                   Outdoor          NaN    None   \n",
       "31681               No                    Clinic          NaN    None   \n",
       "31682               No                    Clinic          NaN    None   \n",
       "\n",
       "      minimum_age Same_Day_Results take_home_test  Wheelchair_Accessible  \\\n",
       "1109          NaN             None             No                   None   \n",
       "1114          NaN             None             No                   None   \n",
       "1298          NaN             None             No                   None   \n",
       "1575          NaN             None             No                   None   \n",
       "1590          NaN             None             No                   None   \n",
       "...           ...              ...            ...                    ...   \n",
       "31640         NaN               No             No                   None   \n",
       "31641         NaN               No             No                   None   \n",
       "31642         NaN               No             No                   None   \n",
       "31681         NaN               No             No                   None   \n",
       "31682         NaN               No             No                   None   \n",
       "\n",
       "      Accessibility_Support                                              SHAPE  \n",
       "1109                   None  {\"x\": -13046842.1711, \"y\": 3862542.846199997, ...  \n",
       "1114                   None  {\"x\": -13037768.3779, \"y\": 3866356.7286000033,...  \n",
       "1298                   None  {\"x\": -13051343.7795, \"y\": 3881834.6008, \"spat...  \n",
       "1575                   None  {\"x\": -13050488.9627, \"y\": 3888795.7251999974,...  \n",
       "1590                   None  {\"x\": -13042282.211557131, \"y\": 3862032.989200...  \n",
       "...                     ...                                                ...  \n",
       "31640                  None  {\"x\": -13038358.260732371, \"y\": 3862013.770200...  \n",
       "31641                  None  {\"x\": -12983046.348161316, \"y\": 3839551.265526...  \n",
       "31642                  None  {\"x\": -13052982.786049496, \"y\": 3893931.151359...  \n",
       "31681                  None  {\"x\": -13054094.1219, \"y\": 3906330.2924000025,...  \n",
       "31682                  None  {\"x\": -13043048.2673, \"y\": 3857952.145199999, ...  \n",
       "\n",
       "[299 rows x 47 columns]"
      ]
     },
     "execution_count": 5,
     "metadata": {},
     "output_type": "execute_result"
    }
   ],
   "source": [
    "testing_sites_sdf.loc[testing_sites_sdf.county == \"San Diego\"]"
   ]
  },
  {
   "cell_type": "code",
   "execution_count": 6,
   "metadata": {},
   "outputs": [],
   "source": [
    "testing_sites_in_sd = arcgis.features.analysis.find_existing_locations(input_layers=[testing_layer],\n",
    "                expressions=[{\"operator\":\"\",\"layer\":0,\"where\":\"county = 'San Diego'\"}],\n",
    "                               output_name='testing sites in SD_Zhou')"
   ]
  },
  {
   "cell_type": "code",
   "execution_count": 7,
   "metadata": {},
   "outputs": [
    {
     "data": {
      "text/html": [
       "<div class=\"item_container\" style=\"height: auto; overflow: hidden; border: 1px solid #cfcfcf; border-radius: 2px; background: #f6fafa; line-height: 1.21429em; padding: 10px;\">\n",
       "                    <div class=\"item_left\" style=\"width: 210px; float: left;\">\n",
       "                       <a href='https://UCSDOnline.maps.arcgis.com/home/item.html?id=20b778b6384746b2b98cc121e85f31a2' target='_blank'>\n",
       "                        <img src='http://static.arcgis.com/images/desktopapp.png' class=\"itemThumbnail\">\n",
       "                       </a>\n",
       "                    </div>\n",
       "\n",
       "                    <div class=\"item_right\"     style=\"float: none; width: auto; overflow: hidden;\">\n",
       "                        <a href='https://UCSDOnline.maps.arcgis.com/home/item.html?id=20b778b6384746b2b98cc121e85f31a2' target='_blank'><b>testing sites in SD_Zhou</b>\n",
       "                        </a>\n",
       "                        <br/><img src='https://UCSDOnline.maps.arcgis.com/home/js/jsapi/esri/css/images/item_type_icons/featureshosted16.png' style=\"vertical-align:middle;\">Feature Layer Collection by zhl541_dsc170fa20\n",
       "                        <br/>Last Modified: December 10, 2020\n",
       "                        <br/>0 comments, 0 views\n",
       "                    </div>\n",
       "                </div>\n",
       "                "
      ],
      "text/plain": [
       "<Item title:\"testing sites in SD_Zhou\" type:Feature Layer Collection owner:zhl541_dsc170fa20>"
      ]
     },
     "execution_count": 7,
     "metadata": {},
     "output_type": "execute_result"
    }
   ],
   "source": [
    "testing_sites_in_sd"
   ]
  },
  {
   "cell_type": "code",
   "execution_count": 8,
   "metadata": {},
   "outputs": [
    {
     "data": {
      "application/vnd.jupyter.widget-view+json": {
       "model_id": "ec8a699c8b004b84b6c971de3cd6938b",
       "version_major": 2,
       "version_minor": 0
      },
      "text/plain": [
       "MapView(layout=Layout(height='400px', width='100%'), legend=True)"
      ]
     },
     "metadata": {},
     "output_type": "display_data"
    },
    {
     "data": {
      "text/html": [
       "<div class=\"map-static-img-preview-ad5914cf-b9b5-43b1-aeb4-e38feb58abc4\"><img src=\"\"></img></div>"
      ],
      "text/plain": [
       "<IPython.core.display.HTML object>"
      ]
     },
     "metadata": {},
     "output_type": "display_data"
    }
   ],
   "source": [
    "# For some reason my map is not displaying correctly on here. \n",
    "map1 = gis.map('San Diego, CA', zoomlevel = 8)\n",
    "map1.legend = True\n",
    "map1.add_layer(testing_sites_in_sd)\n",
    "map1\n"
   ]
  },
  {
   "cell_type": "code",
   "execution_count": null,
   "metadata": {},
   "outputs": [],
   "source": []
  },
  {
   "cell_type": "code",
   "execution_count": 9,
   "metadata": {},
   "outputs": [],
   "source": [
    "import os\n",
    "import numpy as np\n",
    "import geopandas as gpd\n",
    "import pandas as pd\n",
    "from shapely.geometry import Polygon\n",
    "import matplotlib.pyplot as plt\n",
    "from sklearn.linear_model import LinearRegression\n",
    "from sklearn.model_selection import train_test_split\n",
    "from sklearn import metrics"
   ]
  },
  {
   "cell_type": "code",
   "execution_count": 10,
   "metadata": {},
   "outputs": [],
   "source": [
    "shpFileIn = \"./data/census/CENSUS_TRACTS_2010.shp\"\n",
    "sd_census_tract_boundary = gpd.read_file(shpFileIn)"
   ]
  },
  {
   "cell_type": "code",
   "execution_count": 11,
   "metadata": {},
   "outputs": [],
   "source": [
    "census_tract_sdf = arcgis.features.GeoAccessor.from_geodataframe(sd_census_tract_boundary, inplace=True, column_name='SHAPE')"
   ]
  },
  {
   "cell_type": "code",
   "execution_count": null,
   "metadata": {},
   "outputs": [],
   "source": []
  },
  {
   "cell_type": "code",
   "execution_count": 12,
   "metadata": {},
   "outputs": [],
   "source": [
    "census_tracts_featureset = census_tract_sdf.spatial.to_featurelayer(title = \"census tracts san diego\")"
   ]
  },
  {
   "cell_type": "code",
   "execution_count": 18,
   "metadata": {},
   "outputs": [],
   "source": [
    "census_tracts_feature_lyr = census_tracts_featureset"
   ]
  },
  {
   "cell_type": "code",
   "execution_count": 19,
   "metadata": {},
   "outputs": [
    {
     "name": "stderr",
     "output_type": "stream",
     "text": [
      "{\"messageCode\": \"AO_100047\", \"message\": \"Enrichment may not be available for some features.\"}\n",
      "{\"messageCode\": \"AO_100000\", \"message\": \"Country aggregation mode supports only global data collections. Following data collections couldn't be processed: 'Policy', 'AtRisk', 'KeyUSFacts'.\"}\n"
     ]
    }
   ],
   "source": [
    "tract_enriched = arcgis.enrich_layer(census_tracts_feature_lyr,\n",
    "                                  analysis_variables=[\"Policy.WHITE_CY\",\"Policy.BLACK_CY\",\"Policy.AMERIND_CY\",\n",
    "                                                      \"Policy.ASIAN_CY\",\"Policy.PACIFIC_CY\",\"Policy.OTHRACE_CY\",\n",
    "                                                     \"AtRisk.SENIORS_CY\",\"KeyUSFacts.TOTPOP_FY\",\n",
    "                                                      \"AtRisk.AVGHINC_CY\"],\n",
    "                                  output_name='Census Tracts Enriched With Ethnicity_zl')"
   ]
  },
  {
   "cell_type": "code",
   "execution_count": 20,
   "metadata": {},
   "outputs": [
    {
     "data": {
      "text/html": [
       "<div class=\"item_container\" style=\"height: auto; overflow: hidden; border: 1px solid #cfcfcf; border-radius: 2px; background: #f6fafa; line-height: 1.21429em; padding: 10px;\">\n",
       "                    <div class=\"item_left\" style=\"width: 210px; float: left;\">\n",
       "                       <a href='https://UCSDOnline.maps.arcgis.com/home/item.html?id=d3b3664e724d4569bb4e9d038e68aceb' target='_blank'>\n",
       "                        <img src='http://static.arcgis.com/images/desktopapp.png' class=\"itemThumbnail\">\n",
       "                       </a>\n",
       "                    </div>\n",
       "\n",
       "                    <div class=\"item_right\"     style=\"float: none; width: auto; overflow: hidden;\">\n",
       "                        <a href='https://UCSDOnline.maps.arcgis.com/home/item.html?id=d3b3664e724d4569bb4e9d038e68aceb' target='_blank'><b>Census Tracts Enriched With Ethnicity_zl</b>\n",
       "                        </a>\n",
       "                        <br/><img src='https://UCSDOnline.maps.arcgis.com/home/js/jsapi/esri/css/images/item_type_icons/featureshosted16.png' style=\"vertical-align:middle;\">Feature Layer Collection by zhl541_dsc170fa20\n",
       "                        <br/>Last Modified: December 10, 2020\n",
       "                        <br/>0 comments, 0 views\n",
       "                    </div>\n",
       "                </div>\n",
       "                "
      ],
      "text/plain": [
       "<Item title:\"Census Tracts Enriched With Ethnicity_zl\" type:Feature Layer Collection owner:zhl541_dsc170fa20>"
      ]
     },
     "execution_count": 20,
     "metadata": {},
     "output_type": "execute_result"
    }
   ],
   "source": [
    "tract_enriched"
   ]
  },
  {
   "cell_type": "code",
   "execution_count": 21,
   "metadata": {},
   "outputs": [],
   "source": [
    "from arcgis.features import FeatureLayer\n",
    "fs_url= \"https://services7.arcgis.com/LXCny1HyhQCUSueu/arcgis/rest/services/Definitive_Healthcare_USA_Hospital_Beds/FeatureServer/0/\"\n",
    "icu_info = FeatureLayer(fs_url)"
   ]
  },
  {
   "cell_type": "code",
   "execution_count": 22,
   "metadata": {},
   "outputs": [],
   "source": [
    "hospitals_in_sd = arcgis.features.analysis.find_existing_locations(input_layers=[icu_info],\n",
    "                expressions=[{\"operator\":\"\",\"layer\":0,\"where\":\"COUNTY_NAME = 'San Diego'\"}],\n",
    "                               output_name='hospitals sites in SD_Zhou')"
   ]
  },
  {
   "cell_type": "code",
   "execution_count": 23,
   "metadata": {},
   "outputs": [
    {
     "data": {
      "text/html": [
       "<div class=\"item_container\" style=\"height: auto; overflow: hidden; border: 1px solid #cfcfcf; border-radius: 2px; background: #f6fafa; line-height: 1.21429em; padding: 10px;\">\n",
       "                    <div class=\"item_left\" style=\"width: 210px; float: left;\">\n",
       "                       <a href='https://UCSDOnline.maps.arcgis.com/home/item.html?id=801246630f8f4e99acfe54cc660bb436' target='_blank'>\n",
       "                        <img src='http://static.arcgis.com/images/desktopapp.png' class=\"itemThumbnail\">\n",
       "                       </a>\n",
       "                    </div>\n",
       "\n",
       "                    <div class=\"item_right\"     style=\"float: none; width: auto; overflow: hidden;\">\n",
       "                        <a href='https://UCSDOnline.maps.arcgis.com/home/item.html?id=801246630f8f4e99acfe54cc660bb436' target='_blank'><b>hospitals sites in SD_Zhou</b>\n",
       "                        </a>\n",
       "                        <br/><img src='https://UCSDOnline.maps.arcgis.com/home/js/jsapi/esri/css/images/item_type_icons/featureshosted16.png' style=\"vertical-align:middle;\">Feature Layer Collection by zhl541_dsc170fa20\n",
       "                        <br/>Last Modified: December 10, 2020\n",
       "                        <br/>0 comments, 0 views\n",
       "                    </div>\n",
       "                </div>\n",
       "                "
      ],
      "text/plain": [
       "<Item title:\"hospitals sites in SD_Zhou\" type:Feature Layer Collection owner:zhl541_dsc170fa20>"
      ]
     },
     "execution_count": 23,
     "metadata": {},
     "output_type": "execute_result"
    }
   ],
   "source": [
    "hospitals_in_sd"
   ]
  },
  {
   "cell_type": "code",
   "execution_count": 24,
   "metadata": {},
   "outputs": [
    {
     "data": {
      "text/plain": [
       "Index(['OBJECTID', 'HOSPITAL_NAME', 'HOSPITAL_TYPE', 'HQ_ADDRESS',\n",
       "       'HQ_ADDRESS1', 'HQ_CITY', 'HQ_STATE', 'HQ_ZIP_CODE', 'COUNTY_NAME',\n",
       "       'STATE_NAME', 'STATE_FIPS', 'CNTY_FIPS', 'FIPS', 'NUM_LICENSED_BEDS',\n",
       "       'NUM_STAFFED_BEDS', 'NUM_ICU_BEDS', 'ADULT_ICU_BEDS', 'PEDI_ICU_BEDS',\n",
       "       'BED_UTILIZATION', 'Potential_Increase_In_Bed_Capac',\n",
       "       'AVG_VENTILATOR_USAGE', 'SHAPE'],\n",
       "      dtype='object')"
      ]
     },
     "execution_count": 24,
     "metadata": {},
     "output_type": "execute_result"
    }
   ],
   "source": [
    "hospitals_in_sd.layers[0].query().sdf.columns"
   ]
  },
  {
   "cell_type": "markdown",
   "metadata": {},
   "source": [
    "# Data transformation and Joining\n",
    "## Aggregate_points\n",
    "1. Use aggregate points to aggregate number of hospital beds within each tract\n",
    "    \n",
    "2. Use aggregate points to aggregate number of test sites within each tract\n",
    "## Merge Table\n",
    "merge the two table based on tract id, now we have a single table containing all the information\n",
    "\n",
    "## Calculate testing sites and hospital beds ratio\n",
    "- Number of hospital beds per person, number of hospital beds per sq ft of area\n",
    "- Number of test sites per person, number of test sites per sq ft of area"
   ]
  },
  {
   "cell_type": "code",
   "execution_count": 25,
   "metadata": {},
   "outputs": [
    {
     "name": "stderr",
     "output_type": "stream",
     "text": [
      "{\"messageCode\": \"AO_100047\", \"message\": \"Enrichment may not be available for some features.\"}\n",
      "{\"messageCode\": \"AO_100000\", \"message\": \"Country aggregation mode supports only global data collections. Following data collections couldn't be processed: 'Policy', 'AtRisk', 'KeyUSFacts'.\"}\n",
      "{\"messageCode\": \"AO_100270\", \"message\": \"The size and number of the variables that you selected exceeds the maximum row size for feature service layer. Please reduce the number of selected variables.\"}\n",
      "ProcessFeatureOutput failed. Error: {\"code\" : 0, \"messageCode\":\"GPEXT_017\",\"message\": \"Service Census Tracts Enriched With Ethnicity3 already exists.\", \"params\": {\"name\" : \"Census Tracts Enriched With Ethnicity3\"}}\n",
      "{\"messageCode\": \"AO_100020\", \"message\": \"EnrichLayer failed.\"}\n",
      "Failed to execute (EnrichLayer).\n",
      "Failed.\n"
     ]
    }
   ],
   "source": [
    "agg_hospitals_by_tract = arcgis.aggregate_points(point_layer=hospitals_in_sd.layers[0],\n",
    "                        polygon_layer=tract_enriched.layers[0],\n",
    "                        keep_boundaries_with_no_points=True,\n",
    "                        summary_fields=[\"NUM_LICENSED_BEDS Sum\",\"NUM_STAFFED_BEDS Sum\",\n",
    "                                       \"NUM_ICU_BEDS Sum\"],\n",
    "                        output_name=\"Aggregated Hospitals Info Based on Tract Geometry2 ZL\")"
   ]
  },
  {
   "cell_type": "code",
   "execution_count": 26,
   "metadata": {},
   "outputs": [
    {
     "data": {
      "text/html": [
       "<div class=\"item_container\" style=\"height: auto; overflow: hidden; border: 1px solid #cfcfcf; border-radius: 2px; background: #f6fafa; line-height: 1.21429em; padding: 10px;\">\n",
       "                    <div class=\"item_left\" style=\"width: 210px; float: left;\">\n",
       "                       <a href='https://UCSDOnline.maps.arcgis.com/home/item.html?id=79032f07b1b44fc5a55d667344e872f0' target='_blank'>\n",
       "                        <img src='http://static.arcgis.com/images/desktopapp.png' class=\"itemThumbnail\">\n",
       "                       </a>\n",
       "                    </div>\n",
       "\n",
       "                    <div class=\"item_right\"     style=\"float: none; width: auto; overflow: hidden;\">\n",
       "                        <a href='https://UCSDOnline.maps.arcgis.com/home/item.html?id=79032f07b1b44fc5a55d667344e872f0' target='_blank'><b>Aggregated Hospitals Info Based on Tract Geometry2 ZL</b>\n",
       "                        </a>\n",
       "                        <br/><img src='https://UCSDOnline.maps.arcgis.com/home/js/jsapi/esri/css/images/item_type_icons/featureshosted16.png' style=\"vertical-align:middle;\">Feature Layer Collection by zhl541_dsc170fa20\n",
       "                        <br/>Last Modified: December 10, 2020\n",
       "                        <br/>0 comments, 0 views\n",
       "                    </div>\n",
       "                </div>\n",
       "                "
      ],
      "text/plain": [
       "<Item title:\"Aggregated Hospitals Info Based on Tract Geometry2 ZL\" type:Feature Layer Collection owner:zhl541_dsc170fa20>"
      ]
     },
     "execution_count": 26,
     "metadata": {},
     "output_type": "execute_result"
    }
   ],
   "source": [
    "agg_hospitals_by_tract"
   ]
  },
  {
   "cell_type": "code",
   "execution_count": 27,
   "metadata": {},
   "outputs": [
    {
     "data": {
      "text/html": [
       "<div>\n",
       "<style scoped>\n",
       "    .dataframe tbody tr th:only-of-type {\n",
       "        vertical-align: middle;\n",
       "    }\n",
       "\n",
       "    .dataframe tbody tr th {\n",
       "        vertical-align: top;\n",
       "    }\n",
       "\n",
       "    .dataframe thead th {\n",
       "        text-align: right;\n",
       "    }\n",
       "</style>\n",
       "<table border=\"1\" class=\"dataframe\">\n",
       "  <thead>\n",
       "    <tr style=\"text-align: right;\">\n",
       "      <th></th>\n",
       "      <th>OBJECTID</th>\n",
       "      <th>Point_Count</th>\n",
       "      <th>TRACT</th>\n",
       "      <th>Shape__Area</th>\n",
       "      <th>Shape__Length</th>\n",
       "      <th>ID</th>\n",
       "      <th>sourceCountry</th>\n",
       "      <th>ENRICH_FID</th>\n",
       "      <th>aggregationMethod</th>\n",
       "      <th>populationToPolygonSizeRating</th>\n",
       "      <th>...</th>\n",
       "      <th>PACIFIC_CY</th>\n",
       "      <th>OTHRACE_CY</th>\n",
       "      <th>AVGHINC_CY</th>\n",
       "      <th>SENIORS_CY</th>\n",
       "      <th>TOTPOP_FY</th>\n",
       "      <th>SUM_NUM_LICENSED_BEDS</th>\n",
       "      <th>SUM_NUM_STAFFED_BEDS</th>\n",
       "      <th>SUM_NUM_ICU_BEDS</th>\n",
       "      <th>AnalysisArea</th>\n",
       "      <th>SHAPE</th>\n",
       "    </tr>\n",
       "  </thead>\n",
       "  <tbody>\n",
       "    <tr>\n",
       "      <th>0</th>\n",
       "      <td>1</td>\n",
       "      <td>0</td>\n",
       "      <td>57.00</td>\n",
       "      <td>387057.644531</td>\n",
       "      <td>2585.826401</td>\n",
       "      <td>0</td>\n",
       "      <td>US</td>\n",
       "      <td>1.0</td>\n",
       "      <td>BlockApportionment:US.BlockGroups</td>\n",
       "      <td>2.191</td>\n",
       "      <td>...</td>\n",
       "      <td>12.0</td>\n",
       "      <td>102.0</td>\n",
       "      <td>58264.0</td>\n",
       "      <td>267.0</td>\n",
       "      <td>2065.0</td>\n",
       "      <td>0</td>\n",
       "      <td>0</td>\n",
       "      <td>0</td>\n",
       "      <td>0.105471</td>\n",
       "      <td>{\"rings\": [[[-13042911.6564, 3859148.5675], [-...</td>\n",
       "    </tr>\n",
       "    <tr>\n",
       "      <th>1</th>\n",
       "      <td>2</td>\n",
       "      <td>0</td>\n",
       "      <td>83.63</td>\n",
       "      <td>361746.597656</td>\n",
       "      <td>2801.804806</td>\n",
       "      <td>1</td>\n",
       "      <td>US</td>\n",
       "      <td>2.0</td>\n",
       "      <td>BlockApportionment:US.BlockGroups</td>\n",
       "      <td>2.191</td>\n",
       "      <td>...</td>\n",
       "      <td>1.0</td>\n",
       "      <td>282.0</td>\n",
       "      <td>84924.0</td>\n",
       "      <td>180.0</td>\n",
       "      <td>6083.0</td>\n",
       "      <td>0</td>\n",
       "      <td>0</td>\n",
       "      <td>0</td>\n",
       "      <td>0.098267</td>\n",
       "      <td>{\"rings\": [[[-13049153.2311, 3877845.9204], [-...</td>\n",
       "    </tr>\n",
       "    <tr>\n",
       "      <th>2</th>\n",
       "      <td>3</td>\n",
       "      <td>0</td>\n",
       "      <td>47.00</td>\n",
       "      <td>492619.089844</td>\n",
       "      <td>2834.259295</td>\n",
       "      <td>2</td>\n",
       "      <td>US</td>\n",
       "      <td>3.0</td>\n",
       "      <td>BlockApportionment:US.BlockGroups</td>\n",
       "      <td>2.191</td>\n",
       "      <td>...</td>\n",
       "      <td>3.0</td>\n",
       "      <td>794.0</td>\n",
       "      <td>48505.0</td>\n",
       "      <td>229.0</td>\n",
       "      <td>2037.0</td>\n",
       "      <td>0</td>\n",
       "      <td>0</td>\n",
       "      <td>0</td>\n",
       "      <td>0.134287</td>\n",
       "      <td>{\"rings\": [[[-13040240.0994, 3857082.8811], [-...</td>\n",
       "    </tr>\n",
       "    <tr>\n",
       "      <th>3</th>\n",
       "      <td>4</td>\n",
       "      <td>0</td>\n",
       "      <td>22.01</td>\n",
       "      <td>506662.269531</td>\n",
       "      <td>2886.206546</td>\n",
       "      <td>3</td>\n",
       "      <td>US</td>\n",
       "      <td>4.0</td>\n",
       "      <td>BlockApportionment:US.BlockGroups</td>\n",
       "      <td>2.191</td>\n",
       "      <td>...</td>\n",
       "      <td>17.0</td>\n",
       "      <td>1469.0</td>\n",
       "      <td>44648.0</td>\n",
       "      <td>204.0</td>\n",
       "      <td>3780.0</td>\n",
       "      <td>0</td>\n",
       "      <td>0</td>\n",
       "      <td>0</td>\n",
       "      <td>0.137980</td>\n",
       "      <td>{\"rings\": [[[-13036671.864, 3862854.2676], [-1...</td>\n",
       "    </tr>\n",
       "    <tr>\n",
       "      <th>4</th>\n",
       "      <td>5</td>\n",
       "      <td>0</td>\n",
       "      <td>45.01</td>\n",
       "      <td>464369.562500</td>\n",
       "      <td>2899.584649</td>\n",
       "      <td>4</td>\n",
       "      <td>US</td>\n",
       "      <td>5.0</td>\n",
       "      <td>BlockApportionment:US.BlockGroups</td>\n",
       "      <td>2.191</td>\n",
       "      <td>...</td>\n",
       "      <td>14.0</td>\n",
       "      <td>852.0</td>\n",
       "      <td>83860.0</td>\n",
       "      <td>186.0</td>\n",
       "      <td>3130.0</td>\n",
       "      <td>0</td>\n",
       "      <td>0</td>\n",
       "      <td>0</td>\n",
       "      <td>0.126560</td>\n",
       "      <td>{\"rings\": [[[-13040000.7625, 3858125.9995], [-...</td>\n",
       "    </tr>\n",
       "  </tbody>\n",
       "</table>\n",
       "<p>5 rows × 26 columns</p>\n",
       "</div>"
      ],
      "text/plain": [
       "   OBJECTID  Point_Count  TRACT    Shape__Area  Shape__Length ID  \\\n",
       "0         1            0  57.00  387057.644531    2585.826401  0   \n",
       "1         2            0  83.63  361746.597656    2801.804806  1   \n",
       "2         3            0  47.00  492619.089844    2834.259295  2   \n",
       "3         4            0  22.01  506662.269531    2886.206546  3   \n",
       "4         5            0  45.01  464369.562500    2899.584649  4   \n",
       "\n",
       "  sourceCountry  ENRICH_FID                  aggregationMethod  \\\n",
       "0            US         1.0  BlockApportionment:US.BlockGroups   \n",
       "1            US         2.0  BlockApportionment:US.BlockGroups   \n",
       "2            US         3.0  BlockApportionment:US.BlockGroups   \n",
       "3            US         4.0  BlockApportionment:US.BlockGroups   \n",
       "4            US         5.0  BlockApportionment:US.BlockGroups   \n",
       "\n",
       "   populationToPolygonSizeRating  ...  PACIFIC_CY  OTHRACE_CY  AVGHINC_CY  \\\n",
       "0                          2.191  ...        12.0       102.0     58264.0   \n",
       "1                          2.191  ...         1.0       282.0     84924.0   \n",
       "2                          2.191  ...         3.0       794.0     48505.0   \n",
       "3                          2.191  ...        17.0      1469.0     44648.0   \n",
       "4                          2.191  ...        14.0       852.0     83860.0   \n",
       "\n",
       "   SENIORS_CY  TOTPOP_FY  SUM_NUM_LICENSED_BEDS  SUM_NUM_STAFFED_BEDS  \\\n",
       "0       267.0     2065.0                      0                     0   \n",
       "1       180.0     6083.0                      0                     0   \n",
       "2       229.0     2037.0                      0                     0   \n",
       "3       204.0     3780.0                      0                     0   \n",
       "4       186.0     3130.0                      0                     0   \n",
       "\n",
       "   SUM_NUM_ICU_BEDS  AnalysisArea  \\\n",
       "0                 0      0.105471   \n",
       "1                 0      0.098267   \n",
       "2                 0      0.134287   \n",
       "3                 0      0.137980   \n",
       "4                 0      0.126560   \n",
       "\n",
       "                                               SHAPE  \n",
       "0  {\"rings\": [[[-13042911.6564, 3859148.5675], [-...  \n",
       "1  {\"rings\": [[[-13049153.2311, 3877845.9204], [-...  \n",
       "2  {\"rings\": [[[-13040240.0994, 3857082.8811], [-...  \n",
       "3  {\"rings\": [[[-13036671.864, 3862854.2676], [-1...  \n",
       "4  {\"rings\": [[[-13040000.7625, 3858125.9995], [-...  \n",
       "\n",
       "[5 rows x 26 columns]"
      ]
     },
     "execution_count": 27,
     "metadata": {},
     "output_type": "execute_result"
    }
   ],
   "source": [
    "agg_hospitals_by_tract_sdf = agg_hospitals_by_tract.layers[0].query().sdf\n",
    "agg_hospitals_by_tract_sdf.head()"
   ]
  },
  {
   "cell_type": "code",
   "execution_count": 28,
   "metadata": {},
   "outputs": [
    {
     "data": {
      "text/plain": [
       "Index(['OBJECTID', 'Point_Count', 'TRACT', 'Shape__Area', 'Shape__Length',\n",
       "       'ID', 'sourceCountry', 'ENRICH_FID', 'aggregationMethod',\n",
       "       'populationToPolygonSizeRating', 'apportionmentConfidence', 'HasData',\n",
       "       'WHITE_CY', 'BLACK_CY', 'AMERIND_CY', 'ASIAN_CY', 'PACIFIC_CY',\n",
       "       'OTHRACE_CY', 'AVGHINC_CY', 'SENIORS_CY', 'TOTPOP_FY',\n",
       "       'SUM_NUM_LICENSED_BEDS', 'SUM_NUM_STAFFED_BEDS', 'SUM_NUM_ICU_BEDS',\n",
       "       'AnalysisArea', 'SHAPE'],\n",
       "      dtype='object')"
      ]
     },
     "execution_count": 28,
     "metadata": {},
     "output_type": "execute_result"
    }
   ],
   "source": [
    "agg_hospitals_by_tract_sdf.columns"
   ]
  },
  {
   "cell_type": "code",
   "execution_count": null,
   "metadata": {},
   "outputs": [],
   "source": []
  },
  {
   "cell_type": "code",
   "execution_count": 29,
   "metadata": {},
   "outputs": [
    {
     "data": {
      "text/plain": [
       "Index(['OBJECTID', 'facilityid', 'name', 'fulladdr', 'municipality', 'agency',\n",
       "       'agencytype', 'phone', 'agencyurl', 'operhours', 'comments',\n",
       "       'Instructions', 'numvehicles', 'testcapacity', 'status', 'CreationDate',\n",
       "       'EditDate', 'Vetted', 'drive_through', 'appt_only', 'referral_required',\n",
       "       'services_offered_onsite', 'call_first', 'virtual_screening',\n",
       "       'health_dept_url', 'State', 'GlobalID', 'data_source', 'county',\n",
       "       'red_flag', 'vol_note', 'public_form', 'start_date', 'end_date',\n",
       "       'type_of_test', 'test_processing', 'fine_print', 'vehicle_required',\n",
       "       'facility_type', 'Outside_FID', 'filter', 'minimum_age',\n",
       "       'Same_Day_Results', 'take_home_test', 'Wheelchair_Accessible',\n",
       "       'Accessibility_Support', 'SHAPE'],\n",
       "      dtype='object')"
      ]
     },
     "execution_count": 29,
     "metadata": {},
     "output_type": "execute_result"
    }
   ],
   "source": [
    "testing_sites_in_sd.layers[0].query().sdf.columns"
   ]
  },
  {
   "cell_type": "code",
   "execution_count": 30,
   "metadata": {},
   "outputs": [],
   "source": [
    "agg_testing_sites_by_tract = arcgis.aggregate_points(point_layer=testing_sites_in_sd.layers[0],\n",
    "                        polygon_layer=tract_enriched.layers[0],\n",
    "                        keep_boundaries_with_no_points=True,\n",
    "                        output_name=\"Aggregated Testing Sites By Type2 ZL\")"
   ]
  },
  {
   "cell_type": "code",
   "execution_count": 31,
   "metadata": {},
   "outputs": [
    {
     "data": {
      "text/html": [
       "<div class=\"item_container\" style=\"height: auto; overflow: hidden; border: 1px solid #cfcfcf; border-radius: 2px; background: #f6fafa; line-height: 1.21429em; padding: 10px;\">\n",
       "                    <div class=\"item_left\" style=\"width: 210px; float: left;\">\n",
       "                       <a href='https://UCSDOnline.maps.arcgis.com/home/item.html?id=e981bf1c161e4d91aed3dd4cd42de3a0' target='_blank'>\n",
       "                        <img src='http://static.arcgis.com/images/desktopapp.png' class=\"itemThumbnail\">\n",
       "                       </a>\n",
       "                    </div>\n",
       "\n",
       "                    <div class=\"item_right\"     style=\"float: none; width: auto; overflow: hidden;\">\n",
       "                        <a href='https://UCSDOnline.maps.arcgis.com/home/item.html?id=e981bf1c161e4d91aed3dd4cd42de3a0' target='_blank'><b>Aggregated Testing Sites By Type2 ZL</b>\n",
       "                        </a>\n",
       "                        <br/><img src='https://UCSDOnline.maps.arcgis.com/home/js/jsapi/esri/css/images/item_type_icons/featureshosted16.png' style=\"vertical-align:middle;\">Feature Layer Collection by zhl541_dsc170fa20\n",
       "                        <br/>Last Modified: December 10, 2020\n",
       "                        <br/>0 comments, 0 views\n",
       "                    </div>\n",
       "                </div>\n",
       "                "
      ],
      "text/plain": [
       "<Item title:\"Aggregated Testing Sites By Type2 ZL\" type:Feature Layer Collection owner:zhl541_dsc170fa20>"
      ]
     },
     "execution_count": 31,
     "metadata": {},
     "output_type": "execute_result"
    }
   ],
   "source": [
    "agg_testing_sites_by_tract"
   ]
  },
  {
   "cell_type": "code",
   "execution_count": 32,
   "metadata": {},
   "outputs": [
    {
     "data": {
      "text/html": [
       "<div>\n",
       "<style scoped>\n",
       "    .dataframe tbody tr th:only-of-type {\n",
       "        vertical-align: middle;\n",
       "    }\n",
       "\n",
       "    .dataframe tbody tr th {\n",
       "        vertical-align: top;\n",
       "    }\n",
       "\n",
       "    .dataframe thead th {\n",
       "        text-align: right;\n",
       "    }\n",
       "</style>\n",
       "<table border=\"1\" class=\"dataframe\">\n",
       "  <thead>\n",
       "    <tr style=\"text-align: right;\">\n",
       "      <th></th>\n",
       "      <th>OBJECTID</th>\n",
       "      <th>Point_Count</th>\n",
       "      <th>TRACT</th>\n",
       "      <th>Shape__Area</th>\n",
       "      <th>Shape__Length</th>\n",
       "      <th>ID</th>\n",
       "      <th>sourceCountry</th>\n",
       "      <th>ENRICH_FID</th>\n",
       "      <th>aggregationMethod</th>\n",
       "      <th>populationToPolygonSizeRating</th>\n",
       "      <th>...</th>\n",
       "      <th>BLACK_CY</th>\n",
       "      <th>AMERIND_CY</th>\n",
       "      <th>ASIAN_CY</th>\n",
       "      <th>PACIFIC_CY</th>\n",
       "      <th>OTHRACE_CY</th>\n",
       "      <th>AVGHINC_CY</th>\n",
       "      <th>SENIORS_CY</th>\n",
       "      <th>TOTPOP_FY</th>\n",
       "      <th>AnalysisArea</th>\n",
       "      <th>SHAPE</th>\n",
       "    </tr>\n",
       "  </thead>\n",
       "  <tbody>\n",
       "    <tr>\n",
       "      <th>0</th>\n",
       "      <td>1</td>\n",
       "      <td>3</td>\n",
       "      <td>57.00</td>\n",
       "      <td>387057.644531</td>\n",
       "      <td>2585.826401</td>\n",
       "      <td>0</td>\n",
       "      <td>US</td>\n",
       "      <td>1.0</td>\n",
       "      <td>BlockApportionment:US.BlockGroups</td>\n",
       "      <td>2.191</td>\n",
       "      <td>...</td>\n",
       "      <td>272.0</td>\n",
       "      <td>24.0</td>\n",
       "      <td>152.0</td>\n",
       "      <td>12.0</td>\n",
       "      <td>102.0</td>\n",
       "      <td>58264.0</td>\n",
       "      <td>267.0</td>\n",
       "      <td>2065.0</td>\n",
       "      <td>0.105471</td>\n",
       "      <td>{\"rings\": [[[-13042911.6564, 3859148.5675], [-...</td>\n",
       "    </tr>\n",
       "    <tr>\n",
       "      <th>1</th>\n",
       "      <td>2</td>\n",
       "      <td>1</td>\n",
       "      <td>83.63</td>\n",
       "      <td>361746.597656</td>\n",
       "      <td>2801.804806</td>\n",
       "      <td>1</td>\n",
       "      <td>US</td>\n",
       "      <td>2.0</td>\n",
       "      <td>BlockApportionment:US.BlockGroups</td>\n",
       "      <td>2.191</td>\n",
       "      <td>...</td>\n",
       "      <td>68.0</td>\n",
       "      <td>9.0</td>\n",
       "      <td>3345.0</td>\n",
       "      <td>1.0</td>\n",
       "      <td>282.0</td>\n",
       "      <td>84924.0</td>\n",
       "      <td>180.0</td>\n",
       "      <td>6083.0</td>\n",
       "      <td>0.098267</td>\n",
       "      <td>{\"rings\": [[[-13049153.2311, 3877845.9204], [-...</td>\n",
       "    </tr>\n",
       "    <tr>\n",
       "      <th>2</th>\n",
       "      <td>3</td>\n",
       "      <td>1</td>\n",
       "      <td>47.00</td>\n",
       "      <td>492619.089844</td>\n",
       "      <td>2834.259295</td>\n",
       "      <td>2</td>\n",
       "      <td>US</td>\n",
       "      <td>3.0</td>\n",
       "      <td>BlockApportionment:US.BlockGroups</td>\n",
       "      <td>2.191</td>\n",
       "      <td>...</td>\n",
       "      <td>135.0</td>\n",
       "      <td>17.0</td>\n",
       "      <td>33.0</td>\n",
       "      <td>3.0</td>\n",
       "      <td>794.0</td>\n",
       "      <td>48505.0</td>\n",
       "      <td>229.0</td>\n",
       "      <td>2037.0</td>\n",
       "      <td>0.134287</td>\n",
       "      <td>{\"rings\": [[[-13040240.0994, 3857082.8811], [-...</td>\n",
       "    </tr>\n",
       "    <tr>\n",
       "      <th>3</th>\n",
       "      <td>4</td>\n",
       "      <td>0</td>\n",
       "      <td>22.01</td>\n",
       "      <td>506662.269531</td>\n",
       "      <td>2886.206546</td>\n",
       "      <td>3</td>\n",
       "      <td>US</td>\n",
       "      <td>4.0</td>\n",
       "      <td>BlockApportionment:US.BlockGroups</td>\n",
       "      <td>2.191</td>\n",
       "      <td>...</td>\n",
       "      <td>640.0</td>\n",
       "      <td>17.0</td>\n",
       "      <td>420.0</td>\n",
       "      <td>17.0</td>\n",
       "      <td>1469.0</td>\n",
       "      <td>44648.0</td>\n",
       "      <td>204.0</td>\n",
       "      <td>3780.0</td>\n",
       "      <td>0.137980</td>\n",
       "      <td>{\"rings\": [[[-13036671.864, 3862854.2676], [-1...</td>\n",
       "    </tr>\n",
       "    <tr>\n",
       "      <th>4</th>\n",
       "      <td>5</td>\n",
       "      <td>0</td>\n",
       "      <td>45.01</td>\n",
       "      <td>464369.562500</td>\n",
       "      <td>2899.584649</td>\n",
       "      <td>4</td>\n",
       "      <td>US</td>\n",
       "      <td>5.0</td>\n",
       "      <td>BlockApportionment:US.BlockGroups</td>\n",
       "      <td>2.191</td>\n",
       "      <td>...</td>\n",
       "      <td>113.0</td>\n",
       "      <td>24.0</td>\n",
       "      <td>98.0</td>\n",
       "      <td>14.0</td>\n",
       "      <td>852.0</td>\n",
       "      <td>83860.0</td>\n",
       "      <td>186.0</td>\n",
       "      <td>3130.0</td>\n",
       "      <td>0.126560</td>\n",
       "      <td>{\"rings\": [[[-13040000.7625, 3858125.9995], [-...</td>\n",
       "    </tr>\n",
       "  </tbody>\n",
       "</table>\n",
       "<p>5 rows × 23 columns</p>\n",
       "</div>"
      ],
      "text/plain": [
       "   OBJECTID  Point_Count  TRACT    Shape__Area  Shape__Length ID  \\\n",
       "0         1            3  57.00  387057.644531    2585.826401  0   \n",
       "1         2            1  83.63  361746.597656    2801.804806  1   \n",
       "2         3            1  47.00  492619.089844    2834.259295  2   \n",
       "3         4            0  22.01  506662.269531    2886.206546  3   \n",
       "4         5            0  45.01  464369.562500    2899.584649  4   \n",
       "\n",
       "  sourceCountry  ENRICH_FID                  aggregationMethod  \\\n",
       "0            US         1.0  BlockApportionment:US.BlockGroups   \n",
       "1            US         2.0  BlockApportionment:US.BlockGroups   \n",
       "2            US         3.0  BlockApportionment:US.BlockGroups   \n",
       "3            US         4.0  BlockApportionment:US.BlockGroups   \n",
       "4            US         5.0  BlockApportionment:US.BlockGroups   \n",
       "\n",
       "   populationToPolygonSizeRating  ...  BLACK_CY  AMERIND_CY  ASIAN_CY  \\\n",
       "0                          2.191  ...     272.0        24.0     152.0   \n",
       "1                          2.191  ...      68.0         9.0    3345.0   \n",
       "2                          2.191  ...     135.0        17.0      33.0   \n",
       "3                          2.191  ...     640.0        17.0     420.0   \n",
       "4                          2.191  ...     113.0        24.0      98.0   \n",
       "\n",
       "   PACIFIC_CY  OTHRACE_CY  AVGHINC_CY  SENIORS_CY  TOTPOP_FY  AnalysisArea  \\\n",
       "0        12.0       102.0     58264.0       267.0     2065.0      0.105471   \n",
       "1         1.0       282.0     84924.0       180.0     6083.0      0.098267   \n",
       "2         3.0       794.0     48505.0       229.0     2037.0      0.134287   \n",
       "3        17.0      1469.0     44648.0       204.0     3780.0      0.137980   \n",
       "4        14.0       852.0     83860.0       186.0     3130.0      0.126560   \n",
       "\n",
       "                                               SHAPE  \n",
       "0  {\"rings\": [[[-13042911.6564, 3859148.5675], [-...  \n",
       "1  {\"rings\": [[[-13049153.2311, 3877845.9204], [-...  \n",
       "2  {\"rings\": [[[-13040240.0994, 3857082.8811], [-...  \n",
       "3  {\"rings\": [[[-13036671.864, 3862854.2676], [-1...  \n",
       "4  {\"rings\": [[[-13040000.7625, 3858125.9995], [-...  \n",
       "\n",
       "[5 rows x 23 columns]"
      ]
     },
     "execution_count": 32,
     "metadata": {},
     "output_type": "execute_result"
    }
   ],
   "source": [
    "agg_testing_sites_by_tract_sdf = agg_testing_sites_by_tract.layers[0].query().sdf\n",
    "agg_testing_sites_by_tract_sdf.head()"
   ]
  },
  {
   "cell_type": "code",
   "execution_count": 33,
   "metadata": {},
   "outputs": [
    {
     "data": {
      "text/plain": [
       "Index(['OBJECTID', 'Point_Count', 'TRACT', 'Shape__Area', 'Shape__Length',\n",
       "       'ID', 'sourceCountry', 'ENRICH_FID', 'aggregationMethod',\n",
       "       'populationToPolygonSizeRating', 'apportionmentConfidence', 'HasData',\n",
       "       'WHITE_CY', 'BLACK_CY', 'AMERIND_CY', 'ASIAN_CY', 'PACIFIC_CY',\n",
       "       'OTHRACE_CY', 'AVGHINC_CY', 'SENIORS_CY', 'TOTPOP_FY', 'AnalysisArea',\n",
       "       'SHAPE'],\n",
       "      dtype='object')"
      ]
     },
     "execution_count": 33,
     "metadata": {},
     "output_type": "execute_result"
    }
   ],
   "source": [
    "agg_testing_sites_by_tract_sdf.columns"
   ]
  },
  {
   "cell_type": "code",
   "execution_count": 34,
   "metadata": {},
   "outputs": [],
   "source": [
    "set_columns = set(agg_testing_sites_by_tract_sdf.columns.values).intersection(set(agg_hospitals_by_tract_sdf.columns.values))"
   ]
  },
  {
   "cell_type": "code",
   "execution_count": 35,
   "metadata": {},
   "outputs": [],
   "source": [
    "set_columns.remove(\"Point_Count\")"
   ]
  },
  {
   "cell_type": "code",
   "execution_count": 36,
   "metadata": {},
   "outputs": [],
   "source": [
    "testing_hospitals_merged = agg_hospitals_by_tract_sdf.merge(agg_testing_sites_by_tract_sdf, on=list(set_columns))"
   ]
  },
  {
   "cell_type": "code",
   "execution_count": 37,
   "metadata": {},
   "outputs": [],
   "source": [
    "testing_hospitals_merged = testing_hospitals_merged.rename({\"Point_Count_y\":\"Point_Count_TestSites\",\n",
    "                                                           \"Point_Count_x\":\"Point_Count_Hospitals\"},axis=1)"
   ]
  },
  {
   "cell_type": "code",
   "execution_count": 38,
   "metadata": {},
   "outputs": [],
   "source": [
    "#Creating new columns as ratios of testing sites by area size and population\n",
    "testing_site_num_population_ratio = testing_hospitals_merged.Point_Count_TestSites / testing_hospitals_merged.TOTPOP_FY\n",
    "testing_site_num_area_ratio = testing_hospitals_merged.Point_Count_TestSites / testing_hospitals_merged.Shape__Area\n",
    "\n",
    "#Creating new columns as ratios of num of hospital beds by area size and population\n",
    "\n",
    "number_beds = testing_hospitals_merged[\"SUM_NUM_STAFFED_BEDS\"].fillna(0) #only count the number of staffed beds \n",
    "hospital_beds_num_population_ratio = number_beds / testing_hospitals_merged.TOTPOP_FY\n",
    "hospital_beds_num_area_ratio = number_beds / testing_hospitals_merged.Shape__Area\n"
   ]
  },
  {
   "cell_type": "code",
   "execution_count": 39,
   "metadata": {},
   "outputs": [],
   "source": [
    "testing_hospitals_merged[\"testing_site_num_population_ratio\"] = testing_site_num_population_ratio\n",
    "testing_hospitals_merged[\"testing_site_num_area_ratio\"] = testing_site_num_area_ratio\n",
    "\n",
    "testing_hospitals_merged[\"hospital_beds_num_population_ratio\"] = hospital_beds_num_population_ratio\n",
    "testing_hospitals_merged[\"hospital_beds_num_area_ratio\"] = hospital_beds_num_area_ratio\n"
   ]
  },
  {
   "cell_type": "code",
   "execution_count": 46,
   "metadata": {},
   "outputs": [],
   "source": [
    "total_population = testing_hospitals_merged['TOTPOP_FY'].fillna(0)\n",
    "population_density = total_population/testing_hospitals_merged.Shape__Area\n",
    "testing_hospitals_merged['population_density'] = population_density"
   ]
  },
  {
   "cell_type": "code",
   "execution_count": null,
   "metadata": {},
   "outputs": [],
   "source": []
  },
  {
   "cell_type": "code",
   "execution_count": 47,
   "metadata": {},
   "outputs": [
    {
     "data": {
      "text/plain": [
       "Index(['OBJECTID', 'Point_Count_Hospitals', 'TRACT', 'Shape__Area',\n",
       "       'Shape__Length', 'ID', 'sourceCountry', 'ENRICH_FID',\n",
       "       'aggregationMethod', 'populationToPolygonSizeRating',\n",
       "       'apportionmentConfidence', 'HasData', 'WHITE_CY', 'BLACK_CY',\n",
       "       'AMERIND_CY', 'ASIAN_CY', 'PACIFIC_CY', 'OTHRACE_CY', 'AVGHINC_CY',\n",
       "       'SENIORS_CY', 'TOTPOP_FY', 'SUM_NUM_LICENSED_BEDS',\n",
       "       'SUM_NUM_STAFFED_BEDS', 'SUM_NUM_ICU_BEDS', 'AnalysisArea', 'SHAPE',\n",
       "       'Point_Count_TestSites', 'testing_site_num_population_ratio',\n",
       "       'testing_site_num_area_ratio', 'hospital_beds_num_population_ratio',\n",
       "       'hospital_beds_num_area_ratio', 'population_density'],\n",
       "      dtype='object')"
      ]
     },
     "execution_count": 47,
     "metadata": {},
     "output_type": "execute_result"
    }
   ],
   "source": [
    "testing_hospitals_merged.columns"
   ]
  },
  {
   "cell_type": "code",
   "execution_count": 72,
   "metadata": {},
   "outputs": [
    {
     "data": {
      "text/plain": [
       "460"
      ]
     },
     "execution_count": 72,
     "metadata": {},
     "output_type": "execute_result"
    }
   ],
   "source": [
    "(testing_hospitals_merged['WHITE_CY'] > non_white_people).sum()"
   ]
  },
  {
   "cell_type": "code",
   "execution_count": 135,
   "metadata": {},
   "outputs": [],
   "source": [
    "x = []"
   ]
  },
  {
   "cell_type": "code",
   "execution_count": 137,
   "metadata": {},
   "outputs": [],
   "source": [
    "for i in range(len(testing_hospitals_merged_gdf['WHITE_CY'])):\n",
    "    if testing_hospitals_merged_gdf['WHITE_CY'][i] > non_white_people[i]:\n",
    "        x = x + [1]\n",
    "    else:\n",
    "        x = x + [0]"
   ]
  },
  {
   "cell_type": "code",
   "execution_count": 142,
   "metadata": {},
   "outputs": [],
   "source": [
    "testing_hospitals_merged_gdf['is_white_area'] = x"
   ]
  },
  {
   "cell_type": "code",
   "execution_count": 140,
   "metadata": {},
   "outputs": [
    {
     "data": {
      "text/html": [
       "<div>\n",
       "<style scoped>\n",
       "    .dataframe tbody tr th:only-of-type {\n",
       "        vertical-align: middle;\n",
       "    }\n",
       "\n",
       "    .dataframe tbody tr th {\n",
       "        vertical-align: top;\n",
       "    }\n",
       "\n",
       "    .dataframe thead th {\n",
       "        text-align: right;\n",
       "    }\n",
       "</style>\n",
       "<table border=\"1\" class=\"dataframe\">\n",
       "  <thead>\n",
       "    <tr style=\"text-align: right;\">\n",
       "      <th></th>\n",
       "      <th>OBJECTID</th>\n",
       "      <th>Point_Count_Hospitals</th>\n",
       "      <th>TRACT</th>\n",
       "      <th>Shape__Area</th>\n",
       "      <th>Shape__Length</th>\n",
       "      <th>ID</th>\n",
       "      <th>sourceCountry</th>\n",
       "      <th>ENRICH_FID</th>\n",
       "      <th>aggregationMethod</th>\n",
       "      <th>populationToPolygonSizeRating</th>\n",
       "      <th>...</th>\n",
       "      <th>Point_Count_TestSites</th>\n",
       "      <th>testing_site_num_population_ratio</th>\n",
       "      <th>testing_site_num_area_ratio</th>\n",
       "      <th>hospital_beds_num_population_ratio</th>\n",
       "      <th>hospital_beds_num_area_ratio</th>\n",
       "      <th>population_density</th>\n",
       "      <th>NON_WHITE_CY</th>\n",
       "      <th>geometry</th>\n",
       "      <th>WHITE_NON_WHITE_RATIO</th>\n",
       "      <th>is_white_area</th>\n",
       "    </tr>\n",
       "  </thead>\n",
       "  <tbody>\n",
       "    <tr>\n",
       "      <th>0</th>\n",
       "      <td>1</td>\n",
       "      <td>0</td>\n",
       "      <td>57.00</td>\n",
       "      <td>3.870576e+05</td>\n",
       "      <td>2585.826401</td>\n",
       "      <td>0</td>\n",
       "      <td>US</td>\n",
       "      <td>1.0</td>\n",
       "      <td>BlockApportionment:US.BlockGroups</td>\n",
       "      <td>2.191</td>\n",
       "      <td>...</td>\n",
       "      <td>3</td>\n",
       "      <td>0.001453</td>\n",
       "      <td>7.750783e-06</td>\n",
       "      <td>0.0</td>\n",
       "      <td>0.0</td>\n",
       "      <td>0.005335</td>\n",
       "      <td>701.0</td>\n",
       "      <td>POLYGON ((6293438.095 1853304.830, 6293503.297...</td>\n",
       "      <td>1.945792</td>\n",
       "      <td>1</td>\n",
       "    </tr>\n",
       "    <tr>\n",
       "      <th>1</th>\n",
       "      <td>2</td>\n",
       "      <td>0</td>\n",
       "      <td>83.63</td>\n",
       "      <td>3.617466e+05</td>\n",
       "      <td>2801.804806</td>\n",
       "      <td>1</td>\n",
       "      <td>US</td>\n",
       "      <td>2.0</td>\n",
       "      <td>BlockApportionment:US.BlockGroups</td>\n",
       "      <td>2.191</td>\n",
       "      <td>...</td>\n",
       "      <td>1</td>\n",
       "      <td>0.000164</td>\n",
       "      <td>2.764366e-06</td>\n",
       "      <td>0.0</td>\n",
       "      <td>0.0</td>\n",
       "      <td>0.016816</td>\n",
       "      <td>4243.0</td>\n",
       "      <td>POLYGON ((6292472.285 1855719.495, 6292503.644...</td>\n",
       "      <td>0.433655</td>\n",
       "      <td>0</td>\n",
       "    </tr>\n",
       "    <tr>\n",
       "      <th>2</th>\n",
       "      <td>3</td>\n",
       "      <td>0</td>\n",
       "      <td>47.00</td>\n",
       "      <td>4.926191e+05</td>\n",
       "      <td>2834.259295</td>\n",
       "      <td>2</td>\n",
       "      <td>US</td>\n",
       "      <td>3.0</td>\n",
       "      <td>BlockApportionment:US.BlockGroups</td>\n",
       "      <td>2.191</td>\n",
       "      <td>...</td>\n",
       "      <td>1</td>\n",
       "      <td>0.000491</td>\n",
       "      <td>2.029966e-06</td>\n",
       "      <td>0.0</td>\n",
       "      <td>0.0</td>\n",
       "      <td>0.004135</td>\n",
       "      <td>1165.0</td>\n",
       "      <td>POLYGON ((6292613.597 1857793.035, 6292669.857...</td>\n",
       "      <td>0.748498</td>\n",
       "      <td>0</td>\n",
       "    </tr>\n",
       "    <tr>\n",
       "      <th>3</th>\n",
       "      <td>4</td>\n",
       "      <td>0</td>\n",
       "      <td>22.01</td>\n",
       "      <td>5.066623e+05</td>\n",
       "      <td>2886.206546</td>\n",
       "      <td>3</td>\n",
       "      <td>US</td>\n",
       "      <td>4.0</td>\n",
       "      <td>BlockApportionment:US.BlockGroups</td>\n",
       "      <td>2.191</td>\n",
       "      <td>...</td>\n",
       "      <td>0</td>\n",
       "      <td>0.000000</td>\n",
       "      <td>0.000000e+00</td>\n",
       "      <td>0.0</td>\n",
       "      <td>0.0</td>\n",
       "      <td>0.007461</td>\n",
       "      <td>2715.0</td>\n",
       "      <td>POLYGON ((6297364.831 1858582.740, 6297395.566...</td>\n",
       "      <td>0.392265</td>\n",
       "      <td>0</td>\n",
       "    </tr>\n",
       "    <tr>\n",
       "      <th>4</th>\n",
       "      <td>5</td>\n",
       "      <td>0</td>\n",
       "      <td>45.01</td>\n",
       "      <td>4.643696e+05</td>\n",
       "      <td>2899.584649</td>\n",
       "      <td>4</td>\n",
       "      <td>US</td>\n",
       "      <td>5.0</td>\n",
       "      <td>BlockApportionment:US.BlockGroups</td>\n",
       "      <td>2.191</td>\n",
       "      <td>...</td>\n",
       "      <td>0</td>\n",
       "      <td>0.000000</td>\n",
       "      <td>0.000000e+00</td>\n",
       "      <td>0.0</td>\n",
       "      <td>0.0</td>\n",
       "      <td>0.006740</td>\n",
       "      <td>1338.0</td>\n",
       "      <td>POLYGON ((6296136.003 1863452.471, 6296242.697...</td>\n",
       "      <td>1.339312</td>\n",
       "      <td>1</td>\n",
       "    </tr>\n",
       "    <tr>\n",
       "      <th>...</th>\n",
       "      <td>...</td>\n",
       "      <td>...</td>\n",
       "      <td>...</td>\n",
       "      <td>...</td>\n",
       "      <td>...</td>\n",
       "      <td>...</td>\n",
       "      <td>...</td>\n",
       "      <td>...</td>\n",
       "      <td>...</td>\n",
       "      <td>...</td>\n",
       "      <td>...</td>\n",
       "      <td>...</td>\n",
       "      <td>...</td>\n",
       "      <td>...</td>\n",
       "      <td>...</td>\n",
       "      <td>...</td>\n",
       "      <td>...</td>\n",
       "      <td>...</td>\n",
       "      <td>...</td>\n",
       "      <td>...</td>\n",
       "      <td>...</td>\n",
       "    </tr>\n",
       "    <tr>\n",
       "      <th>622</th>\n",
       "      <td>623</td>\n",
       "      <td>0</td>\n",
       "      <td>191.01</td>\n",
       "      <td>4.205117e+08</td>\n",
       "      <td>155781.470444</td>\n",
       "      <td>1</td>\n",
       "      <td>US</td>\n",
       "      <td>623.0</td>\n",
       "      <td>BlockApportionment:US.BlockGroups</td>\n",
       "      <td>2.191</td>\n",
       "      <td>...</td>\n",
       "      <td>2</td>\n",
       "      <td>0.000249</td>\n",
       "      <td>4.756111e-09</td>\n",
       "      <td>0.0</td>\n",
       "      <td>0.0</td>\n",
       "      <td>0.000019</td>\n",
       "      <td>4075.0</td>\n",
       "      <td>POLYGON ((6274139.898 1834593.163, 6274087.589...</td>\n",
       "      <td>0.968098</td>\n",
       "      <td>0</td>\n",
       "    </tr>\n",
       "    <tr>\n",
       "      <th>623</th>\n",
       "      <td>624</td>\n",
       "      <td>0</td>\n",
       "      <td>209.02</td>\n",
       "      <td>6.131274e+08</td>\n",
       "      <td>178240.166173</td>\n",
       "      <td>2</td>\n",
       "      <td>US</td>\n",
       "      <td>624.0</td>\n",
       "      <td>BlockApportionment:US.BlockGroups</td>\n",
       "      <td>2.191</td>\n",
       "      <td>...</td>\n",
       "      <td>2</td>\n",
       "      <td>0.000854</td>\n",
       "      <td>3.261965e-09</td>\n",
       "      <td>0.0</td>\n",
       "      <td>0.0</td>\n",
       "      <td>0.000004</td>\n",
       "      <td>311.0</td>\n",
       "      <td>POLYGON ((6297188.499 1829212.755, 6297249.733...</td>\n",
       "      <td>6.533762</td>\n",
       "      <td>1</td>\n",
       "    </tr>\n",
       "    <tr>\n",
       "      <th>624</th>\n",
       "      <td>625</td>\n",
       "      <td>0</td>\n",
       "      <td>211.00</td>\n",
       "      <td>1.660533e+09</td>\n",
       "      <td>236004.724140</td>\n",
       "      <td>None</td>\n",
       "      <td>None</td>\n",
       "      <td>NaN</td>\n",
       "      <td>None</td>\n",
       "      <td>NaN</td>\n",
       "      <td>...</td>\n",
       "      <td>7</td>\n",
       "      <td>NaN</td>\n",
       "      <td>4.215514e-09</td>\n",
       "      <td>NaN</td>\n",
       "      <td>0.0</td>\n",
       "      <td>0.000000</td>\n",
       "      <td>0.0</td>\n",
       "      <td>POLYGON ((6303295.597 1829889.616, 6303309.950...</td>\n",
       "      <td>NaN</td>\n",
       "      <td>0</td>\n",
       "    </tr>\n",
       "    <tr>\n",
       "      <th>625</th>\n",
       "      <td>626</td>\n",
       "      <td>0</td>\n",
       "      <td>209.03</td>\n",
       "      <td>1.850995e+09</td>\n",
       "      <td>284938.638194</td>\n",
       "      <td>4</td>\n",
       "      <td>US</td>\n",
       "      <td>626.0</td>\n",
       "      <td>BlockApportionment:US.BlockGroups</td>\n",
       "      <td>2.191</td>\n",
       "      <td>...</td>\n",
       "      <td>3</td>\n",
       "      <td>0.000884</td>\n",
       "      <td>1.620750e-09</td>\n",
       "      <td>0.0</td>\n",
       "      <td>0.0</td>\n",
       "      <td>0.000002</td>\n",
       "      <td>1007.0</td>\n",
       "      <td>POLYGON ((6241332.792 1999515.332, 6241884.729...</td>\n",
       "      <td>2.369414</td>\n",
       "      <td>1</td>\n",
       "    </tr>\n",
       "    <tr>\n",
       "      <th>626</th>\n",
       "      <td>627</td>\n",
       "      <td>0</td>\n",
       "      <td>210.00</td>\n",
       "      <td>3.942634e+09</td>\n",
       "      <td>378494.180568</td>\n",
       "      <td>5</td>\n",
       "      <td>US</td>\n",
       "      <td>627.0</td>\n",
       "      <td>BlockApportionment:US.BlockGroups</td>\n",
       "      <td>2.191</td>\n",
       "      <td>...</td>\n",
       "      <td>5</td>\n",
       "      <td>0.001029</td>\n",
       "      <td>1.268188e-09</td>\n",
       "      <td>0.0</td>\n",
       "      <td>0.0</td>\n",
       "      <td>0.000001</td>\n",
       "      <td>1148.0</td>\n",
       "      <td>POLYGON ((6330645.000 2099803.000, 6333200.000...</td>\n",
       "      <td>3.233449</td>\n",
       "      <td>1</td>\n",
       "    </tr>\n",
       "  </tbody>\n",
       "</table>\n",
       "<p>627 rows × 36 columns</p>\n",
       "</div>"
      ],
      "text/plain": [
       "     OBJECTID  Point_Count_Hospitals   TRACT   Shape__Area  Shape__Length  \\\n",
       "0           1                      0   57.00  3.870576e+05    2585.826401   \n",
       "1           2                      0   83.63  3.617466e+05    2801.804806   \n",
       "2           3                      0   47.00  4.926191e+05    2834.259295   \n",
       "3           4                      0   22.01  5.066623e+05    2886.206546   \n",
       "4           5                      0   45.01  4.643696e+05    2899.584649   \n",
       "..        ...                    ...     ...           ...            ...   \n",
       "622       623                      0  191.01  4.205117e+08  155781.470444   \n",
       "623       624                      0  209.02  6.131274e+08  178240.166173   \n",
       "624       625                      0  211.00  1.660533e+09  236004.724140   \n",
       "625       626                      0  209.03  1.850995e+09  284938.638194   \n",
       "626       627                      0  210.00  3.942634e+09  378494.180568   \n",
       "\n",
       "       ID sourceCountry  ENRICH_FID                  aggregationMethod  \\\n",
       "0       0            US         1.0  BlockApportionment:US.BlockGroups   \n",
       "1       1            US         2.0  BlockApportionment:US.BlockGroups   \n",
       "2       2            US         3.0  BlockApportionment:US.BlockGroups   \n",
       "3       3            US         4.0  BlockApportionment:US.BlockGroups   \n",
       "4       4            US         5.0  BlockApportionment:US.BlockGroups   \n",
       "..    ...           ...         ...                                ...   \n",
       "622     1            US       623.0  BlockApportionment:US.BlockGroups   \n",
       "623     2            US       624.0  BlockApportionment:US.BlockGroups   \n",
       "624  None          None         NaN                               None   \n",
       "625     4            US       626.0  BlockApportionment:US.BlockGroups   \n",
       "626     5            US       627.0  BlockApportionment:US.BlockGroups   \n",
       "\n",
       "     populationToPolygonSizeRating  ...  Point_Count_TestSites  \\\n",
       "0                            2.191  ...                      3   \n",
       "1                            2.191  ...                      1   \n",
       "2                            2.191  ...                      1   \n",
       "3                            2.191  ...                      0   \n",
       "4                            2.191  ...                      0   \n",
       "..                             ...  ...                    ...   \n",
       "622                          2.191  ...                      2   \n",
       "623                          2.191  ...                      2   \n",
       "624                            NaN  ...                      7   \n",
       "625                          2.191  ...                      3   \n",
       "626                          2.191  ...                      5   \n",
       "\n",
       "     testing_site_num_population_ratio  testing_site_num_area_ratio  \\\n",
       "0                             0.001453                 7.750783e-06   \n",
       "1                             0.000164                 2.764366e-06   \n",
       "2                             0.000491                 2.029966e-06   \n",
       "3                             0.000000                 0.000000e+00   \n",
       "4                             0.000000                 0.000000e+00   \n",
       "..                                 ...                          ...   \n",
       "622                           0.000249                 4.756111e-09   \n",
       "623                           0.000854                 3.261965e-09   \n",
       "624                                NaN                 4.215514e-09   \n",
       "625                           0.000884                 1.620750e-09   \n",
       "626                           0.001029                 1.268188e-09   \n",
       "\n",
       "     hospital_beds_num_population_ratio  hospital_beds_num_area_ratio  \\\n",
       "0                                   0.0                           0.0   \n",
       "1                                   0.0                           0.0   \n",
       "2                                   0.0                           0.0   \n",
       "3                                   0.0                           0.0   \n",
       "4                                   0.0                           0.0   \n",
       "..                                  ...                           ...   \n",
       "622                                 0.0                           0.0   \n",
       "623                                 0.0                           0.0   \n",
       "624                                 NaN                           0.0   \n",
       "625                                 0.0                           0.0   \n",
       "626                                 0.0                           0.0   \n",
       "\n",
       "     population_density  NON_WHITE_CY  \\\n",
       "0              0.005335         701.0   \n",
       "1              0.016816        4243.0   \n",
       "2              0.004135        1165.0   \n",
       "3              0.007461        2715.0   \n",
       "4              0.006740        1338.0   \n",
       "..                  ...           ...   \n",
       "622            0.000019        4075.0   \n",
       "623            0.000004         311.0   \n",
       "624            0.000000           0.0   \n",
       "625            0.000002        1007.0   \n",
       "626            0.000001        1148.0   \n",
       "\n",
       "                                              geometry  WHITE_NON_WHITE_RATIO  \\\n",
       "0    POLYGON ((6293438.095 1853304.830, 6293503.297...               1.945792   \n",
       "1    POLYGON ((6292472.285 1855719.495, 6292503.644...               0.433655   \n",
       "2    POLYGON ((6292613.597 1857793.035, 6292669.857...               0.748498   \n",
       "3    POLYGON ((6297364.831 1858582.740, 6297395.566...               0.392265   \n",
       "4    POLYGON ((6296136.003 1863452.471, 6296242.697...               1.339312   \n",
       "..                                                 ...                    ...   \n",
       "622  POLYGON ((6274139.898 1834593.163, 6274087.589...               0.968098   \n",
       "623  POLYGON ((6297188.499 1829212.755, 6297249.733...               6.533762   \n",
       "624  POLYGON ((6303295.597 1829889.616, 6303309.950...                    NaN   \n",
       "625  POLYGON ((6241332.792 1999515.332, 6241884.729...               2.369414   \n",
       "626  POLYGON ((6330645.000 2099803.000, 6333200.000...               3.233449   \n",
       "\n",
       "     is_white_area  \n",
       "0                1  \n",
       "1                0  \n",
       "2                0  \n",
       "3                0  \n",
       "4                1  \n",
       "..             ...  \n",
       "622              0  \n",
       "623              1  \n",
       "624              0  \n",
       "625              1  \n",
       "626              1  \n",
       "\n",
       "[627 rows x 36 columns]"
      ]
     },
     "execution_count": 140,
     "metadata": {},
     "output_type": "execute_result"
    }
   ],
   "source": [
    "testing_hospitals_merged"
   ]
  },
  {
   "cell_type": "code",
   "execution_count": 88,
   "metadata": {},
   "outputs": [],
   "source": [
    "from geopandas import GeoDataFrame"
   ]
  },
  {
   "cell_type": "code",
   "execution_count": 89,
   "metadata": {
    "scrolled": true
   },
   "outputs": [],
   "source": [
    "testing_hospitals_merged_gdf = GeoDataFrame(testing_hospitals_merged, crs=\"EPSG:2230\", geometry=census_tract_sdf.geometry)"
   ]
  },
  {
   "cell_type": "code",
   "execution_count": 163,
   "metadata": {},
   "outputs": [
    {
     "data": {
      "image/png": "[encoded data removed]",
      "text/plain": [
       "<Figure size 720x720 with 2 Axes>"
      ]
     },
     "metadata": {
      "needs_background": "light"
     },
     "output_type": "display_data"
    }
   ],
   "source": [
    "map_ethnics = testing_hospitals_merged_gdf.plot(figsize = (10,10),column = \"is_white_area\",cmap = \"Blues_r\",legend=True)"
   ]
  },
  {
   "cell_type": "code",
   "execution_count": null,
   "metadata": {},
   "outputs": [],
   "source": []
  },
  {
   "cell_type": "code",
   "execution_count": 144,
   "metadata": {},
   "outputs": [
    {
     "data": {
      "text/plain": [
       "<matplotlib.axes._subplots.AxesSubplot at 0x7fabf2ebc9d0>"
      ]
     },
     "execution_count": 144,
     "metadata": {},
     "output_type": "execute_result"
    },
    {
     "data": {
      "image/png": "[encoded data removed]",
      "text/plain": [
       "<Figure size 720x720 with 2 Axes>"
      ]
     },
     "metadata": {
      "needs_background": "light"
     },
     "output_type": "display_data"
    }
   ],
   "source": [
    "testing_hospitals_merged_gdf.plot(figsize = (10,10),column = \"population_density\",cmap = \"Greens\",legend=True)"
   ]
  },
  {
   "cell_type": "code",
   "execution_count": 165,
   "metadata": {},
   "outputs": [
    {
     "data": {
      "text/plain": [
       "<matplotlib.axes._subplots.AxesSubplot at 0x7fabf2080790>"
      ]
     },
     "execution_count": 165,
     "metadata": {},
     "output_type": "execute_result"
    },
    {
     "data": {
      "image/png": "[encoded data removed]",
      "text/plain": [
       "<Figure size 720x720 with 2 Axes>"
      ]
     },
     "metadata": {
      "needs_background": "light"
     },
     "output_type": "display_data"
    }
   ],
   "source": [
    "testing_hospitals_merged_gdf.plot(figsize = (10,10),column = \"testing_site_num_area_ratio\",cmap = \"Greens\",legend=True)"
   ]
  },
  {
   "cell_type": "code",
   "execution_count": 167,
   "metadata": {},
   "outputs": [
    {
     "data": {
      "text/plain": [
       "<matplotlib.axes._subplots.AxesSubplot at 0x7fabf1e566d0>"
      ]
     },
     "execution_count": 167,
     "metadata": {},
     "output_type": "execute_result"
    },
    {
     "data": {
      "image/png": "[encoded data removed]",
      "text/plain": [
       "<Figure size 720x720 with 2 Axes>"
      ]
     },
     "metadata": {
      "needs_background": "light"
     },
     "output_type": "display_data"
    }
   ],
   "source": [
    "testing_hospitals_merged_gdf.plot(figsize = (10,10),column = \"testing_site_num_population_ratio\",cmap = \"Greens\",legend=True)"
   ]
  },
  {
   "cell_type": "code",
   "execution_count": null,
   "metadata": {},
   "outputs": [],
   "source": []
  },
  {
   "cell_type": "code",
   "execution_count": 172,
   "metadata": {},
   "outputs": [
    {
     "data": {
      "text/plain": [
       "<matplotlib.axes._subplots.AxesSubplot at 0x7fabf1d2b210>"
      ]
     },
     "execution_count": 172,
     "metadata": {},
     "output_type": "execute_result"
    },
    {
     "data": {
      "image/png": "[encoded data removed]",
      "text/plain": [
       "<Figure size 720x720 with 2 Axes>"
      ]
     },
     "metadata": {
      "needs_background": "light"
     },
     "output_type": "display_data"
    }
   ],
   "source": [
    "testing_hospitals_merged_gdf.plot(figsize = (10,10),column = \"hospital_beds_num_population_ratio\",cmap = \"Greens\",legend=True)"
   ]
  },
  {
   "cell_type": "code",
   "execution_count": 177,
   "metadata": {},
   "outputs": [],
   "source": [
    "white_area = testing_hospitals_merged_gdf[testing_hospitals_merged_gdf['is_white_area'] == 1]\n",
    "non_white_area = testing_hospitals_merged_gdf[testing_hospitals_merged_gdf['is_white_area'] == 0]"
   ]
  },
  {
   "cell_type": "code",
   "execution_count": 179,
   "metadata": {},
   "outputs": [
    {
     "data": {
      "text/plain": [
       "9.782620335990276e-05"
      ]
     },
     "execution_count": 179,
     "metadata": {},
     "output_type": "execute_result"
    }
   ],
   "source": [
    "white_area['testing_site_num_population_ratio'].mean()"
   ]
  },
  {
   "cell_type": "code",
   "execution_count": 180,
   "metadata": {},
   "outputs": [
    {
     "data": {
      "text/plain": [
       "0.0001286816270018287"
      ]
     },
     "execution_count": 180,
     "metadata": {},
     "output_type": "execute_result"
    }
   ],
   "source": [
    "non_white_area['testing_site_num_population_ratio'].mean()"
   ]
  },
  {
   "cell_type": "code",
   "execution_count": 181,
   "metadata": {},
   "outputs": [
    {
     "data": {
      "text/plain": [
       "1.705897750359228e-07"
      ]
     },
     "execution_count": 181,
     "metadata": {},
     "output_type": "execute_result"
    }
   ],
   "source": [
    "white_area['testing_site_num_area_ratio'].mean()"
   ]
  },
  {
   "cell_type": "code",
   "execution_count": 182,
   "metadata": {},
   "outputs": [
    {
     "data": {
      "text/plain": [
       "4.12095383265619e-07"
      ]
     },
     "execution_count": 182,
     "metadata": {},
     "output_type": "execute_result"
    }
   ],
   "source": [
    "non_white_area['testing_site_num_area_ratio'].mean()"
   ]
  },
  {
   "cell_type": "code",
   "execution_count": 186,
   "metadata": {},
   "outputs": [
    {
     "data": {
      "text/plain": [
       "0.0016779590223675242"
      ]
     },
     "execution_count": 186,
     "metadata": {},
     "output_type": "execute_result"
    }
   ],
   "source": [
    "white_area['population_density'].mean()"
   ]
  },
  {
   "cell_type": "code",
   "execution_count": 187,
   "metadata": {},
   "outputs": [
    {
     "data": {
      "text/plain": [
       "0.0031026431784432628"
      ]
     },
     "execution_count": 187,
     "metadata": {},
     "output_type": "execute_result"
    }
   ],
   "source": [
    "non_white_area['population_density'].mean()"
   ]
  },
  {
   "cell_type": "code",
   "execution_count": 188,
   "metadata": {},
   "outputs": [
    {
     "data": {
      "text/plain": [
       "3.811463520653433e-06"
      ]
     },
     "execution_count": 188,
     "metadata": {},
     "output_type": "execute_result"
    }
   ],
   "source": [
    "white_area['hospital_beds_num_area_ratio'].mean()"
   ]
  },
  {
   "cell_type": "code",
   "execution_count": 189,
   "metadata": {},
   "outputs": [
    {
     "data": {
      "text/plain": [
       "2.558141604229059e-06"
      ]
     },
     "execution_count": 189,
     "metadata": {},
     "output_type": "execute_result"
    }
   ],
   "source": [
    "non_white_area['hospital_beds_num_area_ratio'].mean()"
   ]
  },
  {
   "cell_type": "code",
   "execution_count": 190,
   "metadata": {},
   "outputs": [
    {
     "data": {
      "text/plain": [
       "0.002220324483648236"
      ]
     },
     "execution_count": 190,
     "metadata": {},
     "output_type": "execute_result"
    }
   ],
   "source": [
    "white_area['hospital_beds_num_population_ratio'].mean()"
   ]
  },
  {
   "cell_type": "code",
   "execution_count": 191,
   "metadata": {},
   "outputs": [
    {
     "data": {
      "text/plain": [
       "0.0009265253393627882"
      ]
     },
     "execution_count": 191,
     "metadata": {},
     "output_type": "execute_result"
    }
   ],
   "source": [
    "non_white_area['hospital_beds_num_population_ratio'].mean()"
   ]
  },
  {
   "cell_type": "code",
   "execution_count": 200,
   "metadata": {},
   "outputs": [
    {
     "name": "stdout",
     "output_type": "stream",
     "text": [
      "Non Promise Area, RMSE: 0.02491894332089913\n",
      "Model Coefficients[-0.07493096]\n"
     ]
    }
   ],
   "source": [
    "import numpy as np\n",
    "from sklearn.linear_model import LinearRegression\n",
    "from sklearn.model_selection import train_test_split\n",
    "X = testing_hospitals_merged_gdf[[\"population_density\"]].fillna(0)\n",
    "y = testing_hospitals_merged_gdf['hospital_beds_num_population_ratio'].fillna(0)\n",
    "X_train, X_test, y_train, y_test = train_test_split(X, y)\n",
    "lg = LinearRegression()\n",
    "lg.fit(X_train, y_train)\n",
    "\n",
    "y_pred = lg.predict(X_test)\n",
    "\n",
    "from sklearn import metrics\n",
    "print(\"Non Promise Area, RMSE: \" + str(np.sqrt(metrics.mean_squared_error(y_test, y_pred))))\n",
    "print(\"Model Coefficients\"+str(lg.coef_))"
   ]
  },
  {
   "cell_type": "code",
   "execution_count": 199,
   "metadata": {},
   "outputs": [
    {
     "name": "stdout",
     "output_type": "stream",
     "text": [
      "Non Promise Area, RMSE: 0.0002192928278599807\n",
      "Model Coefficients[0.00637313]\n"
     ]
    }
   ],
   "source": [
    "X = testing_hospitals_merged_gdf[[\"population_density\"]].fillna(0)\n",
    "y = testing_hospitals_merged_gdf['testing_site_num_population_ratio'].fillna(0)\n",
    "X_train, X_test, y_train, y_test = train_test_split(X, y)\n",
    "lg = LinearRegression()\n",
    "lg.fit(X_train, y_train)\n",
    "\n",
    "y_pred = lg.predict(X_test)\n",
    "\n",
    "print(\"Non Promise Area, RMSE: \" + str(np.sqrt(metrics.mean_squared_error(y_test, y_pred))))\n",
    "print(\"Model Coefficients\"+str(lg.coef_))"
   ]
  },
  {
   "cell_type": "code",
   "execution_count": 201,
   "metadata": {},
   "outputs": [
    {
     "data": {
      "text/html": [
       "<div>\n",
       "<style scoped>\n",
       "    .dataframe tbody tr th:only-of-type {\n",
       "        vertical-align: middle;\n",
       "    }\n",
       "\n",
       "    .dataframe tbody tr th {\n",
       "        vertical-align: top;\n",
       "    }\n",
       "\n",
       "    .dataframe thead th {\n",
       "        text-align: right;\n",
       "    }\n",
       "</style>\n",
       "<table border=\"1\" class=\"dataframe\">\n",
       "  <thead>\n",
       "    <tr style=\"text-align: right;\">\n",
       "      <th></th>\n",
       "      <th>testing_site_num_population_ratio</th>\n",
       "      <th>is_white_area</th>\n",
       "    </tr>\n",
       "  </thead>\n",
       "  <tbody>\n",
       "    <tr>\n",
       "      <th>testing_site_num_population_ratio</th>\n",
       "      <td>1.000000</td>\n",
       "      <td>-0.064105</td>\n",
       "    </tr>\n",
       "    <tr>\n",
       "      <th>is_white_area</th>\n",
       "      <td>-0.064105</td>\n",
       "      <td>1.000000</td>\n",
       "    </tr>\n",
       "  </tbody>\n",
       "</table>\n",
       "</div>"
      ],
      "text/plain": [
       "                                   testing_site_num_population_ratio  \\\n",
       "testing_site_num_population_ratio                           1.000000   \n",
       "is_white_area                                              -0.064105   \n",
       "\n",
       "                                   is_white_area  \n",
       "testing_site_num_population_ratio      -0.064105  \n",
       "is_white_area                           1.000000  "
      ]
     },
     "metadata": {},
     "output_type": "display_data"
    },
    {
     "data": {
      "text/html": [
       "<div>\n",
       "<style scoped>\n",
       "    .dataframe tbody tr th:only-of-type {\n",
       "        vertical-align: middle;\n",
       "    }\n",
       "\n",
       "    .dataframe tbody tr th {\n",
       "        vertical-align: top;\n",
       "    }\n",
       "\n",
       "    .dataframe thead th {\n",
       "        text-align: right;\n",
       "    }\n",
       "</style>\n",
       "<table border=\"1\" class=\"dataframe\">\n",
       "  <thead>\n",
       "    <tr style=\"text-align: right;\">\n",
       "      <th></th>\n",
       "      <th>testing_site_num_area_ratio</th>\n",
       "      <th>is_white_area</th>\n",
       "    </tr>\n",
       "  </thead>\n",
       "  <tbody>\n",
       "    <tr>\n",
       "      <th>testing_site_num_area_ratio</th>\n",
       "      <td>1.000000</td>\n",
       "      <td>-0.164262</td>\n",
       "    </tr>\n",
       "    <tr>\n",
       "      <th>is_white_area</th>\n",
       "      <td>-0.164262</td>\n",
       "      <td>1.000000</td>\n",
       "    </tr>\n",
       "  </tbody>\n",
       "</table>\n",
       "</div>"
      ],
      "text/plain": [
       "                             testing_site_num_area_ratio  is_white_area\n",
       "testing_site_num_area_ratio                     1.000000      -0.164262\n",
       "is_white_area                                  -0.164262       1.000000"
      ]
     },
     "metadata": {},
     "output_type": "display_data"
    },
    {
     "data": {
      "text/html": [
       "<div>\n",
       "<style scoped>\n",
       "    .dataframe tbody tr th:only-of-type {\n",
       "        vertical-align: middle;\n",
       "    }\n",
       "\n",
       "    .dataframe tbody tr th {\n",
       "        vertical-align: top;\n",
       "    }\n",
       "\n",
       "    .dataframe thead th {\n",
       "        text-align: right;\n",
       "    }\n",
       "</style>\n",
       "<table border=\"1\" class=\"dataframe\">\n",
       "  <thead>\n",
       "    <tr style=\"text-align: right;\">\n",
       "      <th></th>\n",
       "      <th>hospital_beds_num_population_ratio</th>\n",
       "      <th>is_white_area</th>\n",
       "    </tr>\n",
       "  </thead>\n",
       "  <tbody>\n",
       "    <tr>\n",
       "      <th>hospital_beds_num_population_ratio</th>\n",
       "      <td>1.000000</td>\n",
       "      <td>0.038407</td>\n",
       "    </tr>\n",
       "    <tr>\n",
       "      <th>is_white_area</th>\n",
       "      <td>0.038407</td>\n",
       "      <td>1.000000</td>\n",
       "    </tr>\n",
       "  </tbody>\n",
       "</table>\n",
       "</div>"
      ],
      "text/plain": [
       "                                    hospital_beds_num_population_ratio  \\\n",
       "hospital_beds_num_population_ratio                            1.000000   \n",
       "is_white_area                                                 0.038407   \n",
       "\n",
       "                                    is_white_area  \n",
       "hospital_beds_num_population_ratio       0.038407  \n",
       "is_white_area                            1.000000  "
      ]
     },
     "metadata": {},
     "output_type": "display_data"
    },
    {
     "data": {
      "text/html": [
       "<div>\n",
       "<style scoped>\n",
       "    .dataframe tbody tr th:only-of-type {\n",
       "        vertical-align: middle;\n",
       "    }\n",
       "\n",
       "    .dataframe tbody tr th {\n",
       "        vertical-align: top;\n",
       "    }\n",
       "\n",
       "    .dataframe thead th {\n",
       "        text-align: right;\n",
       "    }\n",
       "</style>\n",
       "<table border=\"1\" class=\"dataframe\">\n",
       "  <thead>\n",
       "    <tr style=\"text-align: right;\">\n",
       "      <th></th>\n",
       "      <th>hospital_beds_num_area_ratio</th>\n",
       "      <th>is_white_area</th>\n",
       "    </tr>\n",
       "  </thead>\n",
       "  <tbody>\n",
       "    <tr>\n",
       "      <th>hospital_beds_num_area_ratio</th>\n",
       "      <td>1.000000</td>\n",
       "      <td>0.018474</td>\n",
       "    </tr>\n",
       "    <tr>\n",
       "      <th>is_white_area</th>\n",
       "      <td>0.018474</td>\n",
       "      <td>1.000000</td>\n",
       "    </tr>\n",
       "  </tbody>\n",
       "</table>\n",
       "</div>"
      ],
      "text/plain": [
       "                              hospital_beds_num_area_ratio  is_white_area\n",
       "hospital_beds_num_area_ratio                      1.000000       0.018474\n",
       "is_white_area                                     0.018474       1.000000"
      ]
     },
     "metadata": {},
     "output_type": "display_data"
    }
   ],
   "source": [
    "#Correlations\n",
    "display(testing_hospitals_merged_gdf[[\"testing_site_num_population_ratio\",\"is_white_area\"]].corr())\n",
    "display(testing_hospitals_merged_gdf[[\"testing_site_num_area_ratio\",\"is_white_area\"]].corr())\n",
    "display(testing_hospitals_merged_gdf[[\"hospital_beds_num_population_ratio\",\"is_white_area\"]].corr())\n",
    "display(testing_hospitals_merged_gdf[[\"hospital_beds_num_area_ratio\",\"is_white_area\"]].corr())"
   ]
  },
  {
   "cell_type": "code",
   "execution_count": 202,
   "metadata": {},
   "outputs": [
    {
     "data": {
      "text/html": [
       "<div>\n",
       "<style scoped>\n",
       "    .dataframe tbody tr th:only-of-type {\n",
       "        vertical-align: middle;\n",
       "    }\n",
       "\n",
       "    .dataframe tbody tr th {\n",
       "        vertical-align: top;\n",
       "    }\n",
       "\n",
       "    .dataframe thead th {\n",
       "        text-align: right;\n",
       "    }\n",
       "</style>\n",
       "<table border=\"1\" class=\"dataframe\">\n",
       "  <thead>\n",
       "    <tr style=\"text-align: right;\">\n",
       "      <th></th>\n",
       "      <th>testing_site_num_population_ratio</th>\n",
       "      <th>population_density</th>\n",
       "    </tr>\n",
       "  </thead>\n",
       "  <tbody>\n",
       "    <tr>\n",
       "      <th>testing_site_num_population_ratio</th>\n",
       "      <td>1.00000</td>\n",
       "      <td>0.04619</td>\n",
       "    </tr>\n",
       "    <tr>\n",
       "      <th>population_density</th>\n",
       "      <td>0.04619</td>\n",
       "      <td>1.00000</td>\n",
       "    </tr>\n",
       "  </tbody>\n",
       "</table>\n",
       "</div>"
      ],
      "text/plain": [
       "                                   testing_site_num_population_ratio  \\\n",
       "testing_site_num_population_ratio                            1.00000   \n",
       "population_density                                           0.04619   \n",
       "\n",
       "                                   population_density  \n",
       "testing_site_num_population_ratio             0.04619  \n",
       "population_density                            1.00000  "
      ]
     },
     "metadata": {},
     "output_type": "display_data"
    },
    {
     "data": {
      "text/html": [
       "<div>\n",
       "<style scoped>\n",
       "    .dataframe tbody tr th:only-of-type {\n",
       "        vertical-align: middle;\n",
       "    }\n",
       "\n",
       "    .dataframe tbody tr th {\n",
       "        vertical-align: top;\n",
       "    }\n",
       "\n",
       "    .dataframe thead th {\n",
       "        text-align: right;\n",
       "    }\n",
       "</style>\n",
       "<table border=\"1\" class=\"dataframe\">\n",
       "  <thead>\n",
       "    <tr style=\"text-align: right;\">\n",
       "      <th></th>\n",
       "      <th>testing_site_num_area_ratio</th>\n",
       "      <th>population_density</th>\n",
       "    </tr>\n",
       "  </thead>\n",
       "  <tbody>\n",
       "    <tr>\n",
       "      <th>testing_site_num_area_ratio</th>\n",
       "      <td>1.000000</td>\n",
       "      <td>0.401988</td>\n",
       "    </tr>\n",
       "    <tr>\n",
       "      <th>population_density</th>\n",
       "      <td>0.401988</td>\n",
       "      <td>1.000000</td>\n",
       "    </tr>\n",
       "  </tbody>\n",
       "</table>\n",
       "</div>"
      ],
      "text/plain": [
       "                             testing_site_num_area_ratio  population_density\n",
       "testing_site_num_area_ratio                     1.000000            0.401988\n",
       "population_density                              0.401988            1.000000"
      ]
     },
     "metadata": {},
     "output_type": "display_data"
    },
    {
     "data": {
      "text/html": [
       "<div>\n",
       "<style scoped>\n",
       "    .dataframe tbody tr th:only-of-type {\n",
       "        vertical-align: middle;\n",
       "    }\n",
       "\n",
       "    .dataframe tbody tr th {\n",
       "        vertical-align: top;\n",
       "    }\n",
       "\n",
       "    .dataframe thead th {\n",
       "        text-align: right;\n",
       "    }\n",
       "</style>\n",
       "<table border=\"1\" class=\"dataframe\">\n",
       "  <thead>\n",
       "    <tr style=\"text-align: right;\">\n",
       "      <th></th>\n",
       "      <th>hospital_beds_num_population_ratio</th>\n",
       "      <th>population_density</th>\n",
       "    </tr>\n",
       "  </thead>\n",
       "  <tbody>\n",
       "    <tr>\n",
       "      <th>hospital_beds_num_population_ratio</th>\n",
       "      <td>1.000000</td>\n",
       "      <td>-0.015938</td>\n",
       "    </tr>\n",
       "    <tr>\n",
       "      <th>population_density</th>\n",
       "      <td>-0.015938</td>\n",
       "      <td>1.000000</td>\n",
       "    </tr>\n",
       "  </tbody>\n",
       "</table>\n",
       "</div>"
      ],
      "text/plain": [
       "                                    hospital_beds_num_population_ratio  \\\n",
       "hospital_beds_num_population_ratio                            1.000000   \n",
       "population_density                                           -0.015938   \n",
       "\n",
       "                                    population_density  \n",
       "hospital_beds_num_population_ratio           -0.015938  \n",
       "population_density                            1.000000  "
      ]
     },
     "metadata": {},
     "output_type": "display_data"
    },
    {
     "data": {
      "text/html": [
       "<div>\n",
       "<style scoped>\n",
       "    .dataframe tbody tr th:only-of-type {\n",
       "        vertical-align: middle;\n",
       "    }\n",
       "\n",
       "    .dataframe tbody tr th {\n",
       "        vertical-align: top;\n",
       "    }\n",
       "\n",
       "    .dataframe thead th {\n",
       "        text-align: right;\n",
       "    }\n",
       "</style>\n",
       "<table border=\"1\" class=\"dataframe\">\n",
       "  <thead>\n",
       "    <tr style=\"text-align: right;\">\n",
       "      <th></th>\n",
       "      <th>hospital_beds_num_area_ratio</th>\n",
       "      <th>population_density</th>\n",
       "    </tr>\n",
       "  </thead>\n",
       "  <tbody>\n",
       "    <tr>\n",
       "      <th>hospital_beds_num_area_ratio</th>\n",
       "      <td>1.000000</td>\n",
       "      <td>0.025187</td>\n",
       "    </tr>\n",
       "    <tr>\n",
       "      <th>population_density</th>\n",
       "      <td>0.025187</td>\n",
       "      <td>1.000000</td>\n",
       "    </tr>\n",
       "  </tbody>\n",
       "</table>\n",
       "</div>"
      ],
      "text/plain": [
       "                              hospital_beds_num_area_ratio  population_density\n",
       "hospital_beds_num_area_ratio                      1.000000            0.025187\n",
       "population_density                                0.025187            1.000000"
      ]
     },
     "metadata": {},
     "output_type": "display_data"
    }
   ],
   "source": [
    "display(testing_hospitals_merged_gdf[[\"testing_site_num_population_ratio\",\"population_density\"]].corr())\n",
    "display(testing_hospitals_merged_gdf[[\"testing_site_num_area_ratio\",\"population_density\"]].corr())\n",
    "display(testing_hospitals_merged_gdf[[\"hospital_beds_num_population_ratio\",\"population_density\"]].corr())\n",
    "display(testing_hospitals_merged_gdf[[\"hospital_beds_num_area_ratio\",\"population_density\"]].corr())"
   ]
  },
  {
   "cell_type": "code",
   "execution_count": null,
   "metadata": {},
   "outputs": [],
   "source": []
  }
 ],
 "metadata": {
  "kernelspec": {
   "display_name": "Python 3",
   "language": "python",
   "name": "python3"
  },
  "language_info": {
   "codemirror_mode": {
    "name": "ipython",
    "version": 3
   },
   "file_extension": ".py",
   "mimetype": "text/x-python",
   "name": "python",
   "nbconvert_exporter": "python",
   "pygments_lexer": "ipython3",
   "version": "3.7.6"
  }
 },
 "nbformat": 4,
 "nbformat_minor": 4
}
