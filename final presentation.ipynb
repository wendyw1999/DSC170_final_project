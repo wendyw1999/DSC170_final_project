{
 "cells": [
  {
   "cell_type": "code",
   "execution_count": 1,
   "metadata": {},
   "outputs": [
    {
     "name": "stdout",
     "output_type": "stream",
     "text": [
      "Enter password: ········\n"
     ]
    }
   ],
   "source": [
    "from arcgis import GIS\n",
    "from arcgis.raster import *\n",
    "from arcgis.geometry import *\n",
    "%matplotlib inline\n",
    "import pandas as pd\n",
    "import numpy as np\n",
    "gis = GIS(username=\"caw062_dsc170fa20\", verify_cert=False) "
   ]
  },
  {
   "cell_type": "markdown",
   "metadata": {},
   "source": [
    "# Importing Data\n",
    "\n",
    "1. (arcgis layer) First layer comes from testing locations in the United States. since we are only interested in testing sites within SD county, we will use find existing locations to create a layer from the original layer that has county == San Diego.\n",
    "2. (Local shapefile from Sandorg) Census tract enriched with data, ethnicities (white population, black population, hispanic population, asian population, pacific islanders population, other population), total population, median income level, population over 65 years old. \n",
    "3. (arcgis layer) hospital points geometry layer in SD. "
   ]
  },
  {
   "cell_type": "code",
   "execution_count": 260,
   "metadata": {},
   "outputs": [
    {
     "data": {
      "text/html": [
       "<div class=\"item_container\" style=\"height: auto; overflow: hidden; border: 1px solid #cfcfcf; border-radius: 2px; background: #f6fafa; line-height: 1.21429em; padding: 10px;\">\n",
       "                    <div class=\"item_left\" style=\"width: 210px; float: left;\">\n",
       "                       <a href='https://UCSDOnline.maps.arcgis.com/home/item.html?id=11fe8f374c344549815a716c8472832f' target='_blank'>\n",
       "                        <img src='data:image/png;base64,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' width='200' height='133' class=\"itemThumbnail\">\n",
       "                       </a>\n",
       "                    </div>\n",
       "\n",
       "                    <div class=\"item_right\"     style=\"float: none; width: auto; overflow: hidden;\">\n",
       "                        <a href='https://UCSDOnline.maps.arcgis.com/home/item.html?id=11fe8f374c344549815a716c8472832f' target='_blank'><b>GISCorps COVID-19 Testing Locations in the United States Symbolized by Status</b>\n",
       "                        </a>\n",
       "                        <br/>COVID-19 testing locations in U.S. states and territories compiled and updated by GISCorps volunteers. Information is sourced from public information shared by health departments, local governments, and healthcare providers.<img src='https://UCSDOnline.maps.arcgis.com/home/js/jsapi/esri/css/images/item_type_icons/featureshosted16.png' style=\"vertical-align:middle;\">Feature Layer Collection by htorpey_GC\n",
       "                        <br/>Last Modified: December 09, 2020\n",
       "                        <br/>4 comments, 12,460,377 views\n",
       "                    </div>\n",
       "                </div>\n",
       "                "
      ],
      "text/plain": [
       "<Item title:\"GISCorps COVID-19 Testing Locations in the United States Symbolized by Status\" type:Feature Layer Collection owner:htorpey_GC>"
      ]
     },
     "execution_count": 260,
     "metadata": {},
     "output_type": "execute_result"
    }
   ],
   "source": [
    "\n",
    "testing_sites = gis.content.get('11fe8f374c344549815a716c8472832f')\n",
    "testing_sites"
   ]
  },
  {
   "cell_type": "code",
   "execution_count": 261,
   "metadata": {},
   "outputs": [],
   "source": [
    "testing_layer = testing_sites.layers[0]"
   ]
  },
  {
   "cell_type": "code",
   "execution_count": 262,
   "metadata": {},
   "outputs": [],
   "source": [
    "testing_sites_sdf = pd.DataFrame.spatial.from_layer(testing_layer)"
   ]
  },
  {
   "cell_type": "code",
   "execution_count": 310,
   "metadata": {},
   "outputs": [
    {
     "data": {
      "text/html": [
       "<div>\n",
       "<style scoped>\n",
       "    .dataframe tbody tr th:only-of-type {\n",
       "        vertical-align: middle;\n",
       "    }\n",
       "\n",
       "    .dataframe tbody tr th {\n",
       "        vertical-align: top;\n",
       "    }\n",
       "\n",
       "    .dataframe thead th {\n",
       "        text-align: right;\n",
       "    }\n",
       "</style>\n",
       "<table border=\"1\" class=\"dataframe\">\n",
       "  <thead>\n",
       "    <tr style=\"text-align: right;\">\n",
       "      <th></th>\n",
       "      <th>OBJECTID</th>\n",
       "      <th>facilityid</th>\n",
       "      <th>name</th>\n",
       "      <th>fulladdr</th>\n",
       "      <th>municipality</th>\n",
       "      <th>agency</th>\n",
       "      <th>agencytype</th>\n",
       "      <th>phone</th>\n",
       "      <th>agencyurl</th>\n",
       "      <th>operhours</th>\n",
       "      <th>...</th>\n",
       "      <th>vehicle_required</th>\n",
       "      <th>facility_type</th>\n",
       "      <th>Outside_FID</th>\n",
       "      <th>filter</th>\n",
       "      <th>minimum_age</th>\n",
       "      <th>Same_Day_Results</th>\n",
       "      <th>take_home_test</th>\n",
       "      <th>Wheelchair_Accessible</th>\n",
       "      <th>Accessibility_Support</th>\n",
       "      <th>SHAPE</th>\n",
       "    </tr>\n",
       "  </thead>\n",
       "  <tbody>\n",
       "    <tr>\n",
       "      <th>0</th>\n",
       "      <td>2</td>\n",
       "      <td>None</td>\n",
       "      <td>Legacy Community Health, Fifth Ward</td>\n",
       "      <td>3811 Lyons Ave., Houston, TX 77020</td>\n",
       "      <td>Houston</td>\n",
       "      <td>Legacy Community Health</td>\n",
       "      <td>Private</td>\n",
       "      <td>8325485400</td>\n",
       "      <td>https://www.legacycommunityhealth.org/</td>\n",
       "      <td>M-F, 8am - 5pm</td>\n",
       "      <td>...</td>\n",
       "      <td>None</td>\n",
       "      <td>None</td>\n",
       "      <td>NaN</td>\n",
       "      <td>None</td>\n",
       "      <td>NaN</td>\n",
       "      <td>None</td>\n",
       "      <td>No</td>\n",
       "      <td>Unknown</td>\n",
       "      <td>None</td>\n",
       "      <td>{\"x\": -10612273.983, \"y\": 3474802.5209000036, ...</td>\n",
       "    </tr>\n",
       "    <tr>\n",
       "      <th>1</th>\n",
       "      <td>7</td>\n",
       "      <td>None</td>\n",
       "      <td>United Memorial Medical Center - Tidwell</td>\n",
       "      <td>510 W Tidwell Rd, Houston, TX, 77091</td>\n",
       "      <td>Houston</td>\n",
       "      <td>United Memorial Medical Center</td>\n",
       "      <td>Private</td>\n",
       "      <td>281-618-8500</td>\n",
       "      <td>https://www.ummcscreening.com/testing-locations</td>\n",
       "      <td>M-F, 8 a.m. – 3 p.m.</td>\n",
       "      <td>...</td>\n",
       "      <td>Yes</td>\n",
       "      <td>Medical Center</td>\n",
       "      <td>NaN</td>\n",
       "      <td>None</td>\n",
       "      <td>NaN</td>\n",
       "      <td>No</td>\n",
       "      <td>No</td>\n",
       "      <td>Unknown</td>\n",
       "      <td>None</td>\n",
       "      <td>{\"x\": -10620787.9203, \"y\": 3484008.149099998, ...</td>\n",
       "    </tr>\n",
       "    <tr>\n",
       "      <th>2</th>\n",
       "      <td>8</td>\n",
       "      <td>None</td>\n",
       "      <td>Legacy Bissonnett</td>\n",
       "      <td>12667 Bissonnet St, Houston, TX, 77099</td>\n",
       "      <td>Houston</td>\n",
       "      <td>Legacy Community Health</td>\n",
       "      <td>Private</td>\n",
       "      <td>8325485000</td>\n",
       "      <td>https://www.legacycommunityhealth.org/</td>\n",
       "      <td>None</td>\n",
       "      <td>...</td>\n",
       "      <td>None</td>\n",
       "      <td>None</td>\n",
       "      <td>NaN</td>\n",
       "      <td>None</td>\n",
       "      <td>NaN</td>\n",
       "      <td>None</td>\n",
       "      <td>No</td>\n",
       "      <td>Unknown</td>\n",
       "      <td>None</td>\n",
       "      <td>{\"x\": -10642303.6618, \"y\": 3462171.8198999986,...</td>\n",
       "    </tr>\n",
       "    <tr>\n",
       "      <th>3</th>\n",
       "      <td>11</td>\n",
       "      <td>None</td>\n",
       "      <td>Legacy Deer Park</td>\n",
       "      <td>3430 Center., Deer Park, TX</td>\n",
       "      <td>Deer Park</td>\n",
       "      <td>Legacy Community Health</td>\n",
       "      <td>Private</td>\n",
       "      <td>281-628-2040</td>\n",
       "      <td>https://www.legacycommunityhealth.org/</td>\n",
       "      <td>M-F, 8am - 5pm</td>\n",
       "      <td>...</td>\n",
       "      <td>None</td>\n",
       "      <td>None</td>\n",
       "      <td>NaN</td>\n",
       "      <td>None</td>\n",
       "      <td>NaN</td>\n",
       "      <td>None</td>\n",
       "      <td>No</td>\n",
       "      <td>Unknown</td>\n",
       "      <td>None</td>\n",
       "      <td>{\"x\": -10589092.1266, \"y\": 3462587.6445999965,...</td>\n",
       "    </tr>\n",
       "    <tr>\n",
       "      <th>4</th>\n",
       "      <td>12</td>\n",
       "      <td>None</td>\n",
       "      <td>Legacy Branard</td>\n",
       "      <td>401 Branard St., Houston, TX 77006</td>\n",
       "      <td>Houston</td>\n",
       "      <td>Legacy Community Health</td>\n",
       "      <td>Private</td>\n",
       "      <td>713-366-7444</td>\n",
       "      <td>https://www.legacycommunityhealth.org/</td>\n",
       "      <td>None</td>\n",
       "      <td>...</td>\n",
       "      <td>None</td>\n",
       "      <td>None</td>\n",
       "      <td>NaN</td>\n",
       "      <td>None</td>\n",
       "      <td>NaN</td>\n",
       "      <td>None</td>\n",
       "      <td>No</td>\n",
       "      <td>Unknown</td>\n",
       "      <td>None</td>\n",
       "      <td>{\"x\": -10618178.1424, \"y\": 3469722.2556999996,...</td>\n",
       "    </tr>\n",
       "    <tr>\n",
       "      <th>...</th>\n",
       "      <td>...</td>\n",
       "      <td>...</td>\n",
       "      <td>...</td>\n",
       "      <td>...</td>\n",
       "      <td>...</td>\n",
       "      <td>...</td>\n",
       "      <td>...</td>\n",
       "      <td>...</td>\n",
       "      <td>...</td>\n",
       "      <td>...</td>\n",
       "      <td>...</td>\n",
       "      <td>...</td>\n",
       "      <td>...</td>\n",
       "      <td>...</td>\n",
       "      <td>...</td>\n",
       "      <td>...</td>\n",
       "      <td>...</td>\n",
       "      <td>...</td>\n",
       "      <td>...</td>\n",
       "      <td>...</td>\n",
       "      <td>...</td>\n",
       "    </tr>\n",
       "    <tr>\n",
       "      <th>32330</th>\n",
       "      <td>44744</td>\n",
       "      <td>None</td>\n",
       "      <td>Leman Middle School</td>\n",
       "      <td>238 E. Hazel Street, West Chicago, IL</td>\n",
       "      <td>West Chicago</td>\n",
       "      <td>State of Illinois</td>\n",
       "      <td>State</td>\n",
       "      <td>None</td>\n",
       "      <td>https://westchicago.org/police/free-covid-19-t...</td>\n",
       "      <td>Thursday, December 10, 2020, from 8:00 a.m. – ...</td>\n",
       "      <td>...</td>\n",
       "      <td>Yes</td>\n",
       "      <td>Mobile</td>\n",
       "      <td>NaN</td>\n",
       "      <td>None</td>\n",
       "      <td>NaN</td>\n",
       "      <td>No</td>\n",
       "      <td>No</td>\n",
       "      <td>Unknown</td>\n",
       "      <td>Unknown</td>\n",
       "      <td>{\"x\": -9818880.43578606, \"y\": 5142036.44922462...</td>\n",
       "    </tr>\n",
       "    <tr>\n",
       "      <th>32331</th>\n",
       "      <td>44745</td>\n",
       "      <td>None</td>\n",
       "      <td>Leman Middle School</td>\n",
       "      <td>238 E. Hazel Street, West Chicago, IL</td>\n",
       "      <td>West Chicago</td>\n",
       "      <td>State of Illinois</td>\n",
       "      <td>State</td>\n",
       "      <td>None</td>\n",
       "      <td>https://westchicago.org/police/free-covid-19-t...</td>\n",
       "      <td>Saturday December 5, 2020, from 8:00 a.m. – 4:...</td>\n",
       "      <td>...</td>\n",
       "      <td>Yes</td>\n",
       "      <td>Mobile</td>\n",
       "      <td>NaN</td>\n",
       "      <td>None</td>\n",
       "      <td>NaN</td>\n",
       "      <td>No</td>\n",
       "      <td>No</td>\n",
       "      <td>Unknown</td>\n",
       "      <td>Unknown</td>\n",
       "      <td>{\"x\": -9818865.042258289, \"y\": 5142035.4539386...</td>\n",
       "    </tr>\n",
       "    <tr>\n",
       "      <th>32332</th>\n",
       "      <td>44746</td>\n",
       "      <td>None</td>\n",
       "      <td>COVID-19 Walk-up Testing - Cuesa's Ferry Plaza...</td>\n",
       "      <td>1 Ferry Building, San Francisco, CA, 94111, USA</td>\n",
       "      <td>San Francisco</td>\n",
       "      <td>Curative &amp; CUESA</td>\n",
       "      <td>Public-Private Partnership</td>\n",
       "      <td>None</td>\n",
       "      <td>https://curative.com/sites/15716#9/37.7938/-12...</td>\n",
       "      <td>9 am to 3 pm Thursday, December 10th</td>\n",
       "      <td>...</td>\n",
       "      <td>No</td>\n",
       "      <td>Mobile</td>\n",
       "      <td>NaN</td>\n",
       "      <td>None</td>\n",
       "      <td>NaN</td>\n",
       "      <td>No</td>\n",
       "      <td>No</td>\n",
       "      <td>Unknown</td>\n",
       "      <td>Unknown</td>\n",
       "      <td>{\"x\": -13624816.555720571, \"y\": 4550544.375209...</td>\n",
       "    </tr>\n",
       "    <tr>\n",
       "      <th>32333</th>\n",
       "      <td>44747</td>\n",
       "      <td>None</td>\n",
       "      <td>COVID-19 Walk-up Testing - CUESA's Ferry Plaza...</td>\n",
       "      <td>1 Ferry Building, San Francisco, CA, 94111, USA</td>\n",
       "      <td>San Francisco</td>\n",
       "      <td>Curative &amp; CUESA</td>\n",
       "      <td>Public-Private Partnership</td>\n",
       "      <td>None</td>\n",
       "      <td>https://curative.com/sites/15716#9/37.7938/-12...</td>\n",
       "      <td>9 am to 3 pm December 17th</td>\n",
       "      <td>...</td>\n",
       "      <td>No</td>\n",
       "      <td>Mobile</td>\n",
       "      <td>NaN</td>\n",
       "      <td>None</td>\n",
       "      <td>NaN</td>\n",
       "      <td>No</td>\n",
       "      <td>No</td>\n",
       "      <td>Unknown</td>\n",
       "      <td>Unknown</td>\n",
       "      <td>{\"x\": -13624817.75004914, \"y\": 4550544.3752094...</td>\n",
       "    </tr>\n",
       "    <tr>\n",
       "      <th>32334</th>\n",
       "      <td>44748</td>\n",
       "      <td>None</td>\n",
       "      <td>Farmers Market Testing Event</td>\n",
       "      <td>4301 S. Central Ave., Los Angeles, CA</td>\n",
       "      <td>Los Angeles</td>\n",
       "      <td>CouncilmanCurren D. Price, Jr.</td>\n",
       "      <td>Municipal</td>\n",
       "      <td>(213) 400-0552</td>\n",
       "      <td>https://twitter.com/CurrenDPriceJr/status/1336...</td>\n",
       "      <td>8am - 2:30pm December 10th</td>\n",
       "      <td>...</td>\n",
       "      <td>No</td>\n",
       "      <td>Mobile</td>\n",
       "      <td>NaN</td>\n",
       "      <td>None</td>\n",
       "      <td>NaN</td>\n",
       "      <td>No</td>\n",
       "      <td>No</td>\n",
       "      <td>Unknown</td>\n",
       "      <td>Unknown</td>\n",
       "      <td>{\"x\": -13164261.005874423, \"y\": 4029564.360163...</td>\n",
       "    </tr>\n",
       "  </tbody>\n",
       "</table>\n",
       "<p>32335 rows × 47 columns</p>\n",
       "</div>"
      ],
      "text/plain": [
       "       OBJECTID facilityid                                               name  \\\n",
       "0             2       None                Legacy Community Health, Fifth Ward   \n",
       "1             7       None           United Memorial Medical Center - Tidwell   \n",
       "2             8       None                                  Legacy Bissonnett   \n",
       "3            11       None                                   Legacy Deer Park   \n",
       "4            12       None                                     Legacy Branard   \n",
       "...         ...        ...                                                ...   \n",
       "32330     44744       None                                Leman Middle School   \n",
       "32331     44745       None                                Leman Middle School   \n",
       "32332     44746       None  COVID-19 Walk-up Testing - Cuesa's Ferry Plaza...   \n",
       "32333     44747       None  COVID-19 Walk-up Testing - CUESA's Ferry Plaza...   \n",
       "32334     44748       None                       Farmers Market Testing Event   \n",
       "\n",
       "                                              fulladdr   municipality  \\\n",
       "0                   3811 Lyons Ave., Houston, TX 77020        Houston   \n",
       "1                 510 W Tidwell Rd, Houston, TX, 77091        Houston   \n",
       "2               12667 Bissonnet St, Houston, TX, 77099        Houston   \n",
       "3                          3430 Center., Deer Park, TX      Deer Park   \n",
       "4                   401 Branard St., Houston, TX 77006        Houston   \n",
       "...                                                ...            ...   \n",
       "32330            238 E. Hazel Street, West Chicago, IL   West Chicago   \n",
       "32331            238 E. Hazel Street, West Chicago, IL   West Chicago   \n",
       "32332  1 Ferry Building, San Francisco, CA, 94111, USA  San Francisco   \n",
       "32333  1 Ferry Building, San Francisco, CA, 94111, USA  San Francisco   \n",
       "32334            4301 S. Central Ave., Los Angeles, CA    Los Angeles   \n",
       "\n",
       "                               agency                  agencytype  \\\n",
       "0             Legacy Community Health                     Private   \n",
       "1      United Memorial Medical Center                     Private   \n",
       "2             Legacy Community Health                     Private   \n",
       "3             Legacy Community Health                     Private   \n",
       "4             Legacy Community Health                     Private   \n",
       "...                               ...                         ...   \n",
       "32330               State of Illinois                       State   \n",
       "32331               State of Illinois                       State   \n",
       "32332                Curative & CUESA  Public-Private Partnership   \n",
       "32333                Curative & CUESA  Public-Private Partnership   \n",
       "32334  CouncilmanCurren D. Price, Jr.                   Municipal   \n",
       "\n",
       "                phone                                          agencyurl  \\\n",
       "0          8325485400             https://www.legacycommunityhealth.org/   \n",
       "1        281-618-8500    https://www.ummcscreening.com/testing-locations   \n",
       "2          8325485000             https://www.legacycommunityhealth.org/   \n",
       "3        281-628-2040             https://www.legacycommunityhealth.org/   \n",
       "4        713-366-7444             https://www.legacycommunityhealth.org/   \n",
       "...               ...                                                ...   \n",
       "32330            None  https://westchicago.org/police/free-covid-19-t...   \n",
       "32331            None  https://westchicago.org/police/free-covid-19-t...   \n",
       "32332            None  https://curative.com/sites/15716#9/37.7938/-12...   \n",
       "32333            None  https://curative.com/sites/15716#9/37.7938/-12...   \n",
       "32334  (213) 400-0552  https://twitter.com/CurrenDPriceJr/status/1336...   \n",
       "\n",
       "                                               operhours  ...  \\\n",
       "0                                         M-F, 8am - 5pm  ...   \n",
       "1                                   M-F, 8 a.m. – 3 p.m.  ...   \n",
       "2                                                   None  ...   \n",
       "3                                         M-F, 8am - 5pm  ...   \n",
       "4                                                   None  ...   \n",
       "...                                                  ...  ...   \n",
       "32330  Thursday, December 10, 2020, from 8:00 a.m. – ...  ...   \n",
       "32331  Saturday December 5, 2020, from 8:00 a.m. – 4:...  ...   \n",
       "32332               9 am to 3 pm Thursday, December 10th  ...   \n",
       "32333                         9 am to 3 pm December 17th  ...   \n",
       "32334                         8am - 2:30pm December 10th  ...   \n",
       "\n",
       "      vehicle_required   facility_type  Outside_FID  filter minimum_age  \\\n",
       "0                 None            None          NaN    None         NaN   \n",
       "1                  Yes  Medical Center          NaN    None         NaN   \n",
       "2                 None            None          NaN    None         NaN   \n",
       "3                 None            None          NaN    None         NaN   \n",
       "4                 None            None          NaN    None         NaN   \n",
       "...                ...             ...          ...     ...         ...   \n",
       "32330              Yes          Mobile          NaN    None         NaN   \n",
       "32331              Yes          Mobile          NaN    None         NaN   \n",
       "32332               No          Mobile          NaN    None         NaN   \n",
       "32333               No          Mobile          NaN    None         NaN   \n",
       "32334               No          Mobile          NaN    None         NaN   \n",
       "\n",
       "      Same_Day_Results take_home_test  Wheelchair_Accessible  \\\n",
       "0                 None             No                Unknown   \n",
       "1                   No             No                Unknown   \n",
       "2                 None             No                Unknown   \n",
       "3                 None             No                Unknown   \n",
       "4                 None             No                Unknown   \n",
       "...                ...            ...                    ...   \n",
       "32330               No             No                Unknown   \n",
       "32331               No             No                Unknown   \n",
       "32332               No             No                Unknown   \n",
       "32333               No             No                Unknown   \n",
       "32334               No             No                Unknown   \n",
       "\n",
       "      Accessibility_Support                                              SHAPE  \n",
       "0                      None  {\"x\": -10612273.983, \"y\": 3474802.5209000036, ...  \n",
       "1                      None  {\"x\": -10620787.9203, \"y\": 3484008.149099998, ...  \n",
       "2                      None  {\"x\": -10642303.6618, \"y\": 3462171.8198999986,...  \n",
       "3                      None  {\"x\": -10589092.1266, \"y\": 3462587.6445999965,...  \n",
       "4                      None  {\"x\": -10618178.1424, \"y\": 3469722.2556999996,...  \n",
       "...                     ...                                                ...  \n",
       "32330               Unknown  {\"x\": -9818880.43578606, \"y\": 5142036.44922462...  \n",
       "32331               Unknown  {\"x\": -9818865.042258289, \"y\": 5142035.4539386...  \n",
       "32332               Unknown  {\"x\": -13624816.555720571, \"y\": 4550544.375209...  \n",
       "32333               Unknown  {\"x\": -13624817.75004914, \"y\": 4550544.3752094...  \n",
       "32334               Unknown  {\"x\": -13164261.005874423, \"y\": 4029564.360163...  \n",
       "\n",
       "[32335 rows x 47 columns]"
      ]
     },
     "execution_count": 310,
     "metadata": {},
     "output_type": "execute_result"
    }
   ],
   "source": [
    "testing_sites_sdf"
   ]
  },
  {
   "cell_type": "code",
   "execution_count": 269,
   "metadata": {},
   "outputs": [
    {
     "data": {
      "text/plain": [
       "Index(['OBJECTID', 'facilityid', 'name', 'fulladdr', 'municipality', 'agency',\n",
       "       'agencytype', 'phone', 'agencyurl', 'operhours', 'comments',\n",
       "       'Instructions', 'numvehicles', 'testcapacity', 'status', 'CreationDate',\n",
       "       'EditDate', 'Vetted', 'drive_through', 'appt_only', 'referral_required',\n",
       "       'services_offered_onsite', 'call_first', 'virtual_screening',\n",
       "       'health_dept_url', 'State', 'GlobalID', 'data_source', 'county',\n",
       "       'red_flag', 'vol_note', 'public_form', 'start_date', 'end_date',\n",
       "       'type_of_test', 'test_processing', 'fine_print', 'vehicle_required',\n",
       "       'facility_type', 'Outside_FID', 'filter', 'minimum_age',\n",
       "       'Same_Day_Results', 'take_home_test', 'Wheelchair_Accessible',\n",
       "       'Accessibility_Support', 'SHAPE'],\n",
       "      dtype='object')"
      ]
     },
     "execution_count": 269,
     "metadata": {},
     "output_type": "execute_result"
    }
   ],
   "source": [
    "testing_sites_sdf.columns"
   ]
  },
  {
   "cell_type": "code",
   "execution_count": 271,
   "metadata": {},
   "outputs": [
    {
     "data": {
      "text/html": [
       "<div>\n",
       "<style scoped>\n",
       "    .dataframe tbody tr th:only-of-type {\n",
       "        vertical-align: middle;\n",
       "    }\n",
       "\n",
       "    .dataframe tbody tr th {\n",
       "        vertical-align: top;\n",
       "    }\n",
       "\n",
       "    .dataframe thead th {\n",
       "        text-align: right;\n",
       "    }\n",
       "</style>\n",
       "<table border=\"1\" class=\"dataframe\">\n",
       "  <thead>\n",
       "    <tr style=\"text-align: right;\">\n",
       "      <th></th>\n",
       "      <th>OBJECTID</th>\n",
       "      <th>facilityid</th>\n",
       "      <th>name</th>\n",
       "      <th>fulladdr</th>\n",
       "      <th>municipality</th>\n",
       "      <th>agency</th>\n",
       "      <th>agencytype</th>\n",
       "      <th>phone</th>\n",
       "      <th>agencyurl</th>\n",
       "      <th>operhours</th>\n",
       "      <th>...</th>\n",
       "      <th>vehicle_required</th>\n",
       "      <th>facility_type</th>\n",
       "      <th>Outside_FID</th>\n",
       "      <th>filter</th>\n",
       "      <th>minimum_age</th>\n",
       "      <th>Same_Day_Results</th>\n",
       "      <th>take_home_test</th>\n",
       "      <th>Wheelchair_Accessible</th>\n",
       "      <th>Accessibility_Support</th>\n",
       "      <th>SHAPE</th>\n",
       "    </tr>\n",
       "  </thead>\n",
       "  <tbody>\n",
       "    <tr>\n",
       "      <th>1109</th>\n",
       "      <td>1708</td>\n",
       "      <td>None</td>\n",
       "      <td>San Diego County Public Health Laboratory</td>\n",
       "      <td>3851 Rosecrans Street Suite 716, San Diego, CA...</td>\n",
       "      <td>San Diego</td>\n",
       "      <td>San Diego County Department of Public Health</td>\n",
       "      <td>County</td>\n",
       "      <td>619-692-8500</td>\n",
       "      <td>https://www.sandiegocounty.gov/hhsa/programs/p...</td>\n",
       "      <td>Monday - Friday 8 AM - 4 PM</td>\n",
       "      <td>...</td>\n",
       "      <td>None</td>\n",
       "      <td>Public Health Department</td>\n",
       "      <td>NaN</td>\n",
       "      <td>None</td>\n",
       "      <td>NaN</td>\n",
       "      <td>None</td>\n",
       "      <td>No</td>\n",
       "      <td>Unknown</td>\n",
       "      <td>Unknown</td>\n",
       "      <td>{\"x\": -13046842.1711, \"y\": 3862542.846199997, ...</td>\n",
       "    </tr>\n",
       "    <tr>\n",
       "      <th>1114</th>\n",
       "      <td>1718</td>\n",
       "      <td>None</td>\n",
       "      <td>Drive-Thru Screening Station at SDCCU Stadium</td>\n",
       "      <td>9449 Friars Rd, San Diego, CA 92108</td>\n",
       "      <td>San Diego</td>\n",
       "      <td>San Diego County Department of Public Health</td>\n",
       "      <td>County</td>\n",
       "      <td>(619) 692-8499</td>\n",
       "      <td>https://www.sandiegocounty.gov/content/sdc/hhs...</td>\n",
       "      <td>Monday - Saturday</td>\n",
       "      <td>...</td>\n",
       "      <td>None</td>\n",
       "      <td>Outdoor</td>\n",
       "      <td>NaN</td>\n",
       "      <td>None</td>\n",
       "      <td>NaN</td>\n",
       "      <td>None</td>\n",
       "      <td>No</td>\n",
       "      <td>Unknown</td>\n",
       "      <td>Unknown</td>\n",
       "      <td>{\"x\": -13037768.3779, \"y\": 3866356.7286000033,...</td>\n",
       "    </tr>\n",
       "    <tr>\n",
       "      <th>1298</th>\n",
       "      <td>1996</td>\n",
       "      <td>None</td>\n",
       "      <td>Scripps Clinic Torrey Pines</td>\n",
       "      <td>10710 North Torrey Pines Rd.La Jolla, CA 92037</td>\n",
       "      <td>San Diego</td>\n",
       "      <td>Scripps Health</td>\n",
       "      <td>Non Profit</td>\n",
       "      <td>888-261-8431</td>\n",
       "      <td>https://www.scripps.org/locations/scripps-clin...</td>\n",
       "      <td>Monday -Friday 7am -7pm; Saturday 8am-noon</td>\n",
       "      <td>...</td>\n",
       "      <td>None</td>\n",
       "      <td>Clinic</td>\n",
       "      <td>NaN</td>\n",
       "      <td>None</td>\n",
       "      <td>NaN</td>\n",
       "      <td>None</td>\n",
       "      <td>No</td>\n",
       "      <td>Unknown</td>\n",
       "      <td>Unknown</td>\n",
       "      <td>{\"x\": -13051343.7795, \"y\": 3881834.6008, \"spat...</td>\n",
       "    </tr>\n",
       "    <tr>\n",
       "      <th>1575</th>\n",
       "      <td>2323</td>\n",
       "      <td>None</td>\n",
       "      <td>Perlman Clinic Del Mar</td>\n",
       "      <td>12843 El Camino Real Suite 203, San Diego, CA ...</td>\n",
       "      <td>San Diego</td>\n",
       "      <td>Perlman Clinic</td>\n",
       "      <td>Private</td>\n",
       "      <td>858-558-0399</td>\n",
       "      <td>https://perlmanclinic.com/urgent-care-del-mar/</td>\n",
       "      <td>Monday - Friday: 8AM - 5 PM; Saturday: 8AM - 4...</td>\n",
       "      <td>...</td>\n",
       "      <td>None</td>\n",
       "      <td>Clinic</td>\n",
       "      <td>NaN</td>\n",
       "      <td>None</td>\n",
       "      <td>NaN</td>\n",
       "      <td>None</td>\n",
       "      <td>No</td>\n",
       "      <td>Unknown</td>\n",
       "      <td>Unknown</td>\n",
       "      <td>{\"x\": -13050488.9627, \"y\": 3888795.7251999974,...</td>\n",
       "    </tr>\n",
       "    <tr>\n",
       "      <th>1590</th>\n",
       "      <td>2339</td>\n",
       "      <td>None</td>\n",
       "      <td>Perlman Clinic San Diego</td>\n",
       "      <td>3900 Fifth Ave #110 San Diego, CA 92103</td>\n",
       "      <td>San Diego</td>\n",
       "      <td>Perlman Clinic</td>\n",
       "      <td>Private</td>\n",
       "      <td>858-554-1212</td>\n",
       "      <td>https://perlmanclinic.com/urgent-care-hillcrest/</td>\n",
       "      <td>Monday - Friday: 8 AM - 7 PM; Saturday: 8 AM -...</td>\n",
       "      <td>...</td>\n",
       "      <td>None</td>\n",
       "      <td>Clinic</td>\n",
       "      <td>NaN</td>\n",
       "      <td>None</td>\n",
       "      <td>NaN</td>\n",
       "      <td>None</td>\n",
       "      <td>No</td>\n",
       "      <td>Unknown</td>\n",
       "      <td>Unknown</td>\n",
       "      <td>{\"x\": -13042282.211557131, \"y\": 3862032.989200...</td>\n",
       "    </tr>\n",
       "    <tr>\n",
       "      <th>...</th>\n",
       "      <td>...</td>\n",
       "      <td>...</td>\n",
       "      <td>...</td>\n",
       "      <td>...</td>\n",
       "      <td>...</td>\n",
       "      <td>...</td>\n",
       "      <td>...</td>\n",
       "      <td>...</td>\n",
       "      <td>...</td>\n",
       "      <td>...</td>\n",
       "      <td>...</td>\n",
       "      <td>...</td>\n",
       "      <td>...</td>\n",
       "      <td>...</td>\n",
       "      <td>...</td>\n",
       "      <td>...</td>\n",
       "      <td>...</td>\n",
       "      <td>...</td>\n",
       "      <td>...</td>\n",
       "      <td>...</td>\n",
       "      <td>...</td>\n",
       "    </tr>\n",
       "    <tr>\n",
       "      <th>31638</th>\n",
       "      <td>44015</td>\n",
       "      <td>None</td>\n",
       "      <td>County Fire - Chicano Federation: Central Office</td>\n",
       "      <td>3180 University Ave, San Diego, CA 92104</td>\n",
       "      <td>San Diego</td>\n",
       "      <td>San Diego County &amp; Partners</td>\n",
       "      <td>County</td>\n",
       "      <td>None</td>\n",
       "      <td>https://www.sandiegocounty.gov/content/sdc/hhs...</td>\n",
       "      <td>Dec 5, 9 AM - 3 PM</td>\n",
       "      <td>...</td>\n",
       "      <td>No</td>\n",
       "      <td>Mobile</td>\n",
       "      <td>NaN</td>\n",
       "      <td>None</td>\n",
       "      <td>NaN</td>\n",
       "      <td>No</td>\n",
       "      <td>No</td>\n",
       "      <td>Unknown</td>\n",
       "      <td>Unknown</td>\n",
       "      <td>{\"x\": -13038358.260732371, \"y\": 3862013.770200...</td>\n",
       "    </tr>\n",
       "    <tr>\n",
       "      <th>31639</th>\n",
       "      <td>44016</td>\n",
       "      <td>None</td>\n",
       "      <td>County Fire - Richard Stringham Building</td>\n",
       "      <td>451 Tecate Rd, Tecate, CA 91980</td>\n",
       "      <td>Tecate</td>\n",
       "      <td>None</td>\n",
       "      <td>County</td>\n",
       "      <td>None</td>\n",
       "      <td>https://www.sandiegocounty.gov/content/sdc/hhs...</td>\n",
       "      <td>Dec 5, 9 AM - 3 PM</td>\n",
       "      <td>...</td>\n",
       "      <td>No</td>\n",
       "      <td>Mobile</td>\n",
       "      <td>NaN</td>\n",
       "      <td>None</td>\n",
       "      <td>NaN</td>\n",
       "      <td>No</td>\n",
       "      <td>No</td>\n",
       "      <td>Unknown</td>\n",
       "      <td>Unknown</td>\n",
       "      <td>{\"x\": -12983046.348161316, \"y\": 3839551.265526...</td>\n",
       "    </tr>\n",
       "    <tr>\n",
       "      <th>31640</th>\n",
       "      <td>44017</td>\n",
       "      <td>None</td>\n",
       "      <td>St. Leo Mission Church</td>\n",
       "      <td>936 Genevieve St, Solana Beach, CA 92075</td>\n",
       "      <td>Solana Beach</td>\n",
       "      <td>San Diego County &amp; Partners</td>\n",
       "      <td>County</td>\n",
       "      <td>None</td>\n",
       "      <td>https://www.sandiegocounty.gov/content/sdc/hhs...</td>\n",
       "      <td>Saturdays: 8:30 AM - 3:30 PM</td>\n",
       "      <td>...</td>\n",
       "      <td>Yes</td>\n",
       "      <td>Outdoor</td>\n",
       "      <td>NaN</td>\n",
       "      <td>None</td>\n",
       "      <td>NaN</td>\n",
       "      <td>No</td>\n",
       "      <td>No</td>\n",
       "      <td>Unknown</td>\n",
       "      <td>Unknown</td>\n",
       "      <td>{\"x\": -13052982.786049496, \"y\": 3893931.151359...</td>\n",
       "    </tr>\n",
       "    <tr>\n",
       "      <th>31679</th>\n",
       "      <td>44057</td>\n",
       "      <td>None</td>\n",
       "      <td>One Medical - Carlsbad</td>\n",
       "      <td>7740 El Camino Real Suite F, Carlsbad, CA 92009</td>\n",
       "      <td>Carlsbad</td>\n",
       "      <td>1Life Healthcare, Inc.</td>\n",
       "      <td>Private</td>\n",
       "      <td>None</td>\n",
       "      <td>https://www.onemedical.com/blog/live-well/covi...</td>\n",
       "      <td>By appointment only</td>\n",
       "      <td>...</td>\n",
       "      <td>No</td>\n",
       "      <td>Clinic</td>\n",
       "      <td>NaN</td>\n",
       "      <td>None</td>\n",
       "      <td>NaN</td>\n",
       "      <td>No</td>\n",
       "      <td>No</td>\n",
       "      <td>Unknown</td>\n",
       "      <td>Unknown</td>\n",
       "      <td>{\"x\": -13054094.1219, \"y\": 3906330.2924000025,...</td>\n",
       "    </tr>\n",
       "    <tr>\n",
       "      <th>31680</th>\n",
       "      <td>44058</td>\n",
       "      <td>None</td>\n",
       "      <td>One Medical - Downtown San Diego</td>\n",
       "      <td>1230 Columbia Street Suite 100, San Diego, CA ...</td>\n",
       "      <td>San Diego</td>\n",
       "      <td>1Life Healthcare, Inc.</td>\n",
       "      <td>Private</td>\n",
       "      <td>None</td>\n",
       "      <td>https://www.onemedical.com/blog/live-well/covi...</td>\n",
       "      <td>By appointment only</td>\n",
       "      <td>...</td>\n",
       "      <td>No</td>\n",
       "      <td>Clinic</td>\n",
       "      <td>NaN</td>\n",
       "      <td>None</td>\n",
       "      <td>NaN</td>\n",
       "      <td>No</td>\n",
       "      <td>No</td>\n",
       "      <td>Unknown</td>\n",
       "      <td>Unknown</td>\n",
       "      <td>{\"x\": -13043048.2673, \"y\": 3857952.145199999, ...</td>\n",
       "    </tr>\n",
       "  </tbody>\n",
       "</table>\n",
       "<p>299 rows × 47 columns</p>\n",
       "</div>"
      ],
      "text/plain": [
       "       OBJECTID facilityid                                              name  \\\n",
       "1109       1708       None         San Diego County Public Health Laboratory   \n",
       "1114       1718       None     Drive-Thru Screening Station at SDCCU Stadium   \n",
       "1298       1996       None                       Scripps Clinic Torrey Pines   \n",
       "1575       2323       None                            Perlman Clinic Del Mar   \n",
       "1590       2339       None                          Perlman Clinic San Diego   \n",
       "...         ...        ...                                               ...   \n",
       "31638     44015       None  County Fire - Chicano Federation: Central Office   \n",
       "31639     44016       None          County Fire - Richard Stringham Building   \n",
       "31640     44017       None                            St. Leo Mission Church   \n",
       "31679     44057       None                            One Medical - Carlsbad   \n",
       "31680     44058       None                  One Medical - Downtown San Diego   \n",
       "\n",
       "                                                fulladdr  municipality  \\\n",
       "1109   3851 Rosecrans Street Suite 716, San Diego, CA...     San Diego   \n",
       "1114                 9449 Friars Rd, San Diego, CA 92108     San Diego   \n",
       "1298      10710 North Torrey Pines Rd.La Jolla, CA 92037     San Diego   \n",
       "1575   12843 El Camino Real Suite 203, San Diego, CA ...     San Diego   \n",
       "1590             3900 Fifth Ave #110 San Diego, CA 92103     San Diego   \n",
       "...                                                  ...           ...   \n",
       "31638           3180 University Ave, San Diego, CA 92104     San Diego   \n",
       "31639                    451 Tecate Rd, Tecate, CA 91980        Tecate   \n",
       "31640           936 Genevieve St, Solana Beach, CA 92075  Solana Beach   \n",
       "31679    7740 El Camino Real Suite F, Carlsbad, CA 92009      Carlsbad   \n",
       "31680  1230 Columbia Street Suite 100, San Diego, CA ...     San Diego   \n",
       "\n",
       "                                             agency  agencytype  \\\n",
       "1109   San Diego County Department of Public Health      County   \n",
       "1114   San Diego County Department of Public Health      County   \n",
       "1298                                 Scripps Health  Non Profit   \n",
       "1575                                 Perlman Clinic     Private   \n",
       "1590                                 Perlman Clinic     Private   \n",
       "...                                             ...         ...   \n",
       "31638                   San Diego County & Partners      County   \n",
       "31639                                          None      County   \n",
       "31640                   San Diego County & Partners      County   \n",
       "31679                        1Life Healthcare, Inc.     Private   \n",
       "31680                        1Life Healthcare, Inc.     Private   \n",
       "\n",
       "                phone                                          agencyurl  \\\n",
       "1109     619-692-8500  https://www.sandiegocounty.gov/hhsa/programs/p...   \n",
       "1114   (619) 692-8499  https://www.sandiegocounty.gov/content/sdc/hhs...   \n",
       "1298     888-261-8431  https://www.scripps.org/locations/scripps-clin...   \n",
       "1575     858-558-0399     https://perlmanclinic.com/urgent-care-del-mar/   \n",
       "1590     858-554-1212   https://perlmanclinic.com/urgent-care-hillcrest/   \n",
       "...               ...                                                ...   \n",
       "31638            None  https://www.sandiegocounty.gov/content/sdc/hhs...   \n",
       "31639            None  https://www.sandiegocounty.gov/content/sdc/hhs...   \n",
       "31640            None  https://www.sandiegocounty.gov/content/sdc/hhs...   \n",
       "31679            None  https://www.onemedical.com/blog/live-well/covi...   \n",
       "31680            None  https://www.onemedical.com/blog/live-well/covi...   \n",
       "\n",
       "                                               operhours  ...  \\\n",
       "1109                         Monday - Friday 8 AM - 4 PM  ...   \n",
       "1114                                   Monday - Saturday  ...   \n",
       "1298          Monday -Friday 7am -7pm; Saturday 8am-noon  ...   \n",
       "1575   Monday - Friday: 8AM - 5 PM; Saturday: 8AM - 4...  ...   \n",
       "1590   Monday - Friday: 8 AM - 7 PM; Saturday: 8 AM -...  ...   \n",
       "...                                                  ...  ...   \n",
       "31638                                 Dec 5, 9 AM - 3 PM  ...   \n",
       "31639                                 Dec 5, 9 AM - 3 PM  ...   \n",
       "31640                       Saturdays: 8:30 AM - 3:30 PM  ...   \n",
       "31679                                By appointment only  ...   \n",
       "31680                                By appointment only  ...   \n",
       "\n",
       "      vehicle_required             facility_type  Outside_FID  filter  \\\n",
       "1109              None  Public Health Department          NaN    None   \n",
       "1114              None                   Outdoor          NaN    None   \n",
       "1298              None                    Clinic          NaN    None   \n",
       "1575              None                    Clinic          NaN    None   \n",
       "1590              None                    Clinic          NaN    None   \n",
       "...                ...                       ...          ...     ...   \n",
       "31638               No                    Mobile          NaN    None   \n",
       "31639               No                    Mobile          NaN    None   \n",
       "31640              Yes                   Outdoor          NaN    None   \n",
       "31679               No                    Clinic          NaN    None   \n",
       "31680               No                    Clinic          NaN    None   \n",
       "\n",
       "      minimum_age Same_Day_Results take_home_test  Wheelchair_Accessible  \\\n",
       "1109          NaN             None             No                Unknown   \n",
       "1114          NaN             None             No                Unknown   \n",
       "1298          NaN             None             No                Unknown   \n",
       "1575          NaN             None             No                Unknown   \n",
       "1590          NaN             None             No                Unknown   \n",
       "...           ...              ...            ...                    ...   \n",
       "31638         NaN               No             No                Unknown   \n",
       "31639         NaN               No             No                Unknown   \n",
       "31640         NaN               No             No                Unknown   \n",
       "31679         NaN               No             No                Unknown   \n",
       "31680         NaN               No             No                Unknown   \n",
       "\n",
       "      Accessibility_Support                                              SHAPE  \n",
       "1109                Unknown  {\"x\": -13046842.1711, \"y\": 3862542.846199997, ...  \n",
       "1114                Unknown  {\"x\": -13037768.3779, \"y\": 3866356.7286000033,...  \n",
       "1298                Unknown  {\"x\": -13051343.7795, \"y\": 3881834.6008, \"spat...  \n",
       "1575                Unknown  {\"x\": -13050488.9627, \"y\": 3888795.7251999974,...  \n",
       "1590                Unknown  {\"x\": -13042282.211557131, \"y\": 3862032.989200...  \n",
       "...                     ...                                                ...  \n",
       "31638               Unknown  {\"x\": -13038358.260732371, \"y\": 3862013.770200...  \n",
       "31639               Unknown  {\"x\": -12983046.348161316, \"y\": 3839551.265526...  \n",
       "31640               Unknown  {\"x\": -13052982.786049496, \"y\": 3893931.151359...  \n",
       "31679               Unknown  {\"x\": -13054094.1219, \"y\": 3906330.2924000025,...  \n",
       "31680               Unknown  {\"x\": -13043048.2673, \"y\": 3857952.145199999, ...  \n",
       "\n",
       "[299 rows x 47 columns]"
      ]
     },
     "execution_count": 271,
     "metadata": {},
     "output_type": "execute_result"
    }
   ],
   "source": [
    "testing_sites_sdf.loc[testing_sites_sdf.county == \"San Diego\"]"
   ]
  },
  {
   "cell_type": "code",
   "execution_count": 266,
   "metadata": {},
   "outputs": [],
   "source": [
    "testing_sites_in_sd = arcgis.features.analysis.find_existing_locations(input_layers=[testing_layer],\n",
    "                expressions=[{\"operator\":\"\",\"layer\":0,\"where\":\"county = 'San Diego'\"}],\n",
    "                               output_name='testing sites in SD_Caiwei')"
   ]
  },
  {
   "cell_type": "code",
   "execution_count": 311,
   "metadata": {},
   "outputs": [],
   "source": [
    "testing_sites_in_sd = gis.content.search(query = \"testing sites in SD_Caiwei\")[0]"
   ]
  },
  {
   "cell_type": "code",
   "execution_count": 312,
   "metadata": {},
   "outputs": [
    {
     "data": {
      "text/html": [
       "<div class=\"item_container\" style=\"height: auto; overflow: hidden; border: 1px solid #cfcfcf; border-radius: 2px; background: #f6fafa; line-height: 1.21429em; padding: 10px;\">\n",
       "                    <div class=\"item_left\" style=\"width: 210px; float: left;\">\n",
       "                       <a href='https://UCSDOnline.maps.arcgis.com/home/item.html?id=777713c145e54c40bebaf3e5f3782105' target='_blank'>\n",
       "                        <img src='data:image/png;base64,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' width='200' height='133' class=\"itemThumbnail\">\n",
       "                       </a>\n",
       "                    </div>\n",
       "\n",
       "                    <div class=\"item_right\"     style=\"float: none; width: auto; overflow: hidden;\">\n",
       "                        <a href='https://UCSDOnline.maps.arcgis.com/home/item.html?id=777713c145e54c40bebaf3e5f3782105' target='_blank'><b>testing sites in SD_Caiwei</b>\n",
       "                        </a>\n",
       "                        <br/>testing sites in san diego<img src='https://UCSDOnline.maps.arcgis.com/home/js/jsapi/esri/css/images/item_type_icons/featureshosted16.png' style=\"vertical-align:middle;\">Feature Layer Collection by caw062_dsc170fa20\n",
       "                        <br/>Last Modified: December 09, 2020\n",
       "                        <br/>0 comments, 5 views\n",
       "                    </div>\n",
       "                </div>\n",
       "                "
      ],
      "text/plain": [
       "<Item title:\"testing sites in SD_Caiwei\" type:Feature Layer Collection owner:caw062_dsc170fa20>"
      ]
     },
     "execution_count": 312,
     "metadata": {},
     "output_type": "execute_result"
    }
   ],
   "source": [
    "testing_sites_in_sd"
   ]
  },
  {
   "cell_type": "code",
   "execution_count": 270,
   "metadata": {},
   "outputs": [
    {
     "data": {
      "application/vnd.jupyter.widget-view+json": {
       "model_id": "2263f54f9dc3475fafc3063ad65699d8",
       "version_major": 2,
       "version_minor": 0
      },
      "text/plain": [
       "MapView(layout=Layout(height='400px', width='100%'), legend=True)"
      ]
     },
     "metadata": {},
     "output_type": "display_data"
    },
    {
     "data": {
      "text/html": [
       "<div class=\"map-static-img-preview-e2daf258-43a7-4f03-ab54-aba0f02d933b\"><img src=\"\"></img></div>"
      ],
      "text/plain": [
       "<IPython.core.display.HTML object>"
      ]
     },
     "metadata": {},
     "output_type": "display_data"
    }
   ],
   "source": [
    "# For some reason my map is not displaying correctly on here. \n",
    "map1 = gis.map('San Diego, CA', zoomlevel = 8)\n",
    "map1.legend = True\n",
    "map1.add_layer(testing_sites_in_sd)\n",
    "map1\n"
   ]
  },
  {
   "cell_type": "code",
   "execution_count": null,
   "metadata": {},
   "outputs": [],
   "source": []
  },
  {
   "cell_type": "code",
   "execution_count": 191,
   "metadata": {},
   "outputs": [
    {
     "name": "stderr",
     "output_type": "stream",
     "text": [
      "/home/caw062/.local/lib/python3.7/site-packages/geopandas/_compat.py:87: UserWarning: The Shapely GEOS version (3.8.0-CAPI-1.13.1 ) is incompatible with the GEOS version PyGEOS was compiled with (3.8.1-CAPI-1.13.3). Conversions between both will be slow.\n",
      "  shapely_geos_version, geos_capi_version_string\n"
     ]
    }
   ],
   "source": [
    "import os\n",
    "import numpy as np\n",
    "import geopandas as gpd\n",
    "import pandas as pd\n",
    "from shapely.geometry import Polygon\n",
    "import matplotlib.pyplot as plt\n",
    "from sklearn.linear_model import LinearRegression\n",
    "from sklearn.model_selection import train_test_split\n",
    "from sklearn import metrics"
   ]
  },
  {
   "cell_type": "code",
   "execution_count": 192,
   "metadata": {},
   "outputs": [],
   "source": [
    "shpFileIn = \"./data/census/CENSUS_TRACTS_2010.shp\"\n",
    "sd_census_tract_boundary = gpd.read_file(shpFileIn)"
   ]
  },
  {
   "cell_type": "code",
   "execution_count": 193,
   "metadata": {},
   "outputs": [],
   "source": [
    "census_tract_sdf = arcgis.features.GeoAccessor.from_geodataframe(sd_census_tract_boundary, inplace=True, column_name='SHAPE')"
   ]
  },
  {
   "cell_type": "code",
   "execution_count": 194,
   "metadata": {},
   "outputs": [],
   "source": [
    "census_tracts_featureset = census_tract_sdf.spatial.to_featurelayer(title = \"census tracts san diego\")"
   ]
  },
  {
   "cell_type": "code",
   "execution_count": 195,
   "metadata": {},
   "outputs": [],
   "source": [
    "census_tracts_feature_lyr = census_tracts_featureset"
   ]
  },
  {
   "cell_type": "code",
   "execution_count": 196,
   "metadata": {},
   "outputs": [
    {
     "name": "stderr",
     "output_type": "stream",
     "text": [
      "{\"messageCode\": \"AO_100047\", \"message\": \"Enrichment may not be available for some features.\"}\n",
      "{\"messageCode\": \"AO_100000\", \"message\": \"Country aggregation mode supports only global data collections. Following data collections couldn't be processed: 'Policy', 'AtRisk', 'KeyUSFacts'.\"}\n"
     ]
    }
   ],
   "source": [
    "tract_enriched = arcgis.enrich_layer(census_tracts_feature_lyr,\n",
    "                                  analysis_variables=[\"Policy.WHITE_CY\",\"Policy.BLACK_CY\",\"Policy.AMERIND_CY\",\n",
    "                                                      \"Policy.ASIAN_CY\",\"Policy.PACIFIC_CY\",\"Policy.OTHRACE_CY\",\n",
    "                                                      \"Policy.HISPPOP_CY\",\n",
    "                                                     \"AtRisk.SENIORS_CY\",\"KeyUSFacts.TOTPOP_FY\",\n",
    "                                                      \"AtRisk.AVGHINC_CY\"],\n",
    "                                  output_name='Census Tracts Enriched With Ethnicity Adding Hispanic')"
   ]
  },
  {
   "cell_type": "code",
   "execution_count": 197,
   "metadata": {},
   "outputs": [
    {
     "data": {
      "text/html": [
       "<div class=\"item_container\" style=\"height: auto; overflow: hidden; border: 1px solid #cfcfcf; border-radius: 2px; background: #f6fafa; line-height: 1.21429em; padding: 10px;\">\n",
       "                    <div class=\"item_left\" style=\"width: 210px; float: left;\">\n",
       "                       <a href='https://UCSDOnline.maps.arcgis.com/home/item.html?id=864d723b83704771b74ed0b65ee68ef7' target='_blank'>\n",
       "                        <img src='http://static.arcgis.com/images/desktopapp.png' class=\"itemThumbnail\">\n",
       "                       </a>\n",
       "                    </div>\n",
       "\n",
       "                    <div class=\"item_right\"     style=\"float: none; width: auto; overflow: hidden;\">\n",
       "                        <a href='https://UCSDOnline.maps.arcgis.com/home/item.html?id=864d723b83704771b74ed0b65ee68ef7' target='_blank'><b>Census Tracts Enriched With Ethnicity Adding Hispanic</b>\n",
       "                        </a>\n",
       "                        <br/><img src='https://UCSDOnline.maps.arcgis.com/home/js/jsapi/esri/css/images/item_type_icons/featureshosted16.png' style=\"vertical-align:middle;\">Feature Layer Collection by caw062_dsc170fa20\n",
       "                        <br/>Last Modified: December 10, 2020\n",
       "                        <br/>0 comments, 0 views\n",
       "                    </div>\n",
       "                </div>\n",
       "                "
      ],
      "text/plain": [
       "<Item title:\"Census Tracts Enriched With Ethnicity Adding Hispanic\" type:Feature Layer Collection owner:caw062_dsc170fa20>"
      ]
     },
     "execution_count": 197,
     "metadata": {},
     "output_type": "execute_result"
    }
   ],
   "source": [
    "tract_enriched = gis.content.search(query = \"Census Tracts Enriched With Ethnicity Adding Hispanic\")[0]\n",
    "tract_enriched"
   ]
  },
  {
   "cell_type": "code",
   "execution_count": 218,
   "metadata": {},
   "outputs": [],
   "source": [
    "tract_sdf = tract_enriched.layers[0].query().sdf"
   ]
  },
  {
   "cell_type": "code",
   "execution_count": 145,
   "metadata": {},
   "outputs": [],
   "source": [
    "from arcgis.features import FeatureLayer\n",
    "fs_url= \"https://services7.arcgis.com/LXCny1HyhQCUSueu/arcgis/rest/services/Definitive_Healthcare_USA_Hospital_Beds/FeatureServer/0/\"\n",
    "icu_info = FeatureLayer(fs_url)"
   ]
  },
  {
   "cell_type": "code",
   "execution_count": 148,
   "metadata": {},
   "outputs": [],
   "source": [
    "hospitals_in_sd = arcgis.features.analysis.find_existing_locations(input_layers=[icu_info],\n",
    "                expressions=[{\"operator\":\"\",\"layer\":0,\"where\":\"COUNTY_NAME = 'San Diego'\"}],\n",
    "                               output_name='hospitals sites in SD_Caiwei')"
   ]
  },
  {
   "cell_type": "code",
   "execution_count": 14,
   "metadata": {},
   "outputs": [
    {
     "data": {
      "text/html": [
       "<div class=\"item_container\" style=\"height: auto; overflow: hidden; border: 1px solid #cfcfcf; border-radius: 2px; background: #f6fafa; line-height: 1.21429em; padding: 10px;\">\n",
       "                    <div class=\"item_left\" style=\"width: 210px; float: left;\">\n",
       "                       <a href='https://UCSDOnline.maps.arcgis.com/home/item.html?id=1a1dd2fda2c74041a479e8183ecf445c' target='_blank'>\n",
       "                        <img src='http://static.arcgis.com/images/desktopapp.png' class=\"itemThumbnail\">\n",
       "                       </a>\n",
       "                    </div>\n",
       "\n",
       "                    <div class=\"item_right\"     style=\"float: none; width: auto; overflow: hidden;\">\n",
       "                        <a href='https://UCSDOnline.maps.arcgis.com/home/item.html?id=1a1dd2fda2c74041a479e8183ecf445c' target='_blank'><b>hospitals sites in SD_Caiwei</b>\n",
       "                        </a>\n",
       "                        <br/><img src='https://UCSDOnline.maps.arcgis.com/home/js/jsapi/esri/css/images/item_type_icons/featureshosted16.png' style=\"vertical-align:middle;\">Feature Layer Collection by caw062_dsc170fa20\n",
       "                        <br/>Last Modified: December 09, 2020\n",
       "                        <br/>0 comments, 3 views\n",
       "                    </div>\n",
       "                </div>\n",
       "                "
      ],
      "text/plain": [
       "<Item title:\"hospitals sites in SD_Caiwei\" type:Feature Layer Collection owner:caw062_dsc170fa20>"
      ]
     },
     "execution_count": 14,
     "metadata": {},
     "output_type": "execute_result"
    }
   ],
   "source": [
    "hospitals_in_sd = gis.content.search(\"hospitals sites in SD_Caiwei\")[0]\n",
    "hospitals_in_sd"
   ]
  },
  {
   "cell_type": "code",
   "execution_count": 17,
   "metadata": {},
   "outputs": [
    {
     "data": {
      "text/plain": [
       "Index(['OBJECTID', 'HOSPITAL_NAME', 'HOSPITAL_TYPE', 'HQ_ADDRESS',\n",
       "       'HQ_ADDRESS1', 'HQ_CITY', 'HQ_STATE', 'HQ_ZIP_CODE', 'COUNTY_NAME',\n",
       "       'STATE_NAME', 'STATE_FIPS', 'CNTY_FIPS', 'FIPS', 'NUM_LICENSED_BEDS',\n",
       "       'NUM_STAFFED_BEDS', 'NUM_ICU_BEDS', 'ADULT_ICU_BEDS', 'PEDI_ICU_BEDS',\n",
       "       'BED_UTILIZATION', 'Potential_Increase_In_Bed_Capac',\n",
       "       'AVG_VENTILATOR_USAGE', 'SHAPE'],\n",
       "      dtype='object')"
      ]
     },
     "execution_count": 17,
     "metadata": {},
     "output_type": "execute_result"
    }
   ],
   "source": [
    "hospitals_in_sd.layers[0].query().sdf.columns"
   ]
  },
  {
   "cell_type": "markdown",
   "metadata": {},
   "source": [
    "# Data transformation and Joining\n",
    "## Join Operation\n",
    "1. Use join to get how many hospital beds each tract have within 5 miles radius.\n",
    "2. Use join to get how many testing sites each tract have within 5 miles radius. \n",
    "## Aggregate_points\n",
    "1. Use aggregate points to aggregate number of hospital beds within each tract\n",
    "    \n",
    "2. Use aggregate points to aggregate number of test sites within each tract\n",
    "## Merge Table\n",
    "merge the two table based on tract id, now we have a single table containing all the information\n",
    "\n",
    "## Calculate testing sites and hospital beds ratio\n",
    "- Number of hospital beds per person, number of hospital beds per sq ft of area\n",
    "- Number of test sites per person, number of test sites per sq ft of area"
   ]
  },
  {
   "cell_type": "code",
   "execution_count": null,
   "metadata": {},
   "outputs": [],
   "source": [
    "within_5_miles = arcgis.features.analysis.join_features(target_layer = tract_enriched.layers[0],\n",
    "                                      join_layer = hospitals_in_sd.layers[0],\n",
    "                                      spatial_relationship = \"withindistance\",\n",
    "                                      spatial_relationship_distance = 1,\n",
    "                                      spatial_relationship_distance_units = \"miles\",\n",
    "                                      join_operation = \"JoinOneToMany\",\n",
    "                                      summary_fields = [{\"statisticType\": \"Sum\", \"onStatisticField\": \"NUM_STAFFED_BEDS\"}],\n",
    "                                                        output_name = \"Within 1 miles of hospital beds CW\"\n",
    "                                                       )"
   ]
  },
  {
   "cell_type": "code",
   "execution_count": 275,
   "metadata": {},
   "outputs": [],
   "source": [
    "within_5_miles_beds_sdf = within_5_miles.layers[0].query().sdf"
   ]
  },
  {
   "cell_type": "code",
   "execution_count": 276,
   "metadata": {},
   "outputs": [
    {
     "data": {
      "text/plain": [
       "Index(['OBJECTID', 'Join_Count', 'TARGET_FID', 'JOIN_FID', 'TRACT', 'ID',\n",
       "       'sourceCountry', 'ENRICH_FID', 'aggregationMethod',\n",
       "       'populationToPolygonSizeRating', 'apportionmentConfidence', 'HasData',\n",
       "       'WHITE_CY', 'BLACK_CY', 'AMERIND_CY', 'ASIAN_CY', 'PACIFIC_CY',\n",
       "       'OTHRACE_CY', 'HISPPOP_CY', 'AVGHINC_CY', 'SENIORS_CY', 'TOTPOP_FY',\n",
       "       'HOSPITAL_NAME', 'HOSPITAL_TYPE', 'HQ_ADDRESS', 'HQ_ADDRESS1',\n",
       "       'HQ_CITY', 'HQ_STATE', 'HQ_ZIP_CODE', 'COUNTY_NAME', 'STATE_NAME',\n",
       "       'STATE_FIPS', 'CNTY_FIPS', 'FIPS', 'NUM_LICENSED_BEDS',\n",
       "       'NUM_STAFFED_BEDS', 'NUM_ICU_BEDS', 'ADULT_ICU_BEDS', 'PEDI_ICU_BEDS',\n",
       "       'BED_UTILIZATION', 'Potential_Increase_In_Bed_Capac',\n",
       "       'AVG_VENTILATOR_USAGE', 'SHAPE'],\n",
       "      dtype='object')"
      ]
     },
     "execution_count": 276,
     "metadata": {},
     "output_type": "execute_result"
    }
   ],
   "source": [
    "within_5_miles_beds_sdf.columns"
   ]
  },
  {
   "cell_type": "code",
   "execution_count": 277,
   "metadata": {},
   "outputs": [
    {
     "data": {
      "text/html": [
       "<div>\n",
       "<style scoped>\n",
       "    .dataframe tbody tr th:only-of-type {\n",
       "        vertical-align: middle;\n",
       "    }\n",
       "\n",
       "    .dataframe tbody tr th {\n",
       "        vertical-align: top;\n",
       "    }\n",
       "\n",
       "    .dataframe thead th {\n",
       "        text-align: right;\n",
       "    }\n",
       "</style>\n",
       "<table border=\"1\" class=\"dataframe\">\n",
       "  <thead>\n",
       "    <tr style=\"text-align: right;\">\n",
       "      <th></th>\n",
       "      <th>NUM_STAFFED_BEDS</th>\n",
       "    </tr>\n",
       "    <tr>\n",
       "      <th>TRACT</th>\n",
       "      <th></th>\n",
       "    </tr>\n",
       "  </thead>\n",
       "  <tbody>\n",
       "    <tr>\n",
       "      <th>1.00</th>\n",
       "      <td>415</td>\n",
       "    </tr>\n",
       "    <tr>\n",
       "      <th>2.01</th>\n",
       "      <td>978</td>\n",
       "    </tr>\n",
       "    <tr>\n",
       "      <th>2.02</th>\n",
       "      <td>978</td>\n",
       "    </tr>\n",
       "    <tr>\n",
       "      <th>3.00</th>\n",
       "      <td>978</td>\n",
       "    </tr>\n",
       "    <tr>\n",
       "      <th>4.00</th>\n",
       "      <td>1048</td>\n",
       "    </tr>\n",
       "    <tr>\n",
       "      <th>...</th>\n",
       "      <td>...</td>\n",
       "    </tr>\n",
       "    <tr>\n",
       "      <th>206.02</th>\n",
       "      <td>286</td>\n",
       "    </tr>\n",
       "    <tr>\n",
       "      <th>207.05</th>\n",
       "      <td>286</td>\n",
       "    </tr>\n",
       "    <tr>\n",
       "      <th>216.00</th>\n",
       "      <td>59</td>\n",
       "    </tr>\n",
       "    <tr>\n",
       "      <th>218.00</th>\n",
       "      <td>59</td>\n",
       "    </tr>\n",
       "    <tr>\n",
       "      <th>220.00</th>\n",
       "      <td>291</td>\n",
       "    </tr>\n",
       "  </tbody>\n",
       "</table>\n",
       "<p>151 rows × 1 columns</p>\n",
       "</div>"
      ],
      "text/plain": [
       "        NUM_STAFFED_BEDS\n",
       "TRACT                   \n",
       "1.00                 415\n",
       "2.01                 978\n",
       "2.02                 978\n",
       "3.00                 978\n",
       "4.00                1048\n",
       "...                  ...\n",
       "206.02               286\n",
       "207.05               286\n",
       "216.00                59\n",
       "218.00                59\n",
       "220.00               291\n",
       "\n",
       "[151 rows x 1 columns]"
      ]
     },
     "execution_count": 277,
     "metadata": {},
     "output_type": "execute_result"
    }
   ],
   "source": [
    "num_icu_beds_by_tract = within_5_miles_beds_sdf.groupby(\"TRACT\").agg({\"NUM_STAFFED_BEDS\":\"sum\"})\n",
    "#within_5_miles_sdf.TRACT.nunique()\n",
    "num_icu_beds_by_tract"
   ]
  },
  {
   "cell_type": "code",
   "execution_count": 314,
   "metadata": {},
   "outputs": [],
   "source": [
    "#testing_sites_in_sd\n",
    "within_5_miles_testsites = arcgis.features.analysis.join_features(target_layer = tract_enriched.layers[0],\n",
    "                                      join_layer = testing_sites_in_sd.layers[0],\n",
    "                                      spatial_relationship = \"withindistance\",\n",
    "                                      spatial_relationship_distance = 1,\n",
    "                                      spatial_relationship_distance_units = \"miles\",\n",
    "                                      join_operation = \"JoinOneToMany\",output_name = \"Within 1 miles of test sites Adding Hispanic CW2\"\n",
    "                                                       )\n"
   ]
  },
  {
   "cell_type": "code",
   "execution_count": 315,
   "metadata": {},
   "outputs": [
    {
     "data": {
      "text/plain": [
       "Index(['OBJECTID', 'Join_Count', 'TARGET_FID', 'JOIN_FID', 'TRACT', 'ID',\n",
       "       'sourceCountry', 'ENRICH_FID', 'aggregationMethod',\n",
       "       'populationToPolygonSizeRating', 'apportionmentConfidence', 'HasData',\n",
       "       'WHITE_CY', 'BLACK_CY', 'AMERIND_CY', 'ASIAN_CY', 'PACIFIC_CY',\n",
       "       'OTHRACE_CY', 'HISPPOP_CY', 'AVGHINC_CY', 'SENIORS_CY', 'TOTPOP_FY',\n",
       "       'facilityid', 'name', 'fulladdr', 'municipality', 'agency',\n",
       "       'agencytype', 'phone', 'agencyurl', 'operhours', 'comments',\n",
       "       'Instructions', 'numvehicles', 'testcapacity', 'status', 'CreationDate',\n",
       "       'EditDate', 'Vetted', 'drive_through', 'appt_only', 'referral_required',\n",
       "       'services_offered_onsite', 'call_first', 'virtual_screening',\n",
       "       'health_dept_url', 'State', 'GlobalID', 'data_source', 'county',\n",
       "       'red_flag', 'vol_note', 'public_form', 'start_date', 'end_date',\n",
       "       'type_of_test', 'test_processing', 'fine_print', 'vehicle_required',\n",
       "       'facility_type', 'Outside_FID', 'filter', 'minimum_age',\n",
       "       'Same_Day_Results', 'take_home_test', 'SHAPE'],\n",
       "      dtype='object')"
      ]
     },
     "execution_count": 315,
     "metadata": {},
     "output_type": "execute_result"
    }
   ],
   "source": [
    "within_5_miles_testsites_sdf = within_5_miles_testsites.layers[0].query().sdf\n",
    "within_5_miles_testsites_sdf.columns"
   ]
  },
  {
   "cell_type": "code",
   "execution_count": 316,
   "metadata": {},
   "outputs": [
    {
     "data": {
      "text/html": [
       "<div>\n",
       "<style scoped>\n",
       "    .dataframe tbody tr th:only-of-type {\n",
       "        vertical-align: middle;\n",
       "    }\n",
       "\n",
       "    .dataframe tbody tr th {\n",
       "        vertical-align: top;\n",
       "    }\n",
       "\n",
       "    .dataframe thead th {\n",
       "        text-align: right;\n",
       "    }\n",
       "</style>\n",
       "<table border=\"1\" class=\"dataframe\">\n",
       "  <thead>\n",
       "    <tr style=\"text-align: right;\">\n",
       "      <th></th>\n",
       "      <th>Join_Count</th>\n",
       "    </tr>\n",
       "    <tr>\n",
       "      <th>TRACT</th>\n",
       "      <th></th>\n",
       "    </tr>\n",
       "  </thead>\n",
       "  <tbody>\n",
       "    <tr>\n",
       "      <th>1.00</th>\n",
       "      <td>4</td>\n",
       "    </tr>\n",
       "    <tr>\n",
       "      <th>2.01</th>\n",
       "      <td>5</td>\n",
       "    </tr>\n",
       "    <tr>\n",
       "      <th>2.02</th>\n",
       "      <td>7</td>\n",
       "    </tr>\n",
       "    <tr>\n",
       "      <th>3.00</th>\n",
       "      <td>7</td>\n",
       "    </tr>\n",
       "    <tr>\n",
       "      <th>4.00</th>\n",
       "      <td>6</td>\n",
       "    </tr>\n",
       "    <tr>\n",
       "      <th>...</th>\n",
       "      <td>...</td>\n",
       "    </tr>\n",
       "    <tr>\n",
       "      <th>214.00</th>\n",
       "      <td>2</td>\n",
       "    </tr>\n",
       "    <tr>\n",
       "      <th>215.00</th>\n",
       "      <td>2</td>\n",
       "    </tr>\n",
       "    <tr>\n",
       "      <th>219.00</th>\n",
       "      <td>9</td>\n",
       "    </tr>\n",
       "    <tr>\n",
       "      <th>220.00</th>\n",
       "      <td>10</td>\n",
       "    </tr>\n",
       "    <tr>\n",
       "      <th>221.00</th>\n",
       "      <td>5</td>\n",
       "    </tr>\n",
       "  </tbody>\n",
       "</table>\n",
       "<p>564 rows × 1 columns</p>\n",
       "</div>"
      ],
      "text/plain": [
       "        Join_Count\n",
       "TRACT             \n",
       "1.00             4\n",
       "2.01             5\n",
       "2.02             7\n",
       "3.00             7\n",
       "4.00             6\n",
       "...            ...\n",
       "214.00           2\n",
       "215.00           2\n",
       "219.00           9\n",
       "220.00          10\n",
       "221.00           5\n",
       "\n",
       "[564 rows x 1 columns]"
      ]
     },
     "execution_count": 316,
     "metadata": {},
     "output_type": "execute_result"
    }
   ],
   "source": [
    "num_testsites_by_tract = within_5_miles_testsites_sdf.groupby(\"TRACT\").agg({\"Join_Count\":\"sum\"})\n",
    "num_testsites_by_tract"
   ]
  },
  {
   "cell_type": "code",
   "execution_count": 317,
   "metadata": {},
   "outputs": [
    {
     "data": {
      "text/plain": [
       "Index(['OBJECTID', 'TRACT', 'Shape__Area', 'Shape__Length', 'ID',\n",
       "       'sourceCountry', 'ENRICH_FID', 'aggregationMethod',\n",
       "       'populationToPolygonSizeRating', 'apportionmentConfidence', 'HasData',\n",
       "       'WHITE_CY', 'BLACK_CY', 'AMERIND_CY', 'ASIAN_CY', 'PACIFIC_CY',\n",
       "       'OTHRACE_CY', 'HISPPOP_CY', 'AVGHINC_CY', 'SENIORS_CY', 'TOTPOP_FY',\n",
       "       'SHAPE'],\n",
       "      dtype='object')"
      ]
     },
     "execution_count": 317,
     "metadata": {},
     "output_type": "execute_result"
    }
   ],
   "source": [
    "tract_sdf.columns"
   ]
  },
  {
   "cell_type": "code",
   "execution_count": 318,
   "metadata": {},
   "outputs": [
    {
     "data": {
      "text/plain": [
       "627"
      ]
     },
     "execution_count": 318,
     "metadata": {},
     "output_type": "execute_result"
    }
   ],
   "source": [
    "#tract_sdf = tract_sdf.set_index(\"TRACT\")\n",
    "len(tract_sdf)"
   ]
  },
  {
   "cell_type": "code",
   "execution_count": 319,
   "metadata": {},
   "outputs": [],
   "source": [
    "tract_sdf_with_testsites = tract_sdf.join(num_testsites_by_tract,on=\"TRACT\",how=\"left\")"
   ]
  },
  {
   "cell_type": "code",
   "execution_count": 320,
   "metadata": {},
   "outputs": [],
   "source": [
    "tract_sdf_with_testsites_and_beds = tract_sdf_with_testsites.join(num_icu_beds_by_tract,on=\"TRACT\",how=\"left\")\n",
    "tract_sdf_with_testsites_and_beds = tract_sdf_with_testsites_and_beds.rename({\"Join_Count\":\"NUM_TESTSITES\"},axis=1)"
   ]
  },
  {
   "cell_type": "code",
   "execution_count": 321,
   "metadata": {},
   "outputs": [],
   "source": [
    "tract_sdf_with_testsites_and_beds[\"NUM_STAFFED_BEDS\"] = tract_sdf_with_testsites_and_beds[\"NUM_STAFFED_BEDS\"].fillna(0)\n",
    "tract_sdf_with_testsites_and_beds[\"NUM_TESTSITES\"] = tract_sdf_with_testsites_and_beds[\"NUM_TESTSITES\"].fillna(0)\n"
   ]
  },
  {
   "cell_type": "markdown",
   "metadata": {},
   "source": [
    "# Analysis\n",
    "## Create a single dataframe that has all the values we want to find correlation\n",
    "## create a index score, as the covid-19 risk maximum 5\n",
    "## Find correlation between ethnicity and covid-19 risk\n",
    "1. non-white vs risk\n",
    "2. income level vs risk\n",
    "3. hispanic & black population ratio vs risk\n",
    "4. "
   ]
  },
  {
   "cell_type": "code",
   "execution_count": null,
   "metadata": {},
   "outputs": [],
   "source": []
  },
  {
   "cell_type": "code",
   "execution_count": 322,
   "metadata": {},
   "outputs": [],
   "source": [
    "#Creating new columns as ratios of testing sites by area size and population\n",
    "testing_site_num_population_ratio = 1 - tract_sdf_with_testsites_and_beds.NUM_TESTSITES / (tract_sdf_with_testsites_and_beds.TOTPOP_FY)/1000\n",
    "testing_site_num_area_ratio =1 - tract_sdf_with_testsites_and_beds.NUM_TESTSITES / (tract_sdf_with_testsites_and_beds.Shape__Area*3.58701e-8)\n",
    "\n",
    "#Creating new columns as ratios of num of hospital beds by area size and population\n",
    "\n",
    "number_beds = tract_sdf_with_testsites_and_beds[\"NUM_STAFFED_BEDS\"].fillna(0) #only count the number of staffed beds \n",
    "hospital_beds_num_population_ratio = 1 - number_beds/(tract_sdf_with_testsites_and_beds.TOTPOP_FY / 1000)\n",
    "hospital_beds_num_area_ratio = 1 - number_beds / (tract_sdf_with_testsites_and_beds.Shape__Area*3.58701e-8)\n"
   ]
  },
  {
   "cell_type": "code",
   "execution_count": 323,
   "metadata": {},
   "outputs": [],
   "source": [
    "tract_sdf_with_testsites_and_beds = tract_sdf_with_testsites_and_beds.loc[~tract_sdf_with_testsites_and_beds.TOTPOP_FY.isna()]\n",
    "\n",
    "tract_sdf_with_testsites_and_beds[\"testing_site_num_population_ratio\"] = testing_site_num_population_ratio\n",
    "tract_sdf_with_testsites_and_beds[\"testing_site_num_area_ratio\"] = testing_site_num_area_ratio\n",
    "\n",
    "tract_sdf_with_testsites_and_beds[\"hospital_beds_num_population_ratio\"] = hospital_beds_num_population_ratio\n",
    "tract_sdf_with_testsites_and_beds[\"hospital_beds_num_area_ratio\"] = hospital_beds_num_area_ratio\n"
   ]
  },
  {
   "cell_type": "code",
   "execution_count": null,
   "metadata": {},
   "outputs": [],
   "source": []
  },
  {
   "cell_type": "code",
   "execution_count": 324,
   "metadata": {},
   "outputs": [],
   "source": [
    "total_population = tract_sdf_with_testsites_and_beds['TOTPOP_FY'].fillna(0)\n",
    "population_density = total_population/tract_sdf_with_testsites_and_beds.Shape__Area\n",
    "tract_sdf_with_testsites_and_beds['population_density'] = population_density"
   ]
  },
  {
   "cell_type": "code",
   "execution_count": 325,
   "metadata": {},
   "outputs": [
    {
     "data": {
      "text/plain": [
       "621"
      ]
     },
     "execution_count": 325,
     "metadata": {},
     "output_type": "execute_result"
    }
   ],
   "source": [
    "len(tract_sdf_with_testsites_and_beds) #After removing rows with null as population density \n"
   ]
  },
  {
   "cell_type": "code",
   "execution_count": 326,
   "metadata": {},
   "outputs": [
    {
     "data": {
      "text/plain": [
       "Index(['OBJECTID', 'TRACT', 'Shape__Area', 'Shape__Length', 'ID',\n",
       "       'sourceCountry', 'ENRICH_FID', 'aggregationMethod',\n",
       "       'populationToPolygonSizeRating', 'apportionmentConfidence', 'HasData',\n",
       "       'WHITE_CY', 'BLACK_CY', 'AMERIND_CY', 'ASIAN_CY', 'PACIFIC_CY',\n",
       "       'OTHRACE_CY', 'HISPPOP_CY', 'AVGHINC_CY', 'SENIORS_CY', 'TOTPOP_FY',\n",
       "       'SHAPE', 'NUM_TESTSITES', 'NUM_STAFFED_BEDS',\n",
       "       'testing_site_num_population_ratio', 'testing_site_num_area_ratio',\n",
       "       'hospital_beds_num_population_ratio', 'hospital_beds_num_area_ratio',\n",
       "       'population_density'],\n",
       "      dtype='object')"
      ]
     },
     "execution_count": 326,
     "metadata": {},
     "output_type": "execute_result"
    }
   ],
   "source": [
    "tract_sdf_with_testsites_and_beds.columns"
   ]
  },
  {
   "cell_type": "code",
   "execution_count": 358,
   "metadata": {},
   "outputs": [],
   "source": [
    "tract_sdf_with_testsites_and_beds[\"POC_percentage\"] = 1 - tract_sdf_with_testsites_and_beds[\"WHITE_CY\"]/tract_sdf_with_testsites_and_beds[\"TOTPOP_FY\"]\n",
    "tract_sdf_with_testsites_and_beds[\"Hispanic_Black_Percentage\"] = (tract_sdf_with_testsites_and_beds[\"HISPPOP_CY\"] + tract_sdf_with_testsites_and_beds[\"BLACK_CY\"])/tract_sdf_with_testsites_and_beds[\"TOTPOP_FY\"]"
   ]
  },
  {
   "cell_type": "code",
   "execution_count": 328,
   "metadata": {},
   "outputs": [],
   "source": [
    "from sklearn import preprocessing"
   ]
  },
  {
   "cell_type": "code",
   "execution_count": 359,
   "metadata": {},
   "outputs": [],
   "source": [
    "X_train = tract_sdf_with_testsites_and_beds[ ['population_density',\n",
    "                                             \"hospital_beds_num_area_ratio\",\n",
    "                                             \"hospital_beds_num_population_ratio\",\n",
    "                                             \"testing_site_num_area_ratio\",\n",
    "                                             \"testing_site_num_population_ratio\",\n",
    "                                             \"SENIORS_CY\",\"POC_percentage\",\"AVGHINC_CY\",\"Hispanic_Black_Percentage\"\n",
    "                                            ]]"
   ]
  },
  {
   "cell_type": "code",
   "execution_count": 360,
   "metadata": {},
   "outputs": [],
   "source": [
    "scaler = preprocessing.MinMaxScaler()\n",
    "X_train_minmax = scaler.fit_transform(X_train)\n"
   ]
  },
  {
   "cell_type": "code",
   "execution_count": null,
   "metadata": {},
   "outputs": [],
   "source": []
  },
  {
   "cell_type": "code",
   "execution_count": 331,
   "metadata": {},
   "outputs": [],
   "source": [
    "import matplotlib.pyplot as plt\n",
    "\n"
   ]
  },
  {
   "cell_type": "code",
   "execution_count": 361,
   "metadata": {},
   "outputs": [
    {
     "data": {
      "text/plain": [
       "0.12352965789300119"
      ]
     },
     "execution_count": 361,
     "metadata": {},
     "output_type": "execute_result"
    }
   ],
   "source": [
    "df = pd.DataFrame(X_train_minmax,columns = ['population_density',\n",
    "                                             \"hospital_beds_num_area_ratio\",\n",
    "                                             \"hospital_beds_num_population_ratio\",\n",
    "                                             \"testing_site_num_area_ratio\",\n",
    "                                             \"testing_site_num_population_ratio\",\n",
    "                                             \"SENIORS_CY\",\"POC_percentage\",\"AVGHINC_CY\",\"Hispanic_Black_Percentage\"\n",
    "                                            ])\n",
    "df.population_density.mean()"
   ]
  },
  {
   "cell_type": "code",
   "execution_count": 362,
   "metadata": {},
   "outputs": [
    {
     "data": {
      "text/plain": [
       "0      1.905122\n",
       "1      2.497250\n",
       "2      1.830427\n",
       "3      2.128890\n",
       "4      1.911706\n",
       "         ...   \n",
       "616    2.020206\n",
       "617    2.326629\n",
       "618    2.170779\n",
       "619    2.303381\n",
       "620    2.545768\n",
       "Name: overall_risk_score, Length: 621, dtype: float64"
      ]
     },
     "execution_count": 362,
     "metadata": {},
     "output_type": "execute_result"
    }
   ],
   "source": [
    "df[\"overall_risk_score\"] = df.population_density + df.hospital_beds_num_area_ratio/2 + df.hospital_beds_num_population_ratio/2 + df.testing_site_num_area_ratio/2 + df.testing_site_num_population_ratio/2 +df.SENIORS_CY\n",
    "df[\"overall_risk_score\"]"
   ]
  },
  {
   "cell_type": "code",
   "execution_count": 334,
   "metadata": {},
   "outputs": [],
   "source": [
    "tract_sdf_with_testsites_and_beds = tract_sdf_with_testsites_and_beds.reset_index()"
   ]
  },
  {
   "cell_type": "code",
   "execution_count": 349,
   "metadata": {},
   "outputs": [
    {
     "data": {
      "text/plain": [
       "Index(['index', 'OBJECTID', 'TRACT', 'Shape__Area', 'Shape__Length', 'ID',\n",
       "       'sourceCountry', 'ENRICH_FID', 'aggregationMethod',\n",
       "       'populationToPolygonSizeRating', 'apportionmentConfidence', 'HasData',\n",
       "       'WHITE_CY', 'BLACK_CY', 'AMERIND_CY', 'ASIAN_CY', 'PACIFIC_CY',\n",
       "       'OTHRACE_CY', 'HISPPOP_CY', 'AVGHINC_CY', 'SENIORS_CY', 'TOTPOP_FY',\n",
       "       'SHAPE', 'NUM_TESTSITES', 'NUM_STAFFED_BEDS',\n",
       "       'testing_site_num_population_ratio', 'testing_site_num_area_ratio',\n",
       "       'hospital_beds_num_population_ratio', 'hospital_beds_num_area_ratio',\n",
       "       'population_density', 'POC_percentage', 'Hispanic_Black_Percentage',\n",
       "       'overall_risk', 'Mipopulation_density', 'MMSENIORS_CY'],\n",
       "      dtype='object')"
      ]
     },
     "execution_count": 349,
     "metadata": {},
     "output_type": "execute_result"
    }
   ],
   "source": [
    "tract_sdf_with_testsites_and_beds.columns"
   ]
  },
  {
   "cell_type": "code",
   "execution_count": 350,
   "metadata": {},
   "outputs": [],
   "source": [
    "tract_sdf_with_testsites_and_beds[\"overall_risk\"] = df[\"overall_risk_score\"]\n",
    "tract_sdf_with_testsites_and_beds[\"Mipopulation_density\"] = tract_sdf_with_testsites_and_beds[\"population_density\"] * 1e6\n",
    "tract_sdf_with_testsites_and_beds[\"MMSENIORS_CY\"] = df[\"SENIORS_CY\"]\n",
    "tract_sdf_with_testsites_and_beds[\"testing_site_num_population_ratio\"] = df[\"testing_site_num_population_ratio\"]\n",
    "\n",
    "tract_sdf_with_testsites_and_beds[\"testing_site_num_area_ratio\"] = df[\"testing_site_num_area_ratio\"]\n",
    "\n",
    "tract_sdf_with_testsites_and_beds[\"hospital_beds_num_area_ratio\"] = df[\"hospital_beds_num_area_ratio\"]\n",
    "tract_sdf_with_testsites_and_beds[\"hospital_beds_num_population_ratio\"] = df[\"hospital_beds_num_population_ratio\"]\n",
    "\n"
   ]
  },
  {
   "cell_type": "code",
   "execution_count": 363,
   "metadata": {},
   "outputs": [],
   "source": [
    "tract_sdf_with_testsites_and_beds_lyr = tract_sdf_with_testsites_and_beds.spatial.to_featurelayer(title = \"Tract with Risk Score Changed MinMax\")"
   ]
  },
  {
   "cell_type": "code",
   "execution_count": 364,
   "metadata": {
    "scrolled": true
   },
   "outputs": [
    {
     "data": {
      "text/html": [
       "<div class=\"item_container\" style=\"height: auto; overflow: hidden; border: 1px solid #cfcfcf; border-radius: 2px; background: #f6fafa; line-height: 1.21429em; padding: 10px;\">\n",
       "                    <div class=\"item_left\" style=\"width: 210px; float: left;\">\n",
       "                       <a href='https://UCSDOnline.maps.arcgis.com/home/item.html?id=118dc54565274aca8d941c08ffd061fe' target='_blank'>\n",
       "                        <img src='http://static.arcgis.com/images/desktopapp.png' class=\"itemThumbnail\">\n",
       "                       </a>\n",
       "                    </div>\n",
       "\n",
       "                    <div class=\"item_right\"     style=\"float: none; width: auto; overflow: hidden;\">\n",
       "                        <a href='https://UCSDOnline.maps.arcgis.com/home/item.html?id=118dc54565274aca8d941c08ffd061fe' target='_blank'><b>Tract with Risk Score Changed MinMax</b>\n",
       "                        </a>\n",
       "                        <br/><img src='https://UCSDOnline.maps.arcgis.com/home/js/jsapi/esri/css/images/item_type_icons/featureshosted16.png' style=\"vertical-align:middle;\">Feature Layer Collection by caw062_dsc170fa20\n",
       "                        <br/>Last Modified: December 10, 2020\n",
       "                        <br/>0 comments, 0 views\n",
       "                    </div>\n",
       "                </div>\n",
       "                "
      ],
      "text/plain": [
       "<Item title:\"Tract with Risk Score Changed MinMax\" type:Feature Layer Collection owner:caw062_dsc170fa20>"
      ]
     },
     "execution_count": 364,
     "metadata": {},
     "output_type": "execute_result"
    }
   ],
   "source": [
    "tract_sdf_with_testsites_and_beds_lyr"
   ]
  },
  {
   "cell_type": "code",
   "execution_count": 365,
   "metadata": {},
   "outputs": [
    {
     "data": {
      "text/plain": [
       "Index(['index', 'OBJECTID', 'TRACT', 'Shape__Area', 'Shape__Length', 'ID',\n",
       "       'sourceCountry', 'ENRICH_FID', 'aggregationMethod',\n",
       "       'populationToPolygonSizeRating', 'apportionmentConfidence', 'HasData',\n",
       "       'WHITE_CY', 'BLACK_CY', 'AMERIND_CY', 'ASIAN_CY', 'PACIFIC_CY',\n",
       "       'OTHRACE_CY', 'HISPPOP_CY', 'AVGHINC_CY', 'SENIORS_CY', 'TOTPOP_FY',\n",
       "       'SHAPE', 'NUM_TESTSITES', 'NUM_STAFFED_BEDS',\n",
       "       'testing_site_num_population_ratio', 'testing_site_num_area_ratio',\n",
       "       'hospital_beds_num_population_ratio', 'hospital_beds_num_area_ratio',\n",
       "       'population_density', 'POC_percentage', 'Hispanic_Black_Percentage',\n",
       "       'overall_risk', 'Mipopulation_density', 'MMSENIORS_CY'],\n",
       "      dtype='object')"
      ]
     },
     "execution_count": 365,
     "metadata": {},
     "output_type": "execute_result"
    }
   ],
   "source": [
    "tract_sdf_with_testsites_and_beds.columns"
   ]
  },
  {
   "cell_type": "code",
   "execution_count": 366,
   "metadata": {
    "scrolled": true
   },
   "outputs": [
    {
     "data": {
      "text/html": [
       "<div>\n",
       "<style scoped>\n",
       "    .dataframe tbody tr th:only-of-type {\n",
       "        vertical-align: middle;\n",
       "    }\n",
       "\n",
       "    .dataframe tbody tr th {\n",
       "        vertical-align: top;\n",
       "    }\n",
       "\n",
       "    .dataframe thead th {\n",
       "        text-align: right;\n",
       "    }\n",
       "</style>\n",
       "<table border=\"1\" class=\"dataframe\">\n",
       "  <thead>\n",
       "    <tr style=\"text-align: right;\">\n",
       "      <th></th>\n",
       "      <th>overall_risk_score</th>\n",
       "      <th>POC_percentage</th>\n",
       "    </tr>\n",
       "  </thead>\n",
       "  <tbody>\n",
       "    <tr>\n",
       "      <th>overall_risk_score</th>\n",
       "      <td>1.000000</td>\n",
       "      <td>-0.106743</td>\n",
       "    </tr>\n",
       "    <tr>\n",
       "      <th>POC_percentage</th>\n",
       "      <td>-0.106743</td>\n",
       "      <td>1.000000</td>\n",
       "    </tr>\n",
       "  </tbody>\n",
       "</table>\n",
       "</div>"
      ],
      "text/plain": [
       "                    overall_risk_score  POC_percentage\n",
       "overall_risk_score            1.000000       -0.106743\n",
       "POC_percentage               -0.106743        1.000000"
      ]
     },
     "metadata": {},
     "output_type": "display_data"
    },
    {
     "data": {
      "text/html": [
       "<div>\n",
       "<style scoped>\n",
       "    .dataframe tbody tr th:only-of-type {\n",
       "        vertical-align: middle;\n",
       "    }\n",
       "\n",
       "    .dataframe tbody tr th {\n",
       "        vertical-align: top;\n",
       "    }\n",
       "\n",
       "    .dataframe thead th {\n",
       "        text-align: right;\n",
       "    }\n",
       "</style>\n",
       "<table border=\"1\" class=\"dataframe\">\n",
       "  <thead>\n",
       "    <tr style=\"text-align: right;\">\n",
       "      <th></th>\n",
       "      <th>overall_risk_score</th>\n",
       "      <th>Hispanic_Black_Percentage</th>\n",
       "    </tr>\n",
       "  </thead>\n",
       "  <tbody>\n",
       "    <tr>\n",
       "      <th>overall_risk_score</th>\n",
       "      <td>1.000000</td>\n",
       "      <td>-0.149607</td>\n",
       "    </tr>\n",
       "    <tr>\n",
       "      <th>Hispanic_Black_Percentage</th>\n",
       "      <td>-0.149607</td>\n",
       "      <td>1.000000</td>\n",
       "    </tr>\n",
       "  </tbody>\n",
       "</table>\n",
       "</div>"
      ],
      "text/plain": [
       "                           overall_risk_score  Hispanic_Black_Percentage\n",
       "overall_risk_score                   1.000000                  -0.149607\n",
       "Hispanic_Black_Percentage           -0.149607                   1.000000"
      ]
     },
     "metadata": {},
     "output_type": "display_data"
    },
    {
     "data": {
      "text/html": [
       "<div>\n",
       "<style scoped>\n",
       "    .dataframe tbody tr th:only-of-type {\n",
       "        vertical-align: middle;\n",
       "    }\n",
       "\n",
       "    .dataframe tbody tr th {\n",
       "        vertical-align: top;\n",
       "    }\n",
       "\n",
       "    .dataframe thead th {\n",
       "        text-align: right;\n",
       "    }\n",
       "</style>\n",
       "<table border=\"1\" class=\"dataframe\">\n",
       "  <thead>\n",
       "    <tr style=\"text-align: right;\">\n",
       "      <th></th>\n",
       "      <th>overall_risk_score</th>\n",
       "      <th>AVGHINC_CY</th>\n",
       "    </tr>\n",
       "  </thead>\n",
       "  <tbody>\n",
       "    <tr>\n",
       "      <th>overall_risk_score</th>\n",
       "      <td>1.000000</td>\n",
       "      <td>0.235681</td>\n",
       "    </tr>\n",
       "    <tr>\n",
       "      <th>AVGHINC_CY</th>\n",
       "      <td>0.235681</td>\n",
       "      <td>1.000000</td>\n",
       "    </tr>\n",
       "  </tbody>\n",
       "</table>\n",
       "</div>"
      ],
      "text/plain": [
       "                    overall_risk_score  AVGHINC_CY\n",
       "overall_risk_score            1.000000    0.235681\n",
       "AVGHINC_CY                    0.235681    1.000000"
      ]
     },
     "metadata": {},
     "output_type": "display_data"
    }
   ],
   "source": [
    "display(df[[\"overall_risk_score\",\"POC_percentage\"]].corr())\n",
    "display(df[[\"overall_risk_score\",\"Hispanic_Black_Percentage\"]].corr())\n",
    "display(df[[\"overall_risk_score\",\"AVGHINC_CY\"]].corr())\n"
   ]
  },
  {
   "cell_type": "code",
   "execution_count": 367,
   "metadata": {},
   "outputs": [
    {
     "data": {
      "text/html": [
       "<div>\n",
       "<style scoped>\n",
       "    .dataframe tbody tr th:only-of-type {\n",
       "        vertical-align: middle;\n",
       "    }\n",
       "\n",
       "    .dataframe tbody tr th {\n",
       "        vertical-align: top;\n",
       "    }\n",
       "\n",
       "    .dataframe thead th {\n",
       "        text-align: right;\n",
       "    }\n",
       "</style>\n",
       "<table border=\"1\" class=\"dataframe\">\n",
       "  <thead>\n",
       "    <tr style=\"text-align: right;\">\n",
       "      <th></th>\n",
       "      <th>testing_site_num_population_ratio</th>\n",
       "      <th>POC_percentage</th>\n",
       "    </tr>\n",
       "  </thead>\n",
       "  <tbody>\n",
       "    <tr>\n",
       "      <th>testing_site_num_population_ratio</th>\n",
       "      <td>1.000000</td>\n",
       "      <td>0.087064</td>\n",
       "    </tr>\n",
       "    <tr>\n",
       "      <th>POC_percentage</th>\n",
       "      <td>0.087064</td>\n",
       "      <td>1.000000</td>\n",
       "    </tr>\n",
       "  </tbody>\n",
       "</table>\n",
       "</div>"
      ],
      "text/plain": [
       "                                   testing_site_num_population_ratio  \\\n",
       "testing_site_num_population_ratio                           1.000000   \n",
       "POC_percentage                                              0.087064   \n",
       "\n",
       "                                   POC_percentage  \n",
       "testing_site_num_population_ratio        0.087064  \n",
       "POC_percentage                           1.000000  "
      ]
     },
     "metadata": {},
     "output_type": "display_data"
    },
    {
     "data": {
      "text/html": [
       "<div>\n",
       "<style scoped>\n",
       "    .dataframe tbody tr th:only-of-type {\n",
       "        vertical-align: middle;\n",
       "    }\n",
       "\n",
       "    .dataframe tbody tr th {\n",
       "        vertical-align: top;\n",
       "    }\n",
       "\n",
       "    .dataframe thead th {\n",
       "        text-align: right;\n",
       "    }\n",
       "</style>\n",
       "<table border=\"1\" class=\"dataframe\">\n",
       "  <thead>\n",
       "    <tr style=\"text-align: right;\">\n",
       "      <th></th>\n",
       "      <th>testing_site_num_population_ratio</th>\n",
       "      <th>Hispanic_Black_Percentage</th>\n",
       "    </tr>\n",
       "  </thead>\n",
       "  <tbody>\n",
       "    <tr>\n",
       "      <th>testing_site_num_population_ratio</th>\n",
       "      <td>1.000000</td>\n",
       "      <td>0.062153</td>\n",
       "    </tr>\n",
       "    <tr>\n",
       "      <th>Hispanic_Black_Percentage</th>\n",
       "      <td>0.062153</td>\n",
       "      <td>1.000000</td>\n",
       "    </tr>\n",
       "  </tbody>\n",
       "</table>\n",
       "</div>"
      ],
      "text/plain": [
       "                                   testing_site_num_population_ratio  \\\n",
       "testing_site_num_population_ratio                           1.000000   \n",
       "Hispanic_Black_Percentage                                   0.062153   \n",
       "\n",
       "                                   Hispanic_Black_Percentage  \n",
       "testing_site_num_population_ratio                   0.062153  \n",
       "Hispanic_Black_Percentage                           1.000000  "
      ]
     },
     "metadata": {},
     "output_type": "display_data"
    },
    {
     "data": {
      "text/html": [
       "<div>\n",
       "<style scoped>\n",
       "    .dataframe tbody tr th:only-of-type {\n",
       "        vertical-align: middle;\n",
       "    }\n",
       "\n",
       "    .dataframe tbody tr th {\n",
       "        vertical-align: top;\n",
       "    }\n",
       "\n",
       "    .dataframe thead th {\n",
       "        text-align: right;\n",
       "    }\n",
       "</style>\n",
       "<table border=\"1\" class=\"dataframe\">\n",
       "  <thead>\n",
       "    <tr style=\"text-align: right;\">\n",
       "      <th></th>\n",
       "      <th>testing_site_num_population_ratio</th>\n",
       "      <th>AVGHINC_CY</th>\n",
       "    </tr>\n",
       "  </thead>\n",
       "  <tbody>\n",
       "    <tr>\n",
       "      <th>testing_site_num_population_ratio</th>\n",
       "      <td>1.00000</td>\n",
       "      <td>0.09621</td>\n",
       "    </tr>\n",
       "    <tr>\n",
       "      <th>AVGHINC_CY</th>\n",
       "      <td>0.09621</td>\n",
       "      <td>1.00000</td>\n",
       "    </tr>\n",
       "  </tbody>\n",
       "</table>\n",
       "</div>"
      ],
      "text/plain": [
       "                                   testing_site_num_population_ratio  \\\n",
       "testing_site_num_population_ratio                            1.00000   \n",
       "AVGHINC_CY                                                   0.09621   \n",
       "\n",
       "                                   AVGHINC_CY  \n",
       "testing_site_num_population_ratio     0.09621  \n",
       "AVGHINC_CY                            1.00000  "
      ]
     },
     "metadata": {},
     "output_type": "display_data"
    }
   ],
   "source": [
    "display(df[[\"testing_site_num_population_ratio\",\"POC_percentage\"]].corr())\n",
    "display(df[[\"testing_site_num_population_ratio\",\"Hispanic_Black_Percentage\"]].corr())\n",
    "display(df[[\"testing_site_num_population_ratio\",\"AVGHINC_CY\"]].corr())\n"
   ]
  },
  {
   "cell_type": "code",
   "execution_count": 368,
   "metadata": {},
   "outputs": [
    {
     "data": {
      "text/html": [
       "<div>\n",
       "<style scoped>\n",
       "    .dataframe tbody tr th:only-of-type {\n",
       "        vertical-align: middle;\n",
       "    }\n",
       "\n",
       "    .dataframe tbody tr th {\n",
       "        vertical-align: top;\n",
       "    }\n",
       "\n",
       "    .dataframe thead th {\n",
       "        text-align: right;\n",
       "    }\n",
       "</style>\n",
       "<table border=\"1\" class=\"dataframe\">\n",
       "  <thead>\n",
       "    <tr style=\"text-align: right;\">\n",
       "      <th></th>\n",
       "      <th>SENIORS_CY</th>\n",
       "      <th>POC_percentage</th>\n",
       "    </tr>\n",
       "  </thead>\n",
       "  <tbody>\n",
       "    <tr>\n",
       "      <th>SENIORS_CY</th>\n",
       "      <td>1.000000</td>\n",
       "      <td>-0.306463</td>\n",
       "    </tr>\n",
       "    <tr>\n",
       "      <th>POC_percentage</th>\n",
       "      <td>-0.306463</td>\n",
       "      <td>1.000000</td>\n",
       "    </tr>\n",
       "  </tbody>\n",
       "</table>\n",
       "</div>"
      ],
      "text/plain": [
       "                SENIORS_CY  POC_percentage\n",
       "SENIORS_CY        1.000000       -0.306463\n",
       "POC_percentage   -0.306463        1.000000"
      ]
     },
     "metadata": {},
     "output_type": "display_data"
    },
    {
     "data": {
      "text/html": [
       "<div>\n",
       "<style scoped>\n",
       "    .dataframe tbody tr th:only-of-type {\n",
       "        vertical-align: middle;\n",
       "    }\n",
       "\n",
       "    .dataframe tbody tr th {\n",
       "        vertical-align: top;\n",
       "    }\n",
       "\n",
       "    .dataframe thead th {\n",
       "        text-align: right;\n",
       "    }\n",
       "</style>\n",
       "<table border=\"1\" class=\"dataframe\">\n",
       "  <thead>\n",
       "    <tr style=\"text-align: right;\">\n",
       "      <th></th>\n",
       "      <th>SENIORS_CY</th>\n",
       "      <th>Hispanic_Black_Percentage</th>\n",
       "    </tr>\n",
       "  </thead>\n",
       "  <tbody>\n",
       "    <tr>\n",
       "      <th>SENIORS_CY</th>\n",
       "      <td>1.000000</td>\n",
       "      <td>-0.339037</td>\n",
       "    </tr>\n",
       "    <tr>\n",
       "      <th>Hispanic_Black_Percentage</th>\n",
       "      <td>-0.339037</td>\n",
       "      <td>1.000000</td>\n",
       "    </tr>\n",
       "  </tbody>\n",
       "</table>\n",
       "</div>"
      ],
      "text/plain": [
       "                           SENIORS_CY  Hispanic_Black_Percentage\n",
       "SENIORS_CY                   1.000000                  -0.339037\n",
       "Hispanic_Black_Percentage   -0.339037                   1.000000"
      ]
     },
     "metadata": {},
     "output_type": "display_data"
    },
    {
     "data": {
      "text/html": [
       "<div>\n",
       "<style scoped>\n",
       "    .dataframe tbody tr th:only-of-type {\n",
       "        vertical-align: middle;\n",
       "    }\n",
       "\n",
       "    .dataframe tbody tr th {\n",
       "        vertical-align: top;\n",
       "    }\n",
       "\n",
       "    .dataframe thead th {\n",
       "        text-align: right;\n",
       "    }\n",
       "</style>\n",
       "<table border=\"1\" class=\"dataframe\">\n",
       "  <thead>\n",
       "    <tr style=\"text-align: right;\">\n",
       "      <th></th>\n",
       "      <th>SENIORS_CY</th>\n",
       "      <th>population_density</th>\n",
       "    </tr>\n",
       "  </thead>\n",
       "  <tbody>\n",
       "    <tr>\n",
       "      <th>SENIORS_CY</th>\n",
       "      <td>1.000000</td>\n",
       "      <td>-0.334325</td>\n",
       "    </tr>\n",
       "    <tr>\n",
       "      <th>population_density</th>\n",
       "      <td>-0.334325</td>\n",
       "      <td>1.000000</td>\n",
       "    </tr>\n",
       "  </tbody>\n",
       "</table>\n",
       "</div>"
      ],
      "text/plain": [
       "                    SENIORS_CY  population_density\n",
       "SENIORS_CY            1.000000           -0.334325\n",
       "population_density   -0.334325            1.000000"
      ]
     },
     "metadata": {},
     "output_type": "display_data"
    }
   ],
   "source": [
    "display(df[[\"SENIORS_CY\",\"POC_percentage\"]].corr())\n",
    "display(df[[\"SENIORS_CY\",\"Hispanic_Black_Percentage\"]].corr())\n",
    "display(df[[\"SENIORS_CY\",\"population_density\"]].corr())\n"
   ]
  },
  {
   "cell_type": "code",
   "execution_count": 356,
   "metadata": {},
   "outputs": [
    {
     "data": {
      "text/html": [
       "<div>\n",
       "<style scoped>\n",
       "    .dataframe tbody tr th:only-of-type {\n",
       "        vertical-align: middle;\n",
       "    }\n",
       "\n",
       "    .dataframe tbody tr th {\n",
       "        vertical-align: top;\n",
       "    }\n",
       "\n",
       "    .dataframe thead th {\n",
       "        text-align: right;\n",
       "    }\n",
       "</style>\n",
       "<table border=\"1\" class=\"dataframe\">\n",
       "  <thead>\n",
       "    <tr style=\"text-align: right;\">\n",
       "      <th></th>\n",
       "      <th>hospital_beds_num_area_ratio</th>\n",
       "      <th>POC_percentage</th>\n",
       "    </tr>\n",
       "  </thead>\n",
       "  <tbody>\n",
       "    <tr>\n",
       "      <th>hospital_beds_num_area_ratio</th>\n",
       "      <td>1.00000</td>\n",
       "      <td>-0.04387</td>\n",
       "    </tr>\n",
       "    <tr>\n",
       "      <th>POC_percentage</th>\n",
       "      <td>-0.04387</td>\n",
       "      <td>1.00000</td>\n",
       "    </tr>\n",
       "  </tbody>\n",
       "</table>\n",
       "</div>"
      ],
      "text/plain": [
       "                              hospital_beds_num_area_ratio  POC_percentage\n",
       "hospital_beds_num_area_ratio                       1.00000        -0.04387\n",
       "POC_percentage                                    -0.04387         1.00000"
      ]
     },
     "metadata": {},
     "output_type": "display_data"
    },
    {
     "data": {
      "text/html": [
       "<div>\n",
       "<style scoped>\n",
       "    .dataframe tbody tr th:only-of-type {\n",
       "        vertical-align: middle;\n",
       "    }\n",
       "\n",
       "    .dataframe tbody tr th {\n",
       "        vertical-align: top;\n",
       "    }\n",
       "\n",
       "    .dataframe thead th {\n",
       "        text-align: right;\n",
       "    }\n",
       "</style>\n",
       "<table border=\"1\" class=\"dataframe\">\n",
       "  <thead>\n",
       "    <tr style=\"text-align: right;\">\n",
       "      <th></th>\n",
       "      <th>hospital_beds_num_area_ratio</th>\n",
       "      <th>Hispanic_Black_Percentage</th>\n",
       "    </tr>\n",
       "  </thead>\n",
       "  <tbody>\n",
       "    <tr>\n",
       "      <th>hospital_beds_num_area_ratio</th>\n",
       "      <td>1.000000</td>\n",
       "      <td>0.082902</td>\n",
       "    </tr>\n",
       "    <tr>\n",
       "      <th>Hispanic_Black_Percentage</th>\n",
       "      <td>0.082902</td>\n",
       "      <td>1.000000</td>\n",
       "    </tr>\n",
       "  </tbody>\n",
       "</table>\n",
       "</div>"
      ],
      "text/plain": [
       "                              hospital_beds_num_area_ratio  \\\n",
       "hospital_beds_num_area_ratio                      1.000000   \n",
       "Hispanic_Black_Percentage                         0.082902   \n",
       "\n",
       "                              Hispanic_Black_Percentage  \n",
       "hospital_beds_num_area_ratio                   0.082902  \n",
       "Hispanic_Black_Percentage                      1.000000  "
      ]
     },
     "metadata": {},
     "output_type": "display_data"
    },
    {
     "data": {
      "text/html": [
       "<div>\n",
       "<style scoped>\n",
       "    .dataframe tbody tr th:only-of-type {\n",
       "        vertical-align: middle;\n",
       "    }\n",
       "\n",
       "    .dataframe tbody tr th {\n",
       "        vertical-align: top;\n",
       "    }\n",
       "\n",
       "    .dataframe thead th {\n",
       "        text-align: right;\n",
       "    }\n",
       "</style>\n",
       "<table border=\"1\" class=\"dataframe\">\n",
       "  <thead>\n",
       "    <tr style=\"text-align: right;\">\n",
       "      <th></th>\n",
       "      <th>hospital_beds_num_area_ratio</th>\n",
       "      <th>AVGHINC_CY</th>\n",
       "    </tr>\n",
       "  </thead>\n",
       "  <tbody>\n",
       "    <tr>\n",
       "      <th>hospital_beds_num_area_ratio</th>\n",
       "      <td>1.000000</td>\n",
       "      <td>0.101828</td>\n",
       "    </tr>\n",
       "    <tr>\n",
       "      <th>AVGHINC_CY</th>\n",
       "      <td>0.101828</td>\n",
       "      <td>1.000000</td>\n",
       "    </tr>\n",
       "  </tbody>\n",
       "</table>\n",
       "</div>"
      ],
      "text/plain": [
       "                              hospital_beds_num_area_ratio  AVGHINC_CY\n",
       "hospital_beds_num_area_ratio                      1.000000    0.101828\n",
       "AVGHINC_CY                                        0.101828    1.000000"
      ]
     },
     "metadata": {},
     "output_type": "display_data"
    },
    {
     "data": {
      "text/html": [
       "<div>\n",
       "<style scoped>\n",
       "    .dataframe tbody tr th:only-of-type {\n",
       "        vertical-align: middle;\n",
       "    }\n",
       "\n",
       "    .dataframe tbody tr th {\n",
       "        vertical-align: top;\n",
       "    }\n",
       "\n",
       "    .dataframe thead th {\n",
       "        text-align: right;\n",
       "    }\n",
       "</style>\n",
       "<table border=\"1\" class=\"dataframe\">\n",
       "  <thead>\n",
       "    <tr style=\"text-align: right;\">\n",
       "      <th></th>\n",
       "      <th>hospital_beds_num_area_ratio</th>\n",
       "      <th>population_density</th>\n",
       "    </tr>\n",
       "  </thead>\n",
       "  <tbody>\n",
       "    <tr>\n",
       "      <th>hospital_beds_num_area_ratio</th>\n",
       "      <td>1.000000</td>\n",
       "      <td>-0.298342</td>\n",
       "    </tr>\n",
       "    <tr>\n",
       "      <th>population_density</th>\n",
       "      <td>-0.298342</td>\n",
       "      <td>1.000000</td>\n",
       "    </tr>\n",
       "  </tbody>\n",
       "</table>\n",
       "</div>"
      ],
      "text/plain": [
       "                              hospital_beds_num_area_ratio  population_density\n",
       "hospital_beds_num_area_ratio                      1.000000           -0.298342\n",
       "population_density                               -0.298342            1.000000"
      ]
     },
     "metadata": {},
     "output_type": "display_data"
    }
   ],
   "source": [
    "display(df[[\"hospital_beds_num_area_ratio\",\"POC_percentage\"]].corr())\n",
    "display(df[[\"hospital_beds_num_area_ratio\",\"Hispanic_Black_Percentage\"]].corr())\n",
    "display(df[[\"hospital_beds_num_area_ratio\",\"AVGHINC_CY\"]].corr())\n",
    "display(df[[\"hospital_beds_num_area_ratio\",\"population_density\"]].corr())\n"
   ]
  },
  {
   "cell_type": "code",
   "execution_count": 357,
   "metadata": {},
   "outputs": [
    {
     "data": {
      "text/html": [
       "<div>\n",
       "<style scoped>\n",
       "    .dataframe tbody tr th:only-of-type {\n",
       "        vertical-align: middle;\n",
       "    }\n",
       "\n",
       "    .dataframe tbody tr th {\n",
       "        vertical-align: top;\n",
       "    }\n",
       "\n",
       "    .dataframe thead th {\n",
       "        text-align: right;\n",
       "    }\n",
       "</style>\n",
       "<table border=\"1\" class=\"dataframe\">\n",
       "  <thead>\n",
       "    <tr style=\"text-align: right;\">\n",
       "      <th></th>\n",
       "      <th>population_density</th>\n",
       "      <th>POC_percentage</th>\n",
       "    </tr>\n",
       "  </thead>\n",
       "  <tbody>\n",
       "    <tr>\n",
       "      <th>population_density</th>\n",
       "      <td>1.000000</td>\n",
       "      <td>0.441246</td>\n",
       "    </tr>\n",
       "    <tr>\n",
       "      <th>POC_percentage</th>\n",
       "      <td>0.441246</td>\n",
       "      <td>1.000000</td>\n",
       "    </tr>\n",
       "  </tbody>\n",
       "</table>\n",
       "</div>"
      ],
      "text/plain": [
       "                    population_density  POC_percentage\n",
       "population_density            1.000000        0.441246\n",
       "POC_percentage                0.441246        1.000000"
      ]
     },
     "metadata": {},
     "output_type": "display_data"
    },
    {
     "data": {
      "text/html": [
       "<div>\n",
       "<style scoped>\n",
       "    .dataframe tbody tr th:only-of-type {\n",
       "        vertical-align: middle;\n",
       "    }\n",
       "\n",
       "    .dataframe tbody tr th {\n",
       "        vertical-align: top;\n",
       "    }\n",
       "\n",
       "    .dataframe thead th {\n",
       "        text-align: right;\n",
       "    }\n",
       "</style>\n",
       "<table border=\"1\" class=\"dataframe\">\n",
       "  <thead>\n",
       "    <tr style=\"text-align: right;\">\n",
       "      <th></th>\n",
       "      <th>population_density</th>\n",
       "      <th>Hispanic_Black_Percentage</th>\n",
       "    </tr>\n",
       "  </thead>\n",
       "  <tbody>\n",
       "    <tr>\n",
       "      <th>population_density</th>\n",
       "      <td>1.000000</td>\n",
       "      <td>0.268998</td>\n",
       "    </tr>\n",
       "    <tr>\n",
       "      <th>Hispanic_Black_Percentage</th>\n",
       "      <td>0.268998</td>\n",
       "      <td>1.000000</td>\n",
       "    </tr>\n",
       "  </tbody>\n",
       "</table>\n",
       "</div>"
      ],
      "text/plain": [
       "                           population_density  Hispanic_Black_Percentage\n",
       "population_density                   1.000000                   0.268998\n",
       "Hispanic_Black_Percentage            0.268998                   1.000000"
      ]
     },
     "metadata": {},
     "output_type": "display_data"
    },
    {
     "data": {
      "text/html": [
       "<div>\n",
       "<style scoped>\n",
       "    .dataframe tbody tr th:only-of-type {\n",
       "        vertical-align: middle;\n",
       "    }\n",
       "\n",
       "    .dataframe tbody tr th {\n",
       "        vertical-align: top;\n",
       "    }\n",
       "\n",
       "    .dataframe thead th {\n",
       "        text-align: right;\n",
       "    }\n",
       "</style>\n",
       "<table border=\"1\" class=\"dataframe\">\n",
       "  <thead>\n",
       "    <tr style=\"text-align: right;\">\n",
       "      <th></th>\n",
       "      <th>population_density</th>\n",
       "      <th>AVGHINC_CY</th>\n",
       "    </tr>\n",
       "  </thead>\n",
       "  <tbody>\n",
       "    <tr>\n",
       "      <th>population_density</th>\n",
       "      <td>1.000000</td>\n",
       "      <td>-0.489063</td>\n",
       "    </tr>\n",
       "    <tr>\n",
       "      <th>AVGHINC_CY</th>\n",
       "      <td>-0.489063</td>\n",
       "      <td>1.000000</td>\n",
       "    </tr>\n",
       "  </tbody>\n",
       "</table>\n",
       "</div>"
      ],
      "text/plain": [
       "                    population_density  AVGHINC_CY\n",
       "population_density            1.000000   -0.489063\n",
       "AVGHINC_CY                   -0.489063    1.000000"
      ]
     },
     "metadata": {},
     "output_type": "display_data"
    }
   ],
   "source": [
    "display(df[[\"population_density\",\"POC_percentage\"]].corr())\n",
    "display(df[[\"population_density\",\"Hispanic_Black_Percentage\"]].corr())\n",
    "display(df[[\"population_density\",\"AVGHINC_CY\"]].corr())\n"
   ]
  },
  {
   "cell_type": "code",
   "execution_count": 374,
   "metadata": {},
   "outputs": [],
   "source": [
    "tract_sdf_with_testsites_and_beds[\"POC_neighborhood\"] = tract_sdf_with_testsites_and_beds.POC_percentage > 0.5\n",
    "tract_sdf_with_testsites_and_beds[\"HB_neighborhood\"] = tract_sdf_with_testsites_and_beds.Hispanic_Black_Percentage > 0.5"
   ]
  },
  {
   "cell_type": "code",
   "execution_count": 378,
   "metadata": {},
   "outputs": [
    {
     "name": "stdout",
     "output_type": "stream",
     "text": [
      "2.282952792917276\n",
      "2.3127321732753754\n"
     ]
    }
   ],
   "source": [
    "print(tract_sdf_with_testsites_and_beds.loc[tract_sdf_with_testsites_and_beds[\"POC_neighborhood\"]].overall_risk.mean())\n",
    "print(tract_sdf_with_testsites_and_beds.loc[~tract_sdf_with_testsites_and_beds[\"POC_neighborhood\"]].overall_risk.mean())"
   ]
  },
  {
   "cell_type": "code",
   "execution_count": 379,
   "metadata": {},
   "outputs": [
    {
     "name": "stdout",
     "output_type": "stream",
     "text": [
      "2.278176091403167\n",
      "2.3174799749054973\n"
     ]
    }
   ],
   "source": [
    "print(tract_sdf_with_testsites_and_beds.loc[tract_sdf_with_testsites_and_beds[\"HB_neighborhood\"]].overall_risk.mean())\n",
    "print(tract_sdf_with_testsites_and_beds.loc[~tract_sdf_with_testsites_and_beds[\"HB_neighborhood\"]].overall_risk.mean())"
   ]
  },
  {
   "cell_type": "code",
   "execution_count": 370,
   "metadata": {},
   "outputs": [
    {
     "data": {
      "text/plain": [
       "Index(['index', 'OBJECTID', 'TRACT', 'Shape__Area', 'Shape__Length', 'ID',\n",
       "       'sourceCountry', 'ENRICH_FID', 'aggregationMethod',\n",
       "       'populationToPolygonSizeRating', 'apportionmentConfidence', 'HasData',\n",
       "       'WHITE_CY', 'BLACK_CY', 'AMERIND_CY', 'ASIAN_CY', 'PACIFIC_CY',\n",
       "       'OTHRACE_CY', 'HISPPOP_CY', 'AVGHINC_CY', 'SENIORS_CY', 'TOTPOP_FY',\n",
       "       'SHAPE', 'NUM_TESTSITES', 'NUM_STAFFED_BEDS',\n",
       "       'testing_site_num_population_ratio', 'testing_site_num_area_ratio',\n",
       "       'hospital_beds_num_population_ratio', 'hospital_beds_num_area_ratio',\n",
       "       'population_density', 'POC_percentage', 'Hispanic_Black_Percentage',\n",
       "       'overall_risk', 'Mipopulation_density', 'MMSENIORS_CY'],\n",
       "      dtype='object')"
      ]
     },
     "execution_count": 370,
     "metadata": {},
     "output_type": "execute_result"
    }
   ],
   "source": [
    "tract_sdf_with_testsites_and_beds.columns"
   ]
  },
  {
   "cell_type": "code",
   "execution_count": null,
   "metadata": {},
   "outputs": [],
   "source": [
    "tract_sdf_with_testsites_and_beds[\"BlackOrHispanic\"] = (tract_sdf_with_testsites_and_beds[\"BLACK_CY\"] + \n",
    "                                                        tract_sdf_with_testsites_and_beds[\"BLACK_CY\"])/tract_sdf_with_testsites_and_beds[\"TOTPOP_FY\"]"
   ]
  },
  {
   "cell_type": "code",
   "execution_count": 187,
   "metadata": {},
   "outputs": [],
   "source": [
    "agg_hospitals_by_tract = arcgis.aggregate_points(point_layer=hospitals_in_sd.layers[0],\n",
    "                        polygon_layer=tract_enriched.layers[0],\n",
    "                        keep_boundaries_with_no_points=True,\n",
    "                        summary_fields=[\"NUM_LICENSED_BEDS Sum\",\"NUM_STAFFED_BEDS Sum\",\n",
    "                                       \"NUM_ICU_BEDS Sum\"],\n",
    "                        output_name=\"Aggregated Hospitals Info Based on Tract Geometry2 CW\")"
   ]
  },
  {
   "cell_type": "markdown",
   "metadata": {},
   "source": [
    "# Data transformation and Joining\n",
    "##\n",
    "## Aggregate_points\n",
    "1. Use aggregate points to aggregate number of hospital beds within each tract\n",
    "    \n",
    "2. Use aggregate points to aggregate number of test sites within each tract\n",
    "## Merge Table\n",
    "merge the two table based on tract id, now we have a single table containing all the information\n",
    "\n",
    "## Calculate testing sites and hospital beds ratio\n",
    "- Number of hospital beds per person, number of hospital beds per sq ft of area\n",
    "- Number of test sites per person, number of test sites per sq ft of area"
   ]
  },
  {
   "cell_type": "code",
   "execution_count": 159,
   "metadata": {},
   "outputs": [
    {
     "data": {
      "text/html": [
       "<div class=\"item_container\" style=\"height: auto; overflow: hidden; border: 1px solid #cfcfcf; border-radius: 2px; background: #f6fafa; line-height: 1.21429em; padding: 10px;\">\n",
       "                    <div class=\"item_left\" style=\"width: 210px; float: left;\">\n",
       "                       <a href='https://UCSDOnline.maps.arcgis.com/home/item.html?id=a20e77f6ce7741079b243e8317c46e50' target='_blank'>\n",
       "                        <img src='http://static.arcgis.com/images/desktopapp.png' class=\"itemThumbnail\">\n",
       "                       </a>\n",
       "                    </div>\n",
       "\n",
       "                    <div class=\"item_right\"     style=\"float: none; width: auto; overflow: hidden;\">\n",
       "                        <a href='https://UCSDOnline.maps.arcgis.com/home/item.html?id=a20e77f6ce7741079b243e8317c46e50' target='_blank'><b>Aggregated Hospitals Info Based on Tract Geometry CW</b>\n",
       "                        </a>\n",
       "                        <br/><img src='https://UCSDOnline.maps.arcgis.com/home/js/jsapi/esri/css/images/item_type_icons/featureshosted16.png' style=\"vertical-align:middle;\">Feature Layer Collection by caw062_dsc170fa20\n",
       "                        <br/>Last Modified: December 09, 2020\n",
       "                        <br/>0 comments, 0 views\n",
       "                    </div>\n",
       "                </div>\n",
       "                "
      ],
      "text/plain": [
       "<Item title:\"Aggregated Hospitals Info Based on Tract Geometry CW\" type:Feature Layer Collection owner:caw062_dsc170fa20>"
      ]
     },
     "execution_count": 159,
     "metadata": {},
     "output_type": "execute_result"
    }
   ],
   "source": [
    "agg_hospitals_by_tract"
   ]
  },
  {
   "cell_type": "code",
   "execution_count": 226,
   "metadata": {},
   "outputs": [
    {
     "data": {
      "text/html": [
       "<div>\n",
       "<style scoped>\n",
       "    .dataframe tbody tr th:only-of-type {\n",
       "        vertical-align: middle;\n",
       "    }\n",
       "\n",
       "    .dataframe tbody tr th {\n",
       "        vertical-align: top;\n",
       "    }\n",
       "\n",
       "    .dataframe thead th {\n",
       "        text-align: right;\n",
       "    }\n",
       "</style>\n",
       "<table border=\"1\" class=\"dataframe\">\n",
       "  <thead>\n",
       "    <tr style=\"text-align: right;\">\n",
       "      <th></th>\n",
       "      <th>OBJECTID</th>\n",
       "      <th>Point_Count</th>\n",
       "      <th>TRACT</th>\n",
       "      <th>Shape__Area</th>\n",
       "      <th>Shape__Length</th>\n",
       "      <th>ID</th>\n",
       "      <th>sourceCountry</th>\n",
       "      <th>ENRICH_FID</th>\n",
       "      <th>aggregationMethod</th>\n",
       "      <th>populationToPolygonSizeRating</th>\n",
       "      <th>...</th>\n",
       "      <th>PACIFIC_CY</th>\n",
       "      <th>OTHRACE_CY</th>\n",
       "      <th>AVGHINC_CY</th>\n",
       "      <th>SENIORS_CY</th>\n",
       "      <th>TOTPOP_FY</th>\n",
       "      <th>SUM_NUM_LICENSED_BEDS</th>\n",
       "      <th>SUM_NUM_STAFFED_BEDS</th>\n",
       "      <th>SUM_NUM_ICU_BEDS</th>\n",
       "      <th>AnalysisArea</th>\n",
       "      <th>SHAPE</th>\n",
       "    </tr>\n",
       "  </thead>\n",
       "  <tbody>\n",
       "    <tr>\n",
       "      <th>0</th>\n",
       "      <td>1</td>\n",
       "      <td>0</td>\n",
       "      <td>100.09</td>\n",
       "      <td>5.706507e+06</td>\n",
       "      <td>11624.940443</td>\n",
       "      <td>None</td>\n",
       "      <td>None</td>\n",
       "      <td>NaN</td>\n",
       "      <td>None</td>\n",
       "      <td>NaN</td>\n",
       "      <td>...</td>\n",
       "      <td>NaN</td>\n",
       "      <td>NaN</td>\n",
       "      <td>NaN</td>\n",
       "      <td>NaN</td>\n",
       "      <td>NaN</td>\n",
       "      <td>NaN</td>\n",
       "      <td>NaN</td>\n",
       "      <td>NaN</td>\n",
       "      <td>1.561156</td>\n",
       "      <td>{\"rings\": [[[-13030762.9732, 3834409.4041], [-...</td>\n",
       "    </tr>\n",
       "    <tr>\n",
       "      <th>1</th>\n",
       "      <td>2</td>\n",
       "      <td>0</td>\n",
       "      <td>101.09</td>\n",
       "      <td>1.825573e+07</td>\n",
       "      <td>20476.009010</td>\n",
       "      <td>None</td>\n",
       "      <td>None</td>\n",
       "      <td>NaN</td>\n",
       "      <td>None</td>\n",
       "      <td>NaN</td>\n",
       "      <td>...</td>\n",
       "      <td>NaN</td>\n",
       "      <td>NaN</td>\n",
       "      <td>NaN</td>\n",
       "      <td>NaN</td>\n",
       "      <td>NaN</td>\n",
       "      <td>NaN</td>\n",
       "      <td>NaN</td>\n",
       "      <td>NaN</td>\n",
       "      <td>4.994066</td>\n",
       "      <td>{\"rings\": [[[-13032405.9875, 3837636.0075], [-...</td>\n",
       "    </tr>\n",
       "    <tr>\n",
       "      <th>2</th>\n",
       "      <td>3</td>\n",
       "      <td>0</td>\n",
       "      <td>102.00</td>\n",
       "      <td>1.087801e+07</td>\n",
       "      <td>20915.846941</td>\n",
       "      <td>None</td>\n",
       "      <td>None</td>\n",
       "      <td>NaN</td>\n",
       "      <td>None</td>\n",
       "      <td>NaN</td>\n",
       "      <td>...</td>\n",
       "      <td>NaN</td>\n",
       "      <td>NaN</td>\n",
       "      <td>NaN</td>\n",
       "      <td>NaN</td>\n",
       "      <td>NaN</td>\n",
       "      <td>NaN</td>\n",
       "      <td>NaN</td>\n",
       "      <td>NaN</td>\n",
       "      <td>2.974849</td>\n",
       "      <td>{\"rings\": [[[-13039150.0578, 3840209.4356], [-...</td>\n",
       "    </tr>\n",
       "    <tr>\n",
       "      <th>3</th>\n",
       "      <td>4</td>\n",
       "      <td>0</td>\n",
       "      <td>100.15</td>\n",
       "      <td>5.719417e+07</td>\n",
       "      <td>51097.472623</td>\n",
       "      <td>None</td>\n",
       "      <td>None</td>\n",
       "      <td>NaN</td>\n",
       "      <td>None</td>\n",
       "      <td>NaN</td>\n",
       "      <td>...</td>\n",
       "      <td>NaN</td>\n",
       "      <td>NaN</td>\n",
       "      <td>NaN</td>\n",
       "      <td>NaN</td>\n",
       "      <td>NaN</td>\n",
       "      <td>NaN</td>\n",
       "      <td>NaN</td>\n",
       "      <td>NaN</td>\n",
       "      <td>15.642260</td>\n",
       "      <td>{\"rings\": [[[-13014568.5947, 3839939.2675], [-...</td>\n",
       "    </tr>\n",
       "    <tr>\n",
       "      <th>4</th>\n",
       "      <td>5</td>\n",
       "      <td>0</td>\n",
       "      <td>213.02</td>\n",
       "      <td>5.405922e+08</td>\n",
       "      <td>140968.563502</td>\n",
       "      <td>None</td>\n",
       "      <td>None</td>\n",
       "      <td>NaN</td>\n",
       "      <td>None</td>\n",
       "      <td>NaN</td>\n",
       "      <td>...</td>\n",
       "      <td>NaN</td>\n",
       "      <td>NaN</td>\n",
       "      <td>NaN</td>\n",
       "      <td>NaN</td>\n",
       "      <td>NaN</td>\n",
       "      <td>NaN</td>\n",
       "      <td>NaN</td>\n",
       "      <td>NaN</td>\n",
       "      <td>147.500913</td>\n",
       "      <td>{\"rings\": [[[-12995127.8686, 3867959.1906], [-...</td>\n",
       "    </tr>\n",
       "  </tbody>\n",
       "</table>\n",
       "<p>5 rows × 26 columns</p>\n",
       "</div>"
      ],
      "text/plain": [
       "   OBJECTID  Point_Count   TRACT   Shape__Area  Shape__Length    ID  \\\n",
       "0         1            0  100.09  5.706507e+06   11624.940443  None   \n",
       "1         2            0  101.09  1.825573e+07   20476.009010  None   \n",
       "2         3            0  102.00  1.087801e+07   20915.846941  None   \n",
       "3         4            0  100.15  5.719417e+07   51097.472623  None   \n",
       "4         5            0  213.02  5.405922e+08  140968.563502  None   \n",
       "\n",
       "  sourceCountry  ENRICH_FID aggregationMethod  populationToPolygonSizeRating  \\\n",
       "0          None         NaN              None                            NaN   \n",
       "1          None         NaN              None                            NaN   \n",
       "2          None         NaN              None                            NaN   \n",
       "3          None         NaN              None                            NaN   \n",
       "4          None         NaN              None                            NaN   \n",
       "\n",
       "   ...  PACIFIC_CY  OTHRACE_CY  AVGHINC_CY  SENIORS_CY  TOTPOP_FY  \\\n",
       "0  ...         NaN         NaN         NaN         NaN        NaN   \n",
       "1  ...         NaN         NaN         NaN         NaN        NaN   \n",
       "2  ...         NaN         NaN         NaN         NaN        NaN   \n",
       "3  ...         NaN         NaN         NaN         NaN        NaN   \n",
       "4  ...         NaN         NaN         NaN         NaN        NaN   \n",
       "\n",
       "   SUM_NUM_LICENSED_BEDS  SUM_NUM_STAFFED_BEDS  SUM_NUM_ICU_BEDS  \\\n",
       "0                    NaN                   NaN               NaN   \n",
       "1                    NaN                   NaN               NaN   \n",
       "2                    NaN                   NaN               NaN   \n",
       "3                    NaN                   NaN               NaN   \n",
       "4                    NaN                   NaN               NaN   \n",
       "\n",
       "   AnalysisArea                                              SHAPE  \n",
       "0      1.561156  {\"rings\": [[[-13030762.9732, 3834409.4041], [-...  \n",
       "1      4.994066  {\"rings\": [[[-13032405.9875, 3837636.0075], [-...  \n",
       "2      2.974849  {\"rings\": [[[-13039150.0578, 3840209.4356], [-...  \n",
       "3     15.642260  {\"rings\": [[[-13014568.5947, 3839939.2675], [-...  \n",
       "4    147.500913  {\"rings\": [[[-12995127.8686, 3867959.1906], [-...  \n",
       "\n",
       "[5 rows x 26 columns]"
      ]
     },
     "execution_count": 226,
     "metadata": {},
     "output_type": "execute_result"
    }
   ],
   "source": [
    "agg_hospitals_by_tract_sdf = agg_hospitals_by_tract.layers[0].query().sdf\n",
    "agg_hospitals_by_tract_sdf.head()"
   ]
  },
  {
   "cell_type": "code",
   "execution_count": 192,
   "metadata": {},
   "outputs": [
    {
     "data": {
      "text/plain": [
       "Index(['OBJECTID', 'Point_Count', 'TRACT', 'Shape__Area', 'Shape__Length',\n",
       "       'ID', 'sourceCountry', 'ENRICH_FID', 'aggregationMethod',\n",
       "       'populationToPolygonSizeRating', 'apportionmentConfidence', 'HasData',\n",
       "       'WHITE_CY', 'BLACK_CY', 'AMERIND_CY', 'ASIAN_CY', 'PACIFIC_CY',\n",
       "       'OTHRACE_CY', 'AVGHINC_CY', 'SENIORS_CY', 'TOTPOP_FY',\n",
       "       'SUM_NUM_LICENSED_BEDS', 'SUM_NUM_STAFFED_BEDS', 'SUM_NUM_ICU_BEDS',\n",
       "       'AnalysisArea', 'SHAPE'],\n",
       "      dtype='object')"
      ]
     },
     "execution_count": 192,
     "metadata": {},
     "output_type": "execute_result"
    }
   ],
   "source": [
    "agg_hospitals_by_tract_sdf.columns"
   ]
  },
  {
   "cell_type": "code",
   "execution_count": null,
   "metadata": {},
   "outputs": [],
   "source": []
  },
  {
   "cell_type": "code",
   "execution_count": 161,
   "metadata": {},
   "outputs": [
    {
     "data": {
      "text/plain": [
       "Index(['OBJECTID', 'facilityid', 'name', 'fulladdr', 'municipality', 'agency',\n",
       "       'agencytype', 'phone', 'agencyurl', 'operhours', 'comments',\n",
       "       'Instructions', 'numvehicles', 'testcapacity', 'status', 'CreationDate',\n",
       "       'EditDate', 'Vetted', 'drive_through', 'appt_only', 'referral_required',\n",
       "       'services_offered_onsite', 'call_first', 'virtual_screening',\n",
       "       'health_dept_url', 'State', 'GlobalID', 'data_source', 'county',\n",
       "       'red_flag', 'vol_note', 'public_form', 'start_date', 'end_date',\n",
       "       'type_of_test', 'test_processing', 'fine_print', 'vehicle_required',\n",
       "       'facility_type', 'Outside_FID', 'filter', 'minimum_age',\n",
       "       'Same_Day_Results', 'take_home_test', 'SHAPE'],\n",
       "      dtype='object')"
      ]
     },
     "execution_count": 161,
     "metadata": {},
     "output_type": "execute_result"
    }
   ],
   "source": [
    "testing_sites_in_sd.layers[0].query().sdf.columns"
   ]
  },
  {
   "cell_type": "code",
   "execution_count": 190,
   "metadata": {},
   "outputs": [],
   "source": [
    "agg_testing_sites_by_tract = arcgis.aggregate_points(point_layer=testing_sites_in_sd.layers[0],\n",
    "                        polygon_layer=tract_enriched.layers[0],\n",
    "                        keep_boundaries_with_no_points=True,\n",
    "                        output_name=\"Aggregated Testing Sites By Type2 CW\")"
   ]
  },
  {
   "cell_type": "code",
   "execution_count": 169,
   "metadata": {},
   "outputs": [
    {
     "data": {
      "text/html": [
       "<div class=\"item_container\" style=\"height: auto; overflow: hidden; border: 1px solid #cfcfcf; border-radius: 2px; background: #f6fafa; line-height: 1.21429em; padding: 10px;\">\n",
       "                    <div class=\"item_left\" style=\"width: 210px; float: left;\">\n",
       "                       <a href='https://UCSDOnline.maps.arcgis.com/home/item.html?id=6429a6f037d5471c8d9571b4e8562054' target='_blank'>\n",
       "                        <img src='http://static.arcgis.com/images/desktopapp.png' class=\"itemThumbnail\">\n",
       "                       </a>\n",
       "                    </div>\n",
       "\n",
       "                    <div class=\"item_right\"     style=\"float: none; width: auto; overflow: hidden;\">\n",
       "                        <a href='https://UCSDOnline.maps.arcgis.com/home/item.html?id=6429a6f037d5471c8d9571b4e8562054' target='_blank'><b>Aggregated Testing Sites3 CW</b>\n",
       "                        </a>\n",
       "                        <br/><img src='https://UCSDOnline.maps.arcgis.com/home/js/jsapi/esri/css/images/item_type_icons/featureshosted16.png' style=\"vertical-align:middle;\">Feature Layer Collection by caw062_dsc170fa20\n",
       "                        <br/>Last Modified: December 09, 2020\n",
       "                        <br/>0 comments, 0 views\n",
       "                    </div>\n",
       "                </div>\n",
       "                "
      ],
      "text/plain": [
       "<Item title:\"Aggregated Testing Sites3 CW\" type:Feature Layer Collection owner:caw062_dsc170fa20>"
      ]
     },
     "execution_count": 169,
     "metadata": {},
     "output_type": "execute_result"
    }
   ],
   "source": [
    "agg_testing_sites_by_tract"
   ]
  },
  {
   "cell_type": "code",
   "execution_count": 227,
   "metadata": {},
   "outputs": [
    {
     "data": {
      "text/html": [
       "<div>\n",
       "<style scoped>\n",
       "    .dataframe tbody tr th:only-of-type {\n",
       "        vertical-align: middle;\n",
       "    }\n",
       "\n",
       "    .dataframe tbody tr th {\n",
       "        vertical-align: top;\n",
       "    }\n",
       "\n",
       "    .dataframe thead th {\n",
       "        text-align: right;\n",
       "    }\n",
       "</style>\n",
       "<table border=\"1\" class=\"dataframe\">\n",
       "  <thead>\n",
       "    <tr style=\"text-align: right;\">\n",
       "      <th></th>\n",
       "      <th>OBJECTID</th>\n",
       "      <th>Point_Count</th>\n",
       "      <th>TRACT</th>\n",
       "      <th>Shape__Area</th>\n",
       "      <th>Shape__Length</th>\n",
       "      <th>ID</th>\n",
       "      <th>sourceCountry</th>\n",
       "      <th>ENRICH_FID</th>\n",
       "      <th>aggregationMethod</th>\n",
       "      <th>populationToPolygonSizeRating</th>\n",
       "      <th>...</th>\n",
       "      <th>BLACK_CY</th>\n",
       "      <th>AMERIND_CY</th>\n",
       "      <th>ASIAN_CY</th>\n",
       "      <th>PACIFIC_CY</th>\n",
       "      <th>OTHRACE_CY</th>\n",
       "      <th>AVGHINC_CY</th>\n",
       "      <th>SENIORS_CY</th>\n",
       "      <th>TOTPOP_FY</th>\n",
       "      <th>AnalysisArea</th>\n",
       "      <th>SHAPE</th>\n",
       "    </tr>\n",
       "  </thead>\n",
       "  <tbody>\n",
       "    <tr>\n",
       "      <th>0</th>\n",
       "      <td>1</td>\n",
       "      <td>1</td>\n",
       "      <td>100.09</td>\n",
       "      <td>5.706507e+06</td>\n",
       "      <td>11624.940443</td>\n",
       "      <td>None</td>\n",
       "      <td>None</td>\n",
       "      <td>NaN</td>\n",
       "      <td>None</td>\n",
       "      <td>NaN</td>\n",
       "      <td>...</td>\n",
       "      <td>NaN</td>\n",
       "      <td>NaN</td>\n",
       "      <td>NaN</td>\n",
       "      <td>NaN</td>\n",
       "      <td>NaN</td>\n",
       "      <td>NaN</td>\n",
       "      <td>NaN</td>\n",
       "      <td>NaN</td>\n",
       "      <td>1.561156</td>\n",
       "      <td>{\"rings\": [[[-13030762.9732, 3834409.4041], [-...</td>\n",
       "    </tr>\n",
       "    <tr>\n",
       "      <th>1</th>\n",
       "      <td>2</td>\n",
       "      <td>0</td>\n",
       "      <td>101.09</td>\n",
       "      <td>1.825573e+07</td>\n",
       "      <td>20476.009010</td>\n",
       "      <td>None</td>\n",
       "      <td>None</td>\n",
       "      <td>NaN</td>\n",
       "      <td>None</td>\n",
       "      <td>NaN</td>\n",
       "      <td>...</td>\n",
       "      <td>NaN</td>\n",
       "      <td>NaN</td>\n",
       "      <td>NaN</td>\n",
       "      <td>NaN</td>\n",
       "      <td>NaN</td>\n",
       "      <td>NaN</td>\n",
       "      <td>NaN</td>\n",
       "      <td>NaN</td>\n",
       "      <td>4.994066</td>\n",
       "      <td>{\"rings\": [[[-13032405.9875, 3837636.0075], [-...</td>\n",
       "    </tr>\n",
       "    <tr>\n",
       "      <th>2</th>\n",
       "      <td>3</td>\n",
       "      <td>2</td>\n",
       "      <td>102.00</td>\n",
       "      <td>1.087801e+07</td>\n",
       "      <td>20915.846941</td>\n",
       "      <td>None</td>\n",
       "      <td>None</td>\n",
       "      <td>NaN</td>\n",
       "      <td>None</td>\n",
       "      <td>NaN</td>\n",
       "      <td>...</td>\n",
       "      <td>NaN</td>\n",
       "      <td>NaN</td>\n",
       "      <td>NaN</td>\n",
       "      <td>NaN</td>\n",
       "      <td>NaN</td>\n",
       "      <td>NaN</td>\n",
       "      <td>NaN</td>\n",
       "      <td>NaN</td>\n",
       "      <td>2.974849</td>\n",
       "      <td>{\"rings\": [[[-13039150.0578, 3840209.4356], [-...</td>\n",
       "    </tr>\n",
       "    <tr>\n",
       "      <th>3</th>\n",
       "      <td>4</td>\n",
       "      <td>1</td>\n",
       "      <td>100.15</td>\n",
       "      <td>5.719417e+07</td>\n",
       "      <td>51097.472623</td>\n",
       "      <td>None</td>\n",
       "      <td>None</td>\n",
       "      <td>NaN</td>\n",
       "      <td>None</td>\n",
       "      <td>NaN</td>\n",
       "      <td>...</td>\n",
       "      <td>NaN</td>\n",
       "      <td>NaN</td>\n",
       "      <td>NaN</td>\n",
       "      <td>NaN</td>\n",
       "      <td>NaN</td>\n",
       "      <td>NaN</td>\n",
       "      <td>NaN</td>\n",
       "      <td>NaN</td>\n",
       "      <td>15.642260</td>\n",
       "      <td>{\"rings\": [[[-13014568.5947, 3839939.2675], [-...</td>\n",
       "    </tr>\n",
       "    <tr>\n",
       "      <th>4</th>\n",
       "      <td>5</td>\n",
       "      <td>0</td>\n",
       "      <td>213.02</td>\n",
       "      <td>5.405922e+08</td>\n",
       "      <td>140968.563502</td>\n",
       "      <td>None</td>\n",
       "      <td>None</td>\n",
       "      <td>NaN</td>\n",
       "      <td>None</td>\n",
       "      <td>NaN</td>\n",
       "      <td>...</td>\n",
       "      <td>NaN</td>\n",
       "      <td>NaN</td>\n",
       "      <td>NaN</td>\n",
       "      <td>NaN</td>\n",
       "      <td>NaN</td>\n",
       "      <td>NaN</td>\n",
       "      <td>NaN</td>\n",
       "      <td>NaN</td>\n",
       "      <td>147.500913</td>\n",
       "      <td>{\"rings\": [[[-12995127.8686, 3867959.1906], [-...</td>\n",
       "    </tr>\n",
       "  </tbody>\n",
       "</table>\n",
       "<p>5 rows × 23 columns</p>\n",
       "</div>"
      ],
      "text/plain": [
       "   OBJECTID  Point_Count   TRACT   Shape__Area  Shape__Length    ID  \\\n",
       "0         1            1  100.09  5.706507e+06   11624.940443  None   \n",
       "1         2            0  101.09  1.825573e+07   20476.009010  None   \n",
       "2         3            2  102.00  1.087801e+07   20915.846941  None   \n",
       "3         4            1  100.15  5.719417e+07   51097.472623  None   \n",
       "4         5            0  213.02  5.405922e+08  140968.563502  None   \n",
       "\n",
       "  sourceCountry  ENRICH_FID aggregationMethod  populationToPolygonSizeRating  \\\n",
       "0          None         NaN              None                            NaN   \n",
       "1          None         NaN              None                            NaN   \n",
       "2          None         NaN              None                            NaN   \n",
       "3          None         NaN              None                            NaN   \n",
       "4          None         NaN              None                            NaN   \n",
       "\n",
       "   ...  BLACK_CY  AMERIND_CY  ASIAN_CY  PACIFIC_CY  OTHRACE_CY  AVGHINC_CY  \\\n",
       "0  ...       NaN         NaN       NaN         NaN         NaN         NaN   \n",
       "1  ...       NaN         NaN       NaN         NaN         NaN         NaN   \n",
       "2  ...       NaN         NaN       NaN         NaN         NaN         NaN   \n",
       "3  ...       NaN         NaN       NaN         NaN         NaN         NaN   \n",
       "4  ...       NaN         NaN       NaN         NaN         NaN         NaN   \n",
       "\n",
       "   SENIORS_CY  TOTPOP_FY  AnalysisArea  \\\n",
       "0         NaN        NaN      1.561156   \n",
       "1         NaN        NaN      4.994066   \n",
       "2         NaN        NaN      2.974849   \n",
       "3         NaN        NaN     15.642260   \n",
       "4         NaN        NaN    147.500913   \n",
       "\n",
       "                                               SHAPE  \n",
       "0  {\"rings\": [[[-13030762.9732, 3834409.4041], [-...  \n",
       "1  {\"rings\": [[[-13032405.9875, 3837636.0075], [-...  \n",
       "2  {\"rings\": [[[-13039150.0578, 3840209.4356], [-...  \n",
       "3  {\"rings\": [[[-13014568.5947, 3839939.2675], [-...  \n",
       "4  {\"rings\": [[[-12995127.8686, 3867959.1906], [-...  \n",
       "\n",
       "[5 rows x 23 columns]"
      ]
     },
     "execution_count": 227,
     "metadata": {},
     "output_type": "execute_result"
    }
   ],
   "source": [
    "agg_testing_sites_by_tract_sdf = agg_testing_sites_by_tract.layers[0].query().sdf\n",
    "agg_testing_sites_by_tract_sdf.head()"
   ]
  },
  {
   "cell_type": "code",
   "execution_count": 175,
   "metadata": {},
   "outputs": [
    {
     "data": {
      "text/plain": [
       "Index(['OBJECTID', 'Point_Count', 'TRACT', 'Shape__Area', 'Shape__Length',\n",
       "       'ID', 'sourceCountry', 'ENRICH_FID', 'aggregationMethod',\n",
       "       'populationToPolygonSizeRating', 'apportionmentConfidence', 'HasData',\n",
       "       'WHITE_CY', 'BLACK_CY', 'AMERIND_CY', 'ASIAN_CY', 'PACIFIC_CY',\n",
       "       'OTHRACE_CY', 'AVGHINC_CY', 'SENIORS_CY', 'TOTPOP_FY',\n",
       "       'SUM_testcapacity', 'AnalysisArea', 'SHAPE'],\n",
       "      dtype='object')"
      ]
     },
     "execution_count": 175,
     "metadata": {},
     "output_type": "execute_result"
    }
   ],
   "source": [
    "agg_testing_sites_by_tract_sdf.columns"
   ]
  },
  {
   "cell_type": "code",
   "execution_count": 228,
   "metadata": {},
   "outputs": [],
   "source": [
    "set_columns = set(agg_testing_sites_by_tract_sdf.columns.values).intersection(set(agg_hospitals_by_tract_sdf.columns.values))"
   ]
  },
  {
   "cell_type": "code",
   "execution_count": 229,
   "metadata": {},
   "outputs": [],
   "source": [
    "set_columns.remove(\"Point_Count\")"
   ]
  },
  {
   "cell_type": "code",
   "execution_count": 230,
   "metadata": {},
   "outputs": [],
   "source": [
    "testing_hospitals_merged = agg_hospitals_by_tract_sdf.merge(agg_testing_sites_by_tract_sdf, on=list(set_columns))"
   ]
  },
  {
   "cell_type": "code",
   "execution_count": 231,
   "metadata": {},
   "outputs": [],
   "source": [
    "testing_hospitals_merged = testing_hospitals_merged.rename({\"Point_Count_y\":\"Point_Count_TestSites\",\n",
    "                                                           \"Point_Count_x\":\"Point_Count_Hospitals\"},axis=1)"
   ]
  },
  {
   "cell_type": "code",
   "execution_count": 242,
   "metadata": {},
   "outputs": [],
   "source": [
    "#Creating new columns as ratios of testing sites by area size and population\n",
    "testing_site_num_population_ratio = testing_hospitals_merged.Point_Count_TestSites / testing_hospitals_merged.TOTPOP_FY\n",
    "testing_site_num_area_ratio = testing_hospitals_merged.Point_Count_TestSites / testing_hospitals_merged.Shape__Area\n",
    "\n",
    "#Creating new columns as ratios of num of hospital beds by area size and population\n",
    "\n",
    "number_beds = testing_hospitals_merged[\"SUM_NUM_STAFFED_BEDS\"].fillna(0) #only count the number of staffed beds \n",
    "hospital_beds_num_population_ratio = number_beds / testing_hospitals_merged.TOTPOP_FY\n",
    "hospital_beds_num_area_ratio = number_beds / testing_hospitals_merged.Shape__Area\n"
   ]
  },
  {
   "cell_type": "code",
   "execution_count": 243,
   "metadata": {},
   "outputs": [],
   "source": [
    "testing_hospitals_merged[\"testing_site_num_population_ratio\"] = testing_site_num_population_ratio\n",
    "testing_hospitals_merged[\"testing_site_num_area_ratio\"] = testing_site_num_area_ratio\n",
    "\n",
    "testing_hospitals_merged[\"hospital_beds_num_population_ratio\"] = hospital_beds_num_population_ratio\n",
    "testing_hospitals_merged[\"hospital_beds_num_area_ratio\"] = hospital_beds_num_area_ratio\n",
    "\n"
   ]
  },
  {
   "cell_type": "code",
   "execution_count": 369,
   "metadata": {},
   "outputs": [
    {
     "ename": "NameError",
     "evalue": "name 'agg_testing_sites_by_tract_sdf' is not defined",
     "output_type": "error",
     "traceback": [
      "\u001b[0;31m---------------------------------------------------------------------------\u001b[0m",
      "\u001b[0;31mNameError\u001b[0m                                 Traceback (most recent call last)",
      "\u001b[0;32m<ipython-input-369-69a6d4f741e1>\u001b[0m in \u001b[0;36m<module>\u001b[0;34m\u001b[0m\n\u001b[0;32m----> 1\u001b[0;31m \u001b[0magg_testing_sites_by_tract_sdf\u001b[0m\u001b[0;34m\u001b[0m\u001b[0;34m\u001b[0m\u001b[0m\n\u001b[0m",
      "\u001b[0;31mNameError\u001b[0m: name 'agg_testing_sites_by_tract_sdf' is not defined"
     ]
    }
   ],
   "source": [
    "agg_testing_sites_by_tract_sdf"
   ]
  }
 ],
 "metadata": {
  "kernelspec": {
   "display_name": "Python 3",
   "language": "python",
   "name": "python3"
  },
  "language_info": {
   "codemirror_mode": {
    "name": "ipython",
    "version": 3
   },
   "file_extension": ".py",
   "mimetype": "text/x-python",
   "name": "python",
   "nbconvert_exporter": "python",
   "pygments_lexer": "ipython3",
   "version": "3.7.6"
  }
 },
 "nbformat": 4,
 "nbformat_minor": 4
}
